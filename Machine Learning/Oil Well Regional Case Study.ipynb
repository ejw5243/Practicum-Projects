{
 "cells": [
  {
   "cell_type": "markdown",
   "metadata": {},
   "source": [
    "# OilyGiant Mining Well Case Study\n",
    "\n",
    "## Purpose\n",
    "\n",
    "The purpose of this project is to determine the best region for a new well based on numerous wells from three regions and the resulting product harvested from each well. The best region is determined from the region resulting in the highest average profit per well while also minimizing risk of money loss.\n",
    "\n",
    "## Table of Contents\n",
    "<a href='#General Data Information and Preparation'>General Data Information and Preparation</a>\n",
    "\n",
    "<a href='#Model Development'>Model Development</a>\n",
    "\n",
    "<a href='#Data Separation'>Data Separation</a>\n",
    "\n",
    "<a href='#Model Training'>Model Training</a>\n",
    "\n",
    "<a href='#Profit Calculations'>Profit Calculations</a>\n",
    "\n",
    "<a href='#Regional Profit'>Regional Profit</a>\n",
    "\n",
    "<a href='#Bootstrapping Data'>Bootstrapping Data</a>\n",
    "\n",
    "<a href='#Bootstrapping Conclusion'>Bootstrapping Conclusion</a>\n",
    "\n",
    "<a href='#Overall Conclusion'>Overall Conclusion</a>\n",
    "\n",
    "<a id='General Data Information and Preparation'></a>\n",
    "## General Data Information and Preparation\n",
    "\n",
    "Initially, a general look at the data is performed and the necessary sklearn modules are imported. Since linear regression is the model training preference, the respective modules for that are imported."
   ]
  },
  {
   "cell_type": "code",
   "execution_count": 21,
   "metadata": {},
   "outputs": [],
   "source": [
    "#Import necessary libraries and modules\n",
    "import pandas as pd\n",
    "import numpy as np\n",
    "import scipy as sc\n",
    "import matplotlib as plt\n",
    "from scipy import stats as st\n",
    "from sklearn.model_selection import train_test_split\n",
    "from sklearn.metrics import mean_squared_error\n",
    "from sklearn.linear_model import LinearRegression\n",
    "from sklearn.preprocessing import LabelEncoder\n",
    "from sklearn.utils import shuffle"
   ]
  },
  {
   "cell_type": "code",
   "execution_count": 2,
   "metadata": {},
   "outputs": [
    {
     "name": "stdout",
     "output_type": "stream",
     "text": [
      "      id        f0        f1        f2     product\n",
      "0  txEyH  0.705745 -0.497823  1.221170  105.280062\n",
      "1  2acmU  1.334711 -0.340164  4.365080   73.037750\n",
      "2  409Wp  1.022732  0.151990  1.419926   85.265647\n",
      "3  iJLyR -0.032172  0.139033  2.978566  168.620776\n",
      "4  Xdl7t  1.988431  0.155413  4.751769  154.036647\n",
      "\n",
      "<class 'pandas.core.frame.DataFrame'>\n",
      "RangeIndex: 100000 entries, 0 to 99999\n",
      "Data columns (total 5 columns):\n",
      "id         100000 non-null object\n",
      "f0         100000 non-null float64\n",
      "f1         100000 non-null float64\n",
      "f2         100000 non-null float64\n",
      "product    100000 non-null float64\n",
      "dtypes: float64(4), object(1)\n",
      "memory usage: 3.8+ MB\n",
      "None\n",
      "\n",
      "      id         f0         f1        f2     product\n",
      "0  kBEdx -15.001348  -8.276000 -0.005876    3.179103\n",
      "1  62mP7  14.272088  -3.475083  0.999183   26.953261\n",
      "2  vyE1P   6.263187  -5.948386  5.001160  134.766305\n",
      "3  KcrkZ -13.081196 -11.506057  4.999415  137.945408\n",
      "4  AHL4O  12.702195  -8.147433  5.004363  134.766305\n",
      "\n",
      "<class 'pandas.core.frame.DataFrame'>\n",
      "RangeIndex: 100000 entries, 0 to 99999\n",
      "Data columns (total 5 columns):\n",
      "id         100000 non-null object\n",
      "f0         100000 non-null float64\n",
      "f1         100000 non-null float64\n",
      "f2         100000 non-null float64\n",
      "product    100000 non-null float64\n",
      "dtypes: float64(4), object(1)\n",
      "memory usage: 3.8+ MB\n",
      "None\n",
      "\n",
      "      id        f0        f1        f2     product\n",
      "0  fwXo0 -1.146987  0.963328 -0.828965   27.758673\n",
      "1  WJtFt  0.262778  0.269839 -2.530187   56.069697\n",
      "2  ovLUW  0.194587  0.289035 -5.586433   62.871910\n",
      "3  q6cA6  2.236060 -0.553760  0.930038  114.572842\n",
      "4  WPMUX -0.515993  1.716266  5.899011  149.600746\n",
      "\n",
      "<class 'pandas.core.frame.DataFrame'>\n",
      "RangeIndex: 100000 entries, 0 to 99999\n",
      "Data columns (total 5 columns):\n",
      "id         100000 non-null object\n",
      "f0         100000 non-null float64\n",
      "f1         100000 non-null float64\n",
      "f2         100000 non-null float64\n",
      "product    100000 non-null float64\n",
      "dtypes: float64(4), object(1)\n",
      "memory usage: 3.8+ MB\n",
      "None\n",
      "\n"
     ]
    }
   ],
   "source": [
    "region_0 = pd.read_csv('/datasets/geo_data_0.csv')\n",
    "region_1 = pd.read_csv('/datasets/geo_data_1.csv')\n",
    "region_2 = pd.read_csv('/datasets/geo_data_2.csv')\n",
    "\n",
    "regions = [region_0, region_1, region_2]\n",
    "\n",
    "for region in regions:\n",
    "    print(region.head())\n",
    "    print('')\n",
    "    print(region.info())\n",
    "    print('')"
   ]
  },
  {
   "cell_type": "markdown",
   "metadata": {},
   "source": [
    "From the initial look at the data, none of the three datasets are missing values. Since the features in each dataset are quantitative and linear regression is being used, the `id` attribute must be converted to a numerical scale or removed to allow for model training. Since this column is just an identifier and has no effect on the resulting well's production, this column shall be removed."
   ]
  },
  {
   "cell_type": "code",
   "execution_count": 3,
   "metadata": {},
   "outputs": [],
   "source": [
    "#Remove id column for each data set\n",
    "region_0.drop(columns = 'id', inplace=True)\n",
    "region_1.drop(columns = 'id', inplace=True)\n",
    "region_2.drop(columns = 'id', inplace=True)"
   ]
  },
  {
   "cell_type": "markdown",
   "metadata": {},
   "source": [
    "With the data prepared, it can now be used for model training.\n",
    "\n",
    "<a id='Model Development'></a>\n",
    "## Model Development\n",
    "\n",
    "<a id='Data Separation'></a>\n",
    "### Data Separation\n",
    "\n",
    "To begin the data for each region is separated into a training dataset and a validation dataset at a ratio of 75:25. Since the goal of this model is to predict the `product`, it is set as the target and the other attributes are features for each dataset. "
   ]
  },
  {
   "cell_type": "code",
   "execution_count": 4,
   "metadata": {},
   "outputs": [],
   "source": [
    "#Sets features and targets for each dataset\n",
    "target_region_0 = region_0['product']\n",
    "features_region_0 = region_0.drop('product', axis=1)\n",
    "\n",
    "target_region_1 = region_1['product']\n",
    "features_region_1 = region_1.drop('product', axis=1)\n",
    "\n",
    "target_region_2 = region_2['product']\n",
    "features_region_2 = region_2.drop('product', axis=1)\n",
    "\n",
    "#Separates each dataset into training and validation datasets\n",
    "features_train_region_0, features_valid_region_0, target_train_region_0, target_valid_region_0 = train_test_split(features_region_0, target_region_0, test_size = 0.25, random_state=12345)\n",
    "\n",
    "features_train_region_1, features_valid_region_1, target_train_region_1, target_valid_region_1 = train_test_split(features_region_1, target_region_1, test_size = 0.25, random_state=12345)\n",
    "\n",
    "features_train_region_2, features_valid_region_2, target_train_region_2, target_valid_region_2 = train_test_split(features_region_2, target_region_2, test_size = 0.25, random_state=12345)"
   ]
  },
  {
   "cell_type": "markdown",
   "metadata": {},
   "source": [
    "<a id='Model Training'></a>\n",
    "### Model Training\n",
    "\n",
    "A linear regression model is trained for each region with the respective training datasets. The model is then evaluated against the validation datasets. For each region, the average volume of reserves (the `product`) is calculated, and the root mean squared error (RMSE) is calculated.\n",
    "\n",
    "**Region 0 Model**"
   ]
  },
  {
   "cell_type": "code",
   "execution_count": 5,
   "metadata": {},
   "outputs": [
    {
     "name": "stdout",
     "output_type": "stream",
     "text": [
      "Region 0\n",
      "Average Predicted Reserves: 92.59 (thousand barrels)\n",
      "RMSE: 37.58 (thousand barrels)\n"
     ]
    }
   ],
   "source": [
    "#Creates and trains linear regression model for region 0 data\n",
    "region_0_model = LinearRegression()\n",
    "region_0_model.fit(features_train_region_0, target_train_region_0)\n",
    "\n",
    "#Checks model against validation dataset\n",
    "region_0_prediction = region_0_model.predict(features_valid_region_0)\n",
    "\n",
    "#Calculates average and RMSE for the predicted values in the validation dataset\n",
    "region_0_rmse = mean_squared_error(target_valid_region_0, region_0_prediction) ** 0.5\n",
    "region_0_predicted_average = region_0_prediction.mean()\n",
    "\n",
    "print('Region 0')\n",
    "print(\"Average Predicted Reserves: {:.2f} (thousand barrels)\".format(region_0_predicted_average))\n",
    "print('RMSE: {:.2f} (thousand barrels)'.format(region_0_rmse))"
   ]
  },
  {
   "cell_type": "markdown",
   "metadata": {},
   "source": [
    "**Region 1 Model**"
   ]
  },
  {
   "cell_type": "code",
   "execution_count": 6,
   "metadata": {},
   "outputs": [
    {
     "name": "stdout",
     "output_type": "stream",
     "text": [
      "Region 1\n",
      "Average Predicted Reserves: 68.73 (thousand barrels)\n",
      "RMSE: 0.89 (thousand barrels)\n"
     ]
    }
   ],
   "source": [
    "#Creates and trains linear regression model for region 1 data\n",
    "region_1_model = LinearRegression()\n",
    "region_1_model.fit(features_train_region_1, target_train_region_1)\n",
    "\n",
    "#Checks model against validation dataset\n",
    "region_1_prediction = region_1_model.predict(features_valid_region_1)\n",
    "\n",
    "#Calculates average and RMSE for the predicted values in the validation dataset\n",
    "region_1_rmse = mean_squared_error(target_valid_region_1, region_1_prediction) ** 0.5\n",
    "region_1_predicted_average = region_1_prediction.mean()\n",
    "\n",
    "print('Region 1')\n",
    "print(\"Average Predicted Reserves: {:.2f} (thousand barrels)\".format(region_1_predicted_average))\n",
    "print('RMSE: {:.2f} (thousand barrels)'.format(region_1_rmse))"
   ]
  },
  {
   "cell_type": "markdown",
   "metadata": {},
   "source": [
    "**Region 2 Model**"
   ]
  },
  {
   "cell_type": "code",
   "execution_count": 7,
   "metadata": {},
   "outputs": [
    {
     "name": "stdout",
     "output_type": "stream",
     "text": [
      "Region 2\n",
      "Average Predicted Reserves: 94.97 (thousand barrels)\n",
      "RMSE: 40.03 (thousand barrels)\n"
     ]
    }
   ],
   "source": [
    "#Creates and trains linear regression model for region 2 data\n",
    "region_2_model = LinearRegression()\n",
    "region_2_model.fit(features_train_region_2, target_train_region_2)\n",
    "\n",
    "#Checks model against validation dataset\n",
    "region_2_prediction = region_2_model.predict(features_valid_region_2)\n",
    "\n",
    "#Calculates average and RMSE for the predicted values in the validation dataset\n",
    "region_2_rmse = mean_squared_error(target_valid_region_2, region_2_prediction) ** 0.5\n",
    "region_2_predicted_average = region_2_prediction.mean()\n",
    "\n",
    "print('Region 2')\n",
    "print(\"Average Predicted Reserves: {:.2f} (thousand barrels)\".format(region_2_predicted_average))\n",
    "print('RMSE: {:.2f} (thousand barrels)'.format(region_2_rmse))"
   ]
  },
  {
   "cell_type": "markdown",
   "metadata": {},
   "source": [
    "#### Model Results Conclusion\n",
    "\n",
    "Regions 0 and 2 have very similar data distributions with similar averages around 92 thousand barrels and similar RMSE around 40 thousand barrels. Region 1, on the other hand, has a slightly lower average of around 69 thousand barrels, but has a much tighter distribution around that mean with a RMSE of only 0.89 thousand barrels.\n",
    "\n",
    "<a id='Profit Calculations'></a>\n",
    "## Profit Calculations\n",
    "\n",
    "With the models trained, the profit of each well, as well as potential profits of regions can be calculated based on the costs and sales of the wells and oil product, respectively. The current cost per well and revenue price for a single unit of product (one thousand barrels) are stored in variables to allow for ease of adjusting should the market change in the future.\n",
    "\n",
    "Using the current market values, the breakeven point for a well is calculated to determine how much volume of reserves is required in order for a well to start turning a profit."
   ]
  },
  {
   "cell_type": "code",
   "execution_count": 8,
   "metadata": {},
   "outputs": [
    {
     "name": "stdout",
     "output_type": "stream",
     "text": [
      "The volume of reserve each well must produce in order to start turning a profit is 111.1 thousand barrels.\n"
     ]
    }
   ],
   "source": [
    "#Cost to set up each well\n",
    "cost_per_well = 100000000/200\n",
    "\n",
    "#Current market price for 1000 barrels\n",
    "revenue_per_unit_product = 4500\n",
    "\n",
    "#Calculates breakeven point for each well\n",
    "breakeven_point = cost_per_well / revenue_per_unit_product\n",
    "\n",
    "print('The volume of reserve each well must produce in order to start turning a profit is {:.1f} thousand barrels.'.format(breakeven_point))"
   ]
  },
  {
   "cell_type": "markdown",
   "metadata": {},
   "source": [
    "111 thousand barrels is required for any single well to begin turning a profit. This value is higher than the mean volume of reserve from any region, so on average, most of the wells from the existing dataset did not turn a profit.\n",
    "\n",
    "A function is created considering the current market prices that calculates the total profit for a given number of wells."
   ]
  },
  {
   "cell_type": "code",
   "execution_count": 9,
   "metadata": {},
   "outputs": [],
   "source": [
    "#Purpose of this function is to calculate the profit of a set number of wells based on the number of wells being evaluated \n",
    "#and the volume of reserve produced by all the wells. Total profit is returned.\n",
    "def profit_calculator(number_wells, total_product):\n",
    "    total_cost = cost_per_well * number_wells\n",
    "    total_revenue = total_product*revenue_per_unit_product\n",
    "    profit = total_revenue - total_cost\n",
    "    return profit"
   ]
  },
  {
   "cell_type": "markdown",
   "metadata": {},
   "source": [
    "<a id='Regional Profit'></a>\n",
    "### Regional Profit\n",
    "\n",
    "Each region is evaluated from a profit perspective. For each region, a sample of 500 random wells from the validation dataset are evaluated. Out of these 500 wells, the top 200 are considered from the perspective of the model prediction. The true `product` values for the top 200 wells are then used in determining the profit from the region.\n",
    "\n",
    "**Region 0 Sample**"
   ]
  },
  {
   "cell_type": "code",
   "execution_count": 10,
   "metadata": {},
   "outputs": [
    {
     "name": "stdout",
     "output_type": "stream",
     "text": [
      "The total profit from the top 200 wells from the Region 0 subsample size of 500 is 6,790,689 USD.\n"
     ]
    }
   ],
   "source": [
    "#Creates full validation dataset\n",
    "region_0_validation = features_valid_region_0.join(target_valid_region_0)\n",
    "\n",
    "#Creates random subsample of 500 data points from validation data set\n",
    "region_0_subsample = region_0_validation.sample(n = 500, random_state = 12345)\n",
    "\n",
    "#Selects the top 200 product producing wells\n",
    "features_region_0_subsample = region_0_subsample.drop(['product'], axis=1)\n",
    "region_0_subsample_prediction = region_0_model.predict(features_region_0_subsample)\n",
    "region_0_subsample['prediction'] = pd.Series(region_0_subsample_prediction, index=region_0_subsample.index)\n",
    "region_0_subsample_top_200 = region_0_subsample.sort_values(by = 'prediction', ascending = False).head(200)\n",
    "\n",
    "#Calculates profit for the region using profit calculator function\n",
    "region_0_sample_profit = profit_calculator(len(region_0_subsample_top_200), region_0_subsample_top_200['product'].sum())\n",
    "\n",
    "print('The total profit from the top 200 wells from the Region 0 subsample size of 500 is {:,.0f} USD.'.format(region_0_sample_profit))"
   ]
  },
  {
   "cell_type": "markdown",
   "metadata": {},
   "source": [
    "**Region 1 Sample**"
   ]
  },
  {
   "cell_type": "code",
   "execution_count": 11,
   "metadata": {},
   "outputs": [
    {
     "name": "stdout",
     "output_type": "stream",
     "text": [
      "The total profit from the top 200 wells from the Region 1 subsample size of 500 is 7,794,799 USD.\n"
     ]
    }
   ],
   "source": [
    "#Creates full validation dataset\n",
    "region_1_validation = features_valid_region_1.join(target_valid_region_1)\n",
    "\n",
    "#Creates random subsample of 500 data points\n",
    "region_1_subsample = region_1_validation.sample(n = 500, random_state = 12345)\n",
    "\n",
    "#Selects the top 200 product producing wells\n",
    "features_region_1_subsample = region_1_subsample.drop(['product'], axis=1)\n",
    "region_1_subsample_prediction = region_1_model.predict(features_region_1_subsample)\n",
    "region_1_subsample['prediction'] = pd.Series(region_1_subsample_prediction, index=region_1_subsample.index)\n",
    "region_1_subsample_top_200 = region_1_subsample.sort_values(by = 'prediction', ascending = False).head(200)\n",
    "\n",
    "#Calculates profit for the region using profit calculator function\n",
    "region_1_sample_profit = profit_calculator(len(region_1_subsample_top_200), region_1_subsample_top_200['product'].sum())\n",
    "\n",
    "print('The total profit from the top 200 wells from the Region 1 subsample size of 500 is {:,.0f} USD.'.format(region_1_sample_profit))"
   ]
  },
  {
   "cell_type": "markdown",
   "metadata": {},
   "source": [
    "**Region 2 Sample**"
   ]
  },
  {
   "cell_type": "code",
   "execution_count": 12,
   "metadata": {},
   "outputs": [
    {
     "name": "stdout",
     "output_type": "stream",
     "text": [
      "The total profit from the top 200 wells from the Region 2 subsample size of 500 is 4,399,901 USD.\n"
     ]
    }
   ],
   "source": [
    "#Creates full validation dataset\n",
    "region_2_validation = features_valid_region_2.join(target_valid_region_2)\n",
    "\n",
    "#Creates random subsample of 500 data points\n",
    "region_2_subsample = region_2_validation.sample(n = 500, random_state = 12345)\n",
    "\n",
    "#Selects the top 200 product producing wells\n",
    "features_region_2_subsample = region_2_subsample.drop(['product'], axis=1)\n",
    "region_2_subsample_prediction = region_2_model.predict(features_region_2_subsample)\n",
    "region_2_subsample['prediction'] = pd.Series(region_2_subsample_prediction, index=region_2_subsample.index)\n",
    "region_2_subsample_top_200 = region_2_subsample.sort_values(by = 'prediction', ascending = False).head(200)\n",
    "\n",
    "#Calculates profit for the region using profit calculator function\n",
    "region_2_sample_profit = profit_calculator(len(region_2_subsample_top_200), region_2_subsample_top_200['product'].sum())\n",
    "\n",
    "print('The total profit from the top 200 wells from the Region 2 subsample size of 500 is {:,.0f} USD.'.format(region_2_sample_profit))"
   ]
  },
  {
   "cell_type": "markdown",
   "metadata": {},
   "source": [
    "#### Regional Profit Conclusion\n",
    "\n",
    "Based on the profits determined from the 500 existing samples of each region, region 1 is the most profitable at nearly 8 million USD. Region 0 is second with approximately 7 million USD and region 2 is the least profitable with just over 4 million USD.\n",
    "\n",
    "<a id='Bootstrapping Data'></a>\n",
    "## Bootstrapping Data\n",
    "\n",
    "As opposed to relying on just the single sample of 500 data points utilized above in determining a region's profit; the bootstrapping technique is utilized to create 1000 different samples of 500 data points to get a better understanding of the profit distributions for each region.\n",
    "\n",
    "For each region, the average profit, 95% confidence interval for profit, and the risk of loss (negative profit) are calculated for each region based on 1000 samples of 500 data points where the top 200 producing wells are chosen for determining the region's profit. "
   ]
  },
  {
   "cell_type": "code",
   "execution_count": 13,
   "metadata": {},
   "outputs": [],
   "source": [
    "#Set up random state instance\n",
    "state = np.random.RandomState(12345)"
   ]
  },
  {
   "cell_type": "markdown",
   "metadata": {},
   "source": [
    "**Region 0**"
   ]
  },
  {
   "cell_type": "code",
   "execution_count": 24,
   "metadata": {},
   "outputs": [
    {
     "name": "stdout",
     "output_type": "stream",
     "text": [
      "Region 0 - Bootstrapping - 200 sample sizes - 1000 samples\n",
      "Average profit: 3,883,141 USD.\n",
      "95% confidence interval: -1,218,109 USD to 9,007,071 USD.\n",
      "Risk of loss: 7.31%\n"
     ]
    }
   ],
   "source": [
    "#Creates empty list for including all the sample profits and recombines validation dataset\n",
    "region_0_profit_values = []\n",
    "\n",
    "#Creates 1000 different random samples. For each sample, 500 data points are chosen, the existing respective region model is \n",
    "#used to predict the resulting product. The resulting profit for the top 200 wells is calculated and stored in the profit list\n",
    "for i in range(1000):\n",
    "    region_0_bootsample = region_0_validation.sample(n = 500, random_state=state, replace = True)\n",
    "    features_region_0_bootsample = region_0_bootsample.drop(['product'], axis = 1)\n",
    "    region_0_bootsample_prediction = region_0_model.predict(features_region_0_bootsample)\n",
    "    region_0_bootsample['prediction'] = pd.Series(region_0_bootsample_prediction, index=region_0_bootsample.index)\n",
    "    region_0_bootsample_prediction_top_200 = region_0_bootsample.sort_values(by = ['prediction'], ascending = False).head(200)\n",
    "    region_0_bootsample_profit = profit_calculator(len(region_0_bootsample_prediction_top_200), region_0_bootsample_prediction_top_200['product'].sum())\n",
    "    region_0_profit_values.append(region_0_bootsample_profit)\n",
    "\n",
    "#Converts profit list to series\n",
    "region_0_profit_values = pd.Series(region_0_profit_values)\n",
    "\n",
    "#Creates a distribution out of the series in order to determine what percent change of having 0 profit\n",
    "region_0_profit_dist = st.norm(region_0_profit_values.mean(), np.std(region_0_profit_values))\n",
    "\n",
    "print('Region 0 - Bootstrapping - 200 sample sizes - 1000 samples')\n",
    "print('Average profit: {:,.0f} USD.'.format(region_0_profit_values.mean()))\n",
    "print('95% confidence interval: {:,.0f} USD to {:,.0f} USD.'.format(region_0_profit_values.quantile(0.0275), region_0_profit_values.quantile(0.975)))\n",
    "print('Risk of loss: {:.2%}'.format(region_0_profit_dist.cdf(0)))"
   ]
  },
  {
   "cell_type": "markdown",
   "metadata": {},
   "source": [
    "**Region 1**"
   ]
  },
  {
   "cell_type": "code",
   "execution_count": 15,
   "metadata": {},
   "outputs": [
    {
     "name": "stdout",
     "output_type": "stream",
     "text": [
      "Region 1 - Bootstrapping - 200 sample sizes - 1000 samples\n",
      "Average profit: 4,611,558 USD.\n",
      "95% confidence interval: 907,539 USD to 8,629,521 USD.\n",
      "Risk of loss: 1.01%\n"
     ]
    }
   ],
   "source": [
    "#Creates empty list for including all the sample profits and recombines validation dataset\n",
    "region_1_profit_values = []\n",
    "\n",
    "#Creates 1000 different random samples. For each sample, 500 data points are chosen, the existing respective region model is \n",
    "#used to predict the resulting product. The resulting profit for the top 200 wells is calculated and stored in the profit list\n",
    "for i in range(1000):\n",
    "    region_1_bootsample = region_1_validation.sample(n = 500, random_state=state, replace = True)\n",
    "    features_region_1_bootsample = region_1_bootsample.drop(['product'], axis = 1)\n",
    "    region_1_bootsample_prediction = region_1_model.predict(features_region_1_bootsample)\n",
    "    region_1_bootsample['prediction'] = pd.Series(region_1_bootsample_prediction, index=region_1_bootsample.index)\n",
    "    region_1_bootsample_prediction_top_200 = region_1_bootsample.sort_values(by = ['prediction'], ascending = False).head(200)\n",
    "    region_1_bootsample_profit = profit_calculator(len(region_1_bootsample_prediction_top_200), region_1_bootsample_prediction_top_200['product'].sum())\n",
    "    region_1_profit_values.append(region_1_bootsample_profit)\n",
    "\n",
    "#Converts profit list to series\n",
    "region_1_profit_values = pd.Series(region_1_profit_values)\n",
    "\n",
    "#Creates a distribution out of the series in order to determine what percent change of having 0 profit\n",
    "region_1_profit_dist = st.norm(region_1_profit_values.mean(), np.std(region_1_profit_values))\n",
    "\n",
    "print('Region 1 - Bootstrapping - 200 sample sizes - 1000 samples')\n",
    "print('Average profit: {:,.0f} USD.'.format(region_1_profit_values.mean()))\n",
    "print('95% confidence interval: {:,.0f} USD to {:,.0f} USD.'.format(region_1_profit_values.quantile(0.0275), region_1_profit_values.quantile(0.975)))\n",
    "print('Risk of loss: {:.2%}'.format(region_1_profit_dist.cdf(0)))"
   ]
  },
  {
   "cell_type": "markdown",
   "metadata": {},
   "source": [
    "**Region 2**"
   ]
  },
  {
   "cell_type": "code",
   "execution_count": 16,
   "metadata": {},
   "outputs": [
    {
     "name": "stdout",
     "output_type": "stream",
     "text": [
      "Region 2 - Bootstrapping - 200 sample sizes - 1000 samples\n",
      "Average profit: 3,929,505 USD.\n",
      "95% confidence interval: -1,003,150 USD to 9,345,629 USD.\n",
      "Risk of loss: 7.31%\n"
     ]
    }
   ],
   "source": [
    "#Creates empty list for including all the sample profitsand recombines validation dataset\n",
    "region_2_profit_values = []\n",
    "\n",
    "#Creates 1000 different random samples. For each sample, 500 data points are chosen, the existing respective region model is \n",
    "#used to predict the resulting product. The resulting profit for the top 200 wells is calculated and stored in the profit list\n",
    "for i in range(1000):\n",
    "    region_2_bootsample = region_2_validation.sample(n = 500, random_state=state, replace = True)\n",
    "    features_region_2_bootsample = region_2_bootsample.drop(['product'], axis = 1)\n",
    "    region_2_bootsample_prediction = region_2_model.predict(features_region_2_bootsample)\n",
    "    region_2_bootsample['prediction'] = pd.Series(region_2_bootsample_prediction, index=region_2_bootsample.index)\n",
    "    region_2_bootsample_prediction_top_200 = region_2_bootsample.sort_values(by = ['prediction'], ascending = False).head(200)\n",
    "    region_2_bootsample_profit = profit_calculator(len(region_2_bootsample_prediction_top_200), region_2_bootsample_prediction_top_200['product'].sum())\n",
    "    region_2_profit_values.append(region_2_bootsample_profit)\n",
    "\n",
    "#Converts profit list to series\n",
    "region_2_profit_values = pd.Series(region_2_profit_values)\n",
    "\n",
    "#Creates a distribution out of the series in order to determine what percent change of having 0 profit\n",
    "region_2_profit_dist = st.norm(region_2_profit_values.mean(), np.std(region_2_profit_values))\n",
    "\n",
    "print('Region 2 - Bootstrapping - 200 sample sizes - 1000 samples')\n",
    "print('Average profit: {:,.0f} USD.'.format(region_2_profit_values.mean()))\n",
    "print('95% confidence interval: {:,.0f} USD to {:,.0f} USD.'.format(region_2_profit_values.quantile(0.0275), region_2_profit_values.quantile(0.975)))\n",
    "print('Risk of loss: {:.2%}'.format(region_2_profit_dist.cdf(0)))"
   ]
  },
  {
   "cell_type": "markdown",
   "metadata": {},
   "source": [
    "<a id='Bootstrapping Conclusion'></a>\n",
    "### Bootstrapping Conclusion\n",
    "\n",
    "Region 0 and 2 have similar profit distributions, as expected, since they were similar from the initial look at the single sample of data. The average profits for these regions are only slightly lower than region 1, but the 95% confidence is much wider and reaches into negative profit. Similarly the risk of loss is significantly higher than region 1 and both region 0 and 2 are too far above the required risk percentage. On the other hand, region 1 has a lower maximum profit in the 95% confidence range, but the 95% confidence range does not potentially involve negative profit and the risk of loss is only around 1%.\n",
    "\n",
    "<a id='Overall Conclusion'></a>\n",
    "# Overall Conclusion\n",
    "\n",
    "The purpose of this project was to develop a model that predicted the profit of oil wells in three distinct regions using existing data on the three regions. The data from the three regions were split into training and validation datasets and a linear regression model was trained for each region.\n",
    "\n",
    "A subset of the initial dataset from each region was evaluated to determine the total profit from the 200 highest producing wells in the region's sample. Regions 0 and 2 had high average volume of reserves, a moderate profit for the sample evaluated, but also large RMSE, whereas region 1 had a lower average volume of reserves, yet the highest profit for the sample evaluated, and also a much smaller RMSE.\n",
    "\n",
    "Bootstrapping was used to evaluate 1000 different samples from each region to get a better understanding of the profit distribution of each region. Contrary to the single sample results, region 1 actually ended up having the highest average profit after bootstrapping, but it did reflect the single sample results in that the 95% confidence interval was not as large as regions 0 and 2 as portrayed by the low RMSE. The large RMSE and thus large 95% confidence intervals resulted in wide profit ranges for regions 0 and 2, resulting in negative profit well over the threshold of 2.5% of the time.\n",
    "\n",
    "Based on the data analysis performed, **Region 1** is recommended for further development of oil wells. It was the only region that met the required risk of loss percentage and also had an average profit higher than the other two regions. Although it did not have the highest potential profit, the risk associated with that is not worth the investment."
   ]
  }
 ],
 "metadata": {
  "kernelspec": {
   "display_name": "Python 3",
   "language": "python",
   "name": "python3"
  },
  "language_info": {
   "codemirror_mode": {
    "name": "ipython",
    "version": 3
   },
   "file_extension": ".py",
   "mimetype": "text/x-python",
   "name": "python",
   "nbconvert_exporter": "python",
   "pygments_lexer": "ipython3",
   "version": "3.7.8"
  },
  "toc": {
   "base_numbering": 1,
   "nav_menu": {},
   "number_sections": true,
   "sideBar": true,
   "skip_h1_title": true,
   "title_cell": "Table of Contents",
   "title_sidebar": "Contents",
   "toc_cell": false,
   "toc_position": {},
   "toc_section_display": true,
   "toc_window_display": false
  }
 },
 "nbformat": 4,
 "nbformat_minor": 2
}
