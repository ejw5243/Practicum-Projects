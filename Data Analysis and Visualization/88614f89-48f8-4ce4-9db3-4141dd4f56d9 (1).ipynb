{
 "cells": [
  {
   "cell_type": "markdown",
   "metadata": {},
   "source": [
    "# Review\n",
    "\n",
    "Hello, Evan! Congratulations on your first project!\n",
    "\n",
    "My name is Yaroslav. I'm going to review your project and try to help you make it even better! Let's get started!\n",
    "\n",
    "You can find my comments in <span style=\"color:green\">green</span>, <span style=\"color:yellow\">yellow</span> and <span style=\"color:red\">red</span> boxes like this:\n",
    "\n",
    "<div class=\"alert alert-block alert-success\">\n",
    "<b>Success:</b> if everything is done successfully.\n",
    "</div>\n",
    "\n",
    "<div class=\"alert alert-block alert-warning\">\n",
    "<b>Improve:</b> if i can give some recommendations to improve your project.\n",
    "</div>\n",
    "\n",
    "<div class=\"alert alert-block alert-danger\">\n",
    "<b>Needs fixing:</b> if the block requires some corrections. Project can't be accepted with the red comments.\n",
    "</div>\n",
    "\n",
    "Please don't delete my comments. If you have any questions, please write them and I will be happy to help you! For example, you can use <span style=\"color:blue\">blue</span> boxes like this: \n",
    "\n",
    "<div class=\"alert alert-block alert-info\">\n",
    "Student's comment.\n",
    "</div>\n",
    "\n",
    "### <span style=\"color:orange\">General feedback</span>\n",
    "\n",
    "- One of the best projects on this topic that I have reviewed. Thank you very much for such a good report. It's obvious that you put a lot of time and effort into it. It was nice to review it and interesting to read your comments.\n",
    "- You write competent and detailed conclusions. I was impressed with the overall conclusion. The ability to draw the right conclusions is important for an analyst/DS.\n",
    "- I've left an \"improve\" comments (however there are very few of them), which could help you to polish your project and further develop your skills. It doesn't mean that you've done something wrong, it just contains some advice on how it could be improved.\n",
    "\n",
    "\n",
    "The project is accepted, good luck with your further education!\n",
    "\n",
    "---"
   ]
  },
  {
   "cell_type": "markdown",
   "metadata": {},
   "source": [
    "## Analyzing borrowers’ risk of defaulting\n",
    "\n",
    "Your project is to prepare a report for a bank’s loan division. You’ll need to find out if a customer’s marital status and number of children has an impact on whether they will default on a loan. The bank already has some data on customers’ credit worthiness.\n",
    "\n",
    "Your report will be considered when building a **credit scoring** of a potential customer. A ** credit scoring ** is used to evaluate the ability of a potential borrower to repay their loan."
   ]
  },
  {
   "cell_type": "markdown",
   "metadata": {},
   "source": [
    "<div class=\"alert alert-block alert-warning\">\n",
    "<b>Reviewer's comment</b> \n",
    "    \n",
    "The introduction to the project is very important in the analytical report. With it, people who will watch it can fully understand what is it about. I also recommend describing the data attributes, work plan, and clearly state the purpose of the study. Follow the [link](https://sebastianraschka.com/Articles/2014_ipython_internal_links.html) to see how to make a clickable table of contents - this is very convenient, but not necessary.\n",
    "\n",
    "</div>"
   ]
  },
  {
   "cell_type": "markdown",
   "metadata": {},
   "source": [
    "### General Data Information"
   ]
  },
  {
   "cell_type": "code",
   "execution_count": 1,
   "metadata": {},
   "outputs": [
    {
     "name": "stdout",
     "output_type": "stream",
     "text": [
      "<class 'pandas.core.frame.DataFrame'>\n",
      "RangeIndex: 21525 entries, 0 to 21524\n",
      "Data columns (total 12 columns):\n",
      "children            21525 non-null int64\n",
      "days_employed       19351 non-null float64\n",
      "dob_years           21525 non-null int64\n",
      "education           21525 non-null object\n",
      "education_id        21525 non-null int64\n",
      "family_status       21525 non-null object\n",
      "family_status_id    21525 non-null int64\n",
      "gender              21525 non-null object\n",
      "income_type         21525 non-null object\n",
      "debt                21525 non-null int64\n",
      "total_income        19351 non-null float64\n",
      "purpose             21525 non-null object\n",
      "dtypes: float64(2), int64(5), object(5)\n",
      "memory usage: 2.0+ MB\n"
     ]
    },
    {
     "data": {
      "text/html": [
       "<div>\n",
       "<style scoped>\n",
       "    .dataframe tbody tr th:only-of-type {\n",
       "        vertical-align: middle;\n",
       "    }\n",
       "\n",
       "    .dataframe tbody tr th {\n",
       "        vertical-align: top;\n",
       "    }\n",
       "\n",
       "    .dataframe thead th {\n",
       "        text-align: right;\n",
       "    }\n",
       "</style>\n",
       "<table border=\"1\" class=\"dataframe\">\n",
       "  <thead>\n",
       "    <tr style=\"text-align: right;\">\n",
       "      <th></th>\n",
       "      <th>children</th>\n",
       "      <th>days_employed</th>\n",
       "      <th>dob_years</th>\n",
       "      <th>education</th>\n",
       "      <th>education_id</th>\n",
       "      <th>family_status</th>\n",
       "      <th>family_status_id</th>\n",
       "      <th>gender</th>\n",
       "      <th>income_type</th>\n",
       "      <th>debt</th>\n",
       "      <th>total_income</th>\n",
       "      <th>purpose</th>\n",
       "    </tr>\n",
       "  </thead>\n",
       "  <tbody>\n",
       "    <tr>\n",
       "      <td>0</td>\n",
       "      <td>1</td>\n",
       "      <td>-8437.673028</td>\n",
       "      <td>42</td>\n",
       "      <td>bachelor's degree</td>\n",
       "      <td>0</td>\n",
       "      <td>married</td>\n",
       "      <td>0</td>\n",
       "      <td>F</td>\n",
       "      <td>employee</td>\n",
       "      <td>0</td>\n",
       "      <td>40620.102</td>\n",
       "      <td>purchase of the house</td>\n",
       "    </tr>\n",
       "    <tr>\n",
       "      <td>1</td>\n",
       "      <td>1</td>\n",
       "      <td>-4024.803754</td>\n",
       "      <td>36</td>\n",
       "      <td>secondary education</td>\n",
       "      <td>1</td>\n",
       "      <td>married</td>\n",
       "      <td>0</td>\n",
       "      <td>F</td>\n",
       "      <td>employee</td>\n",
       "      <td>0</td>\n",
       "      <td>17932.802</td>\n",
       "      <td>car purchase</td>\n",
       "    </tr>\n",
       "    <tr>\n",
       "      <td>2</td>\n",
       "      <td>0</td>\n",
       "      <td>-5623.422610</td>\n",
       "      <td>33</td>\n",
       "      <td>Secondary Education</td>\n",
       "      <td>1</td>\n",
       "      <td>married</td>\n",
       "      <td>0</td>\n",
       "      <td>M</td>\n",
       "      <td>employee</td>\n",
       "      <td>0</td>\n",
       "      <td>23341.752</td>\n",
       "      <td>purchase of the house</td>\n",
       "    </tr>\n",
       "    <tr>\n",
       "      <td>3</td>\n",
       "      <td>3</td>\n",
       "      <td>-4124.747207</td>\n",
       "      <td>32</td>\n",
       "      <td>secondary education</td>\n",
       "      <td>1</td>\n",
       "      <td>married</td>\n",
       "      <td>0</td>\n",
       "      <td>M</td>\n",
       "      <td>employee</td>\n",
       "      <td>0</td>\n",
       "      <td>42820.568</td>\n",
       "      <td>supplementary education</td>\n",
       "    </tr>\n",
       "    <tr>\n",
       "      <td>4</td>\n",
       "      <td>0</td>\n",
       "      <td>340266.072047</td>\n",
       "      <td>53</td>\n",
       "      <td>secondary education</td>\n",
       "      <td>1</td>\n",
       "      <td>civil partnership</td>\n",
       "      <td>1</td>\n",
       "      <td>F</td>\n",
       "      <td>retiree</td>\n",
       "      <td>0</td>\n",
       "      <td>25378.572</td>\n",
       "      <td>to have a wedding</td>\n",
       "    </tr>\n",
       "  </tbody>\n",
       "</table>\n",
       "</div>"
      ],
      "text/plain": [
       "   children  days_employed  dob_years            education  education_id  \\\n",
       "0         1   -8437.673028         42    bachelor's degree             0   \n",
       "1         1   -4024.803754         36  secondary education             1   \n",
       "2         0   -5623.422610         33  Secondary Education             1   \n",
       "3         3   -4124.747207         32  secondary education             1   \n",
       "4         0  340266.072047         53  secondary education             1   \n",
       "\n",
       "       family_status  family_status_id gender income_type  debt  total_income  \\\n",
       "0            married                 0      F    employee     0     40620.102   \n",
       "1            married                 0      F    employee     0     17932.802   \n",
       "2            married                 0      M    employee     0     23341.752   \n",
       "3            married                 0      M    employee     0     42820.568   \n",
       "4  civil partnership                 1      F     retiree     0     25378.572   \n",
       "\n",
       "                   purpose  \n",
       "0    purchase of the house  \n",
       "1             car purchase  \n",
       "2    purchase of the house  \n",
       "3  supplementary education  \n",
       "4        to have a wedding  "
      ]
     },
     "execution_count": 1,
     "metadata": {},
     "output_type": "execute_result"
    }
   ],
   "source": [
    "#Import pandas library and bring in data file to data variable\n",
    "import pandas as pd\n",
    "data = pd.read_csv('/datasets/credit_scoring_eng.csv')\n",
    "\n",
    "#Display general information regarding the data set and a look at a fragment of the entries\n",
    "data.info() \n",
    "data.head()"
   ]
  },
  {
   "cell_type": "markdown",
   "metadata": {},
   "source": [
    "#### Conclusion\n",
    "\n"
   ]
  },
  {
   "cell_type": "markdown",
   "metadata": {},
   "source": [
    "The general information on the customer data indicated there are 21,525 individual entries. Each entry contains the following attributes as defined by the data frame columns:\n",
    "\n",
    "- `children`: The number of children in the family\n",
    "- `days_employed`: how long the customer has been working\n",
    "- `dob_years`: the customer's age\n",
    "- `education`: the customer's education level\n",
    "- `education_id`: identifier for the customer's education\n",
    "- `family_status`: the customer's marital status\n",
    "- `family_status_id`: identifier for the customer's marital status\n",
    "- `gender`: the customer's gender\n",
    "- `income_type`: the customer's income type\n",
    "- `debt`: whether the customer has ever defaulted on a loan\n",
    "- `total_income`: monthly income\n",
    "- `purpose`: reason for taking out a loan\n",
    "\n",
    "Two particular attributes in the general information immediately draw attention: the `days_employed` and `total_income`. Both of these attributes appear to be missing 2174 entries. "
   ]
  },
  {
   "cell_type": "markdown",
   "metadata": {},
   "source": [
    "<div class=\"alert alert-block alert-success\">\n",
    "<b>Reviewer's comment</b>\n",
    "\n",
    "Nice first look at raw data!\n",
    "\n",
    "</div>\n"
   ]
  },
  {
   "cell_type": "markdown",
   "metadata": {},
   "source": [
    "### Data preprocessing"
   ]
  },
  {
   "cell_type": "markdown",
   "metadata": {},
   "source": [
    "### Processing missing values"
   ]
  },
  {
   "cell_type": "markdown",
   "metadata": {},
   "source": [
    "To begin, the missing values that were discovered during the look at the general data information must be addressed.\n",
    "\n",
    "Since the number of the `days_employed` missing values is equal to the number of `total_income` missing values; it is predicted that the missing values correspond to customers who did not have a job, and thus filled out N/A of some sorts for the monthly income and number of days employed at the time of the query. Based on this prediction, the missing values are initially replaced with a 0 value, as that is a representative value for a customer lacking a job and a monthly income amount. To verify the assumption that the missing values are jobless people, the number of customers containing a '0' value for both the `days_employed` and `total_income` attributes is counted:"
   ]
  },
  {
   "cell_type": "code",
   "execution_count": 2,
   "metadata": {},
   "outputs": [
    {
     "name": "stdout",
     "output_type": "stream",
     "text": [
      "The number of jobless customers is 2174\n"
     ]
    }
   ],
   "source": [
    "#Replace all NaN values with a value of zero\n",
    "data['total_income'] = data['total_income'].fillna(value = 0)\n",
    "data['days_employed'] = data['days_employed'].fillna(value = 0)\n",
    "\n",
    "#Determines the number of customers that are jobless (zero days employed and zero total income)\n",
    "jobless = data[(data['days_employed'] == 0) & (data['total_income'] == 0)]\n",
    "print('The number of jobless customers is {}'.format(len(jobless)))"
   ]
  },
  {
   "cell_type": "markdown",
   "metadata": {},
   "source": [
    "The number of jobless customers equals 2174, which was the number of missing values initially in these two columns. This seems to confirm the initial prediction. A fragment of the `jobless` DataFrame is printed to further investigate. "
   ]
  },
  {
   "cell_type": "code",
   "execution_count": 3,
   "metadata": {},
   "outputs": [
    {
     "data": {
      "text/html": [
       "<div>\n",
       "<style scoped>\n",
       "    .dataframe tbody tr th:only-of-type {\n",
       "        vertical-align: middle;\n",
       "    }\n",
       "\n",
       "    .dataframe tbody tr th {\n",
       "        vertical-align: top;\n",
       "    }\n",
       "\n",
       "    .dataframe thead th {\n",
       "        text-align: right;\n",
       "    }\n",
       "</style>\n",
       "<table border=\"1\" class=\"dataframe\">\n",
       "  <thead>\n",
       "    <tr style=\"text-align: right;\">\n",
       "      <th></th>\n",
       "      <th>children</th>\n",
       "      <th>days_employed</th>\n",
       "      <th>dob_years</th>\n",
       "      <th>education</th>\n",
       "      <th>education_id</th>\n",
       "      <th>family_status</th>\n",
       "      <th>family_status_id</th>\n",
       "      <th>gender</th>\n",
       "      <th>income_type</th>\n",
       "      <th>debt</th>\n",
       "      <th>total_income</th>\n",
       "      <th>purpose</th>\n",
       "    </tr>\n",
       "  </thead>\n",
       "  <tbody>\n",
       "    <tr>\n",
       "      <td>12</td>\n",
       "      <td>0</td>\n",
       "      <td>0.0</td>\n",
       "      <td>65</td>\n",
       "      <td>secondary education</td>\n",
       "      <td>1</td>\n",
       "      <td>civil partnership</td>\n",
       "      <td>1</td>\n",
       "      <td>M</td>\n",
       "      <td>retiree</td>\n",
       "      <td>0</td>\n",
       "      <td>0.0</td>\n",
       "      <td>to have a wedding</td>\n",
       "    </tr>\n",
       "    <tr>\n",
       "      <td>26</td>\n",
       "      <td>0</td>\n",
       "      <td>0.0</td>\n",
       "      <td>41</td>\n",
       "      <td>secondary education</td>\n",
       "      <td>1</td>\n",
       "      <td>married</td>\n",
       "      <td>0</td>\n",
       "      <td>M</td>\n",
       "      <td>civil servant</td>\n",
       "      <td>0</td>\n",
       "      <td>0.0</td>\n",
       "      <td>education</td>\n",
       "    </tr>\n",
       "    <tr>\n",
       "      <td>29</td>\n",
       "      <td>0</td>\n",
       "      <td>0.0</td>\n",
       "      <td>63</td>\n",
       "      <td>secondary education</td>\n",
       "      <td>1</td>\n",
       "      <td>unmarried</td>\n",
       "      <td>4</td>\n",
       "      <td>F</td>\n",
       "      <td>retiree</td>\n",
       "      <td>0</td>\n",
       "      <td>0.0</td>\n",
       "      <td>building a real estate</td>\n",
       "    </tr>\n",
       "    <tr>\n",
       "      <td>41</td>\n",
       "      <td>0</td>\n",
       "      <td>0.0</td>\n",
       "      <td>50</td>\n",
       "      <td>secondary education</td>\n",
       "      <td>1</td>\n",
       "      <td>married</td>\n",
       "      <td>0</td>\n",
       "      <td>F</td>\n",
       "      <td>civil servant</td>\n",
       "      <td>0</td>\n",
       "      <td>0.0</td>\n",
       "      <td>second-hand car purchase</td>\n",
       "    </tr>\n",
       "    <tr>\n",
       "      <td>55</td>\n",
       "      <td>0</td>\n",
       "      <td>0.0</td>\n",
       "      <td>54</td>\n",
       "      <td>secondary education</td>\n",
       "      <td>1</td>\n",
       "      <td>civil partnership</td>\n",
       "      <td>1</td>\n",
       "      <td>F</td>\n",
       "      <td>retiree</td>\n",
       "      <td>1</td>\n",
       "      <td>0.0</td>\n",
       "      <td>to have a wedding</td>\n",
       "    </tr>\n",
       "    <tr>\n",
       "      <td>65</td>\n",
       "      <td>0</td>\n",
       "      <td>0.0</td>\n",
       "      <td>21</td>\n",
       "      <td>secondary education</td>\n",
       "      <td>1</td>\n",
       "      <td>unmarried</td>\n",
       "      <td>4</td>\n",
       "      <td>M</td>\n",
       "      <td>business</td>\n",
       "      <td>0</td>\n",
       "      <td>0.0</td>\n",
       "      <td>transactions with commercial real estate</td>\n",
       "    </tr>\n",
       "    <tr>\n",
       "      <td>67</td>\n",
       "      <td>0</td>\n",
       "      <td>0.0</td>\n",
       "      <td>52</td>\n",
       "      <td>bachelor's degree</td>\n",
       "      <td>0</td>\n",
       "      <td>married</td>\n",
       "      <td>0</td>\n",
       "      <td>F</td>\n",
       "      <td>retiree</td>\n",
       "      <td>0</td>\n",
       "      <td>0.0</td>\n",
       "      <td>purchase of the house for my family</td>\n",
       "    </tr>\n",
       "    <tr>\n",
       "      <td>72</td>\n",
       "      <td>1</td>\n",
       "      <td>0.0</td>\n",
       "      <td>32</td>\n",
       "      <td>bachelor's degree</td>\n",
       "      <td>0</td>\n",
       "      <td>married</td>\n",
       "      <td>0</td>\n",
       "      <td>M</td>\n",
       "      <td>civil servant</td>\n",
       "      <td>0</td>\n",
       "      <td>0.0</td>\n",
       "      <td>transactions with commercial real estate</td>\n",
       "    </tr>\n",
       "    <tr>\n",
       "      <td>82</td>\n",
       "      <td>2</td>\n",
       "      <td>0.0</td>\n",
       "      <td>50</td>\n",
       "      <td>bachelor's degree</td>\n",
       "      <td>0</td>\n",
       "      <td>married</td>\n",
       "      <td>0</td>\n",
       "      <td>F</td>\n",
       "      <td>employee</td>\n",
       "      <td>0</td>\n",
       "      <td>0.0</td>\n",
       "      <td>housing</td>\n",
       "    </tr>\n",
       "    <tr>\n",
       "      <td>83</td>\n",
       "      <td>0</td>\n",
       "      <td>0.0</td>\n",
       "      <td>52</td>\n",
       "      <td>secondary education</td>\n",
       "      <td>1</td>\n",
       "      <td>married</td>\n",
       "      <td>0</td>\n",
       "      <td>M</td>\n",
       "      <td>employee</td>\n",
       "      <td>0</td>\n",
       "      <td>0.0</td>\n",
       "      <td>housing</td>\n",
       "    </tr>\n",
       "  </tbody>\n",
       "</table>\n",
       "</div>"
      ],
      "text/plain": [
       "    children  days_employed  dob_years            education  education_id  \\\n",
       "12         0            0.0         65  secondary education             1   \n",
       "26         0            0.0         41  secondary education             1   \n",
       "29         0            0.0         63  secondary education             1   \n",
       "41         0            0.0         50  secondary education             1   \n",
       "55         0            0.0         54  secondary education             1   \n",
       "65         0            0.0         21  secondary education             1   \n",
       "67         0            0.0         52    bachelor's degree             0   \n",
       "72         1            0.0         32    bachelor's degree             0   \n",
       "82         2            0.0         50    bachelor's degree             0   \n",
       "83         0            0.0         52  secondary education             1   \n",
       "\n",
       "        family_status  family_status_id gender    income_type  debt  \\\n",
       "12  civil partnership                 1      M        retiree     0   \n",
       "26            married                 0      M  civil servant     0   \n",
       "29          unmarried                 4      F        retiree     0   \n",
       "41            married                 0      F  civil servant     0   \n",
       "55  civil partnership                 1      F        retiree     1   \n",
       "65          unmarried                 4      M       business     0   \n",
       "67            married                 0      F        retiree     0   \n",
       "72            married                 0      M  civil servant     0   \n",
       "82            married                 0      F       employee     0   \n",
       "83            married                 0      M       employee     0   \n",
       "\n",
       "    total_income                                   purpose  \n",
       "12           0.0                         to have a wedding  \n",
       "26           0.0                                 education  \n",
       "29           0.0                    building a real estate  \n",
       "41           0.0                  second-hand car purchase  \n",
       "55           0.0                         to have a wedding  \n",
       "65           0.0  transactions with commercial real estate  \n",
       "67           0.0       purchase of the house for my family  \n",
       "72           0.0  transactions with commercial real estate  \n",
       "82           0.0                                   housing  \n",
       "83           0.0                                   housing  "
      ]
     },
     "execution_count": 3,
     "metadata": {},
     "output_type": "execute_result"
    }
   ],
   "source": [
    "jobless.head(10)"
   ]
  },
  {
   "cell_type": "markdown",
   "metadata": {},
   "source": [
    "Looking at the `income_type` for the 'jobless' customers, it is expected that most would be unemployed or retirees, which is not the case. Although there are several retirees, there are also civil servants, business owners, and regular employees listed. There are a few potential reasons this may be the case:\n",
    "- The initial assumption that these were jobless people was incorrect and there was some other error with gathering the data that resulted in missing values.\n",
    "- Some of the customers are volunteers that do not have an income.\n",
    "- Customers who are unemployed refrained from actually stating they are unemployed for fear of immediately being turned down for a loan."
   ]
  },
  {
   "cell_type": "markdown",
   "metadata": {},
   "source": [
    "#### Conclusion\n",
    "\n"
   ]
  },
  {
   "cell_type": "markdown",
   "metadata": {},
   "source": [
    "Regardless of the reason for the missing values, these attribute values will remain a '0' value for these customers as it seems like an appropriate replacement without knowing the customers true `total_income`. Although these missing values make up a fair amount of the overall number of data entries (~10%), a customer's total income is only one of the attributing factors for determining whether the customer will default on a loan.\n",
    "\n",
    "An alternative approach to replacing the missing values could have been to replace the missing values with the mean or median of the other customer's data. This may have misrepresented the customer's with average incomes if the customer with missing value `total_income` had a higher likelihood of defaulting on a loan. The exact impact of doing this could be quantified; however, the benefit is not worth the time."
   ]
  },
  {
   "cell_type": "markdown",
   "metadata": {},
   "source": [
    "<div class=\"alert alert-block alert-success\">\n",
    "<b>Комментарий ревьюера</b>\n",
    "\n",
    "Excellent assumptions. Well done for writing your hypotheses about this and explaining your decision. This is the right approach.\n",
    "\n",
    "</div>\n"
   ]
  },
  {
   "cell_type": "markdown",
   "metadata": {},
   "source": [
    "### Data type replacement"
   ]
  },
  {
   "cell_type": "markdown",
   "metadata": {},
   "source": [
    "Two of the attributes in the data set, `days_employed` and `total_income`, are of the float data type. It is much cleaner to make these values an integer data type, seeing as there is limited benefit in knowing the fraction of days in `days_employed` or the number of cents in a customer's `total_income`. A fragment of the DataFrame is printed to verify the change:"
   ]
  },
  {
   "cell_type": "code",
   "execution_count": 4,
   "metadata": {},
   "outputs": [
    {
     "data": {
      "text/html": [
       "<div>\n",
       "<style scoped>\n",
       "    .dataframe tbody tr th:only-of-type {\n",
       "        vertical-align: middle;\n",
       "    }\n",
       "\n",
       "    .dataframe tbody tr th {\n",
       "        vertical-align: top;\n",
       "    }\n",
       "\n",
       "    .dataframe thead th {\n",
       "        text-align: right;\n",
       "    }\n",
       "</style>\n",
       "<table border=\"1\" class=\"dataframe\">\n",
       "  <thead>\n",
       "    <tr style=\"text-align: right;\">\n",
       "      <th></th>\n",
       "      <th>children</th>\n",
       "      <th>days_employed</th>\n",
       "      <th>dob_years</th>\n",
       "      <th>education</th>\n",
       "      <th>education_id</th>\n",
       "      <th>family_status</th>\n",
       "      <th>family_status_id</th>\n",
       "      <th>gender</th>\n",
       "      <th>income_type</th>\n",
       "      <th>debt</th>\n",
       "      <th>total_income</th>\n",
       "      <th>purpose</th>\n",
       "    </tr>\n",
       "  </thead>\n",
       "  <tbody>\n",
       "    <tr>\n",
       "      <td>0</td>\n",
       "      <td>1</td>\n",
       "      <td>-8437</td>\n",
       "      <td>42</td>\n",
       "      <td>bachelor's degree</td>\n",
       "      <td>0</td>\n",
       "      <td>married</td>\n",
       "      <td>0</td>\n",
       "      <td>F</td>\n",
       "      <td>employee</td>\n",
       "      <td>0</td>\n",
       "      <td>40620</td>\n",
       "      <td>purchase of the house</td>\n",
       "    </tr>\n",
       "    <tr>\n",
       "      <td>1</td>\n",
       "      <td>1</td>\n",
       "      <td>-4024</td>\n",
       "      <td>36</td>\n",
       "      <td>secondary education</td>\n",
       "      <td>1</td>\n",
       "      <td>married</td>\n",
       "      <td>0</td>\n",
       "      <td>F</td>\n",
       "      <td>employee</td>\n",
       "      <td>0</td>\n",
       "      <td>17932</td>\n",
       "      <td>car purchase</td>\n",
       "    </tr>\n",
       "    <tr>\n",
       "      <td>2</td>\n",
       "      <td>0</td>\n",
       "      <td>-5623</td>\n",
       "      <td>33</td>\n",
       "      <td>Secondary Education</td>\n",
       "      <td>1</td>\n",
       "      <td>married</td>\n",
       "      <td>0</td>\n",
       "      <td>M</td>\n",
       "      <td>employee</td>\n",
       "      <td>0</td>\n",
       "      <td>23341</td>\n",
       "      <td>purchase of the house</td>\n",
       "    </tr>\n",
       "    <tr>\n",
       "      <td>3</td>\n",
       "      <td>3</td>\n",
       "      <td>-4124</td>\n",
       "      <td>32</td>\n",
       "      <td>secondary education</td>\n",
       "      <td>1</td>\n",
       "      <td>married</td>\n",
       "      <td>0</td>\n",
       "      <td>M</td>\n",
       "      <td>employee</td>\n",
       "      <td>0</td>\n",
       "      <td>42820</td>\n",
       "      <td>supplementary education</td>\n",
       "    </tr>\n",
       "    <tr>\n",
       "      <td>4</td>\n",
       "      <td>0</td>\n",
       "      <td>340266</td>\n",
       "      <td>53</td>\n",
       "      <td>secondary education</td>\n",
       "      <td>1</td>\n",
       "      <td>civil partnership</td>\n",
       "      <td>1</td>\n",
       "      <td>F</td>\n",
       "      <td>retiree</td>\n",
       "      <td>0</td>\n",
       "      <td>25378</td>\n",
       "      <td>to have a wedding</td>\n",
       "    </tr>\n",
       "  </tbody>\n",
       "</table>\n",
       "</div>"
      ],
      "text/plain": [
       "   children  days_employed  dob_years            education  education_id  \\\n",
       "0         1          -8437         42    bachelor's degree             0   \n",
       "1         1          -4024         36  secondary education             1   \n",
       "2         0          -5623         33  Secondary Education             1   \n",
       "3         3          -4124         32  secondary education             1   \n",
       "4         0         340266         53  secondary education             1   \n",
       "\n",
       "       family_status  family_status_id gender income_type  debt  total_income  \\\n",
       "0            married                 0      F    employee     0         40620   \n",
       "1            married                 0      F    employee     0         17932   \n",
       "2            married                 0      M    employee     0         23341   \n",
       "3            married                 0      M    employee     0         42820   \n",
       "4  civil partnership                 1      F     retiree     0         25378   \n",
       "\n",
       "                   purpose  \n",
       "0    purchase of the house  \n",
       "1             car purchase  \n",
       "2    purchase of the house  \n",
       "3  supplementary education  \n",
       "4        to have a wedding  "
      ]
     },
     "execution_count": 4,
     "metadata": {},
     "output_type": "execute_result"
    }
   ],
   "source": [
    "#Convert float values to integers\n",
    "data['days_employed'] = data['days_employed'].astype('int')\n",
    "data['total_income'] = data['total_income'].astype('int')\n",
    "\n",
    "data.head()"
   ]
  },
  {
   "cell_type": "markdown",
   "metadata": {},
   "source": [
    "It is noted that a majority of the `days_employed` attribute values are negative. This is most likely due to how this number was generated from the initial query. It is expected that the customer was requested to provide either the known number of days worked or pick the date he or she began working. For the latter, it is anticipated that the `days_employed` value was calculated by taking the customer's provided start date minus the current date, which results in a negative number.\n",
    "\n",
    "To correct this, the absolute value of each `days_employed` value is used."
   ]
  },
  {
   "cell_type": "code",
   "execution_count": 5,
   "metadata": {},
   "outputs": [],
   "source": [
    "data['days_employed'] = abs(data['days_employed'])"
   ]
  },
  {
   "cell_type": "markdown",
   "metadata": {},
   "source": [
    "Also noted in the `days_employed` attribute are values that correspond to an impractical amount of working days (well over 100 years of days employed). The DataFrame is sorted to show all entries that correspond to `days_employed` that exceeds 100 years to investigate further."
   ]
  },
  {
   "cell_type": "code",
   "execution_count": 6,
   "metadata": {},
   "outputs": [
    {
     "data": {
      "text/html": [
       "<div>\n",
       "<style scoped>\n",
       "    .dataframe tbody tr th:only-of-type {\n",
       "        vertical-align: middle;\n",
       "    }\n",
       "\n",
       "    .dataframe tbody tr th {\n",
       "        vertical-align: top;\n",
       "    }\n",
       "\n",
       "    .dataframe thead th {\n",
       "        text-align: right;\n",
       "    }\n",
       "</style>\n",
       "<table border=\"1\" class=\"dataframe\">\n",
       "  <thead>\n",
       "    <tr style=\"text-align: right;\">\n",
       "      <th></th>\n",
       "      <th>children</th>\n",
       "      <th>days_employed</th>\n",
       "      <th>dob_years</th>\n",
       "      <th>education</th>\n",
       "      <th>education_id</th>\n",
       "      <th>family_status</th>\n",
       "      <th>family_status_id</th>\n",
       "      <th>gender</th>\n",
       "      <th>income_type</th>\n",
       "      <th>debt</th>\n",
       "      <th>total_income</th>\n",
       "      <th>purpose</th>\n",
       "    </tr>\n",
       "  </thead>\n",
       "  <tbody>\n",
       "    <tr>\n",
       "      <td>4</td>\n",
       "      <td>0</td>\n",
       "      <td>340266</td>\n",
       "      <td>53</td>\n",
       "      <td>secondary education</td>\n",
       "      <td>1</td>\n",
       "      <td>civil partnership</td>\n",
       "      <td>1</td>\n",
       "      <td>F</td>\n",
       "      <td>retiree</td>\n",
       "      <td>0</td>\n",
       "      <td>25378</td>\n",
       "      <td>to have a wedding</td>\n",
       "    </tr>\n",
       "    <tr>\n",
       "      <td>18</td>\n",
       "      <td>0</td>\n",
       "      <td>400281</td>\n",
       "      <td>53</td>\n",
       "      <td>secondary education</td>\n",
       "      <td>1</td>\n",
       "      <td>widow / widower</td>\n",
       "      <td>2</td>\n",
       "      <td>F</td>\n",
       "      <td>retiree</td>\n",
       "      <td>0</td>\n",
       "      <td>9091</td>\n",
       "      <td>buying a second-hand car</td>\n",
       "    </tr>\n",
       "    <tr>\n",
       "      <td>24</td>\n",
       "      <td>1</td>\n",
       "      <td>338551</td>\n",
       "      <td>57</td>\n",
       "      <td>secondary education</td>\n",
       "      <td>1</td>\n",
       "      <td>unmarried</td>\n",
       "      <td>4</td>\n",
       "      <td>F</td>\n",
       "      <td>retiree</td>\n",
       "      <td>0</td>\n",
       "      <td>46487</td>\n",
       "      <td>transactions with commercial real estate</td>\n",
       "    </tr>\n",
       "    <tr>\n",
       "      <td>25</td>\n",
       "      <td>0</td>\n",
       "      <td>363548</td>\n",
       "      <td>67</td>\n",
       "      <td>secondary education</td>\n",
       "      <td>1</td>\n",
       "      <td>married</td>\n",
       "      <td>0</td>\n",
       "      <td>M</td>\n",
       "      <td>retiree</td>\n",
       "      <td>0</td>\n",
       "      <td>8818</td>\n",
       "      <td>buy real estate</td>\n",
       "    </tr>\n",
       "    <tr>\n",
       "      <td>30</td>\n",
       "      <td>1</td>\n",
       "      <td>335581</td>\n",
       "      <td>62</td>\n",
       "      <td>secondary education</td>\n",
       "      <td>1</td>\n",
       "      <td>married</td>\n",
       "      <td>0</td>\n",
       "      <td>F</td>\n",
       "      <td>retiree</td>\n",
       "      <td>0</td>\n",
       "      <td>27432</td>\n",
       "      <td>transactions with commercial real estate</td>\n",
       "    </tr>\n",
       "    <tr>\n",
       "      <td>35</td>\n",
       "      <td>0</td>\n",
       "      <td>394021</td>\n",
       "      <td>68</td>\n",
       "      <td>secondary education</td>\n",
       "      <td>1</td>\n",
       "      <td>civil partnership</td>\n",
       "      <td>1</td>\n",
       "      <td>M</td>\n",
       "      <td>retiree</td>\n",
       "      <td>0</td>\n",
       "      <td>12448</td>\n",
       "      <td>having a wedding</td>\n",
       "    </tr>\n",
       "    <tr>\n",
       "      <td>50</td>\n",
       "      <td>0</td>\n",
       "      <td>353731</td>\n",
       "      <td>63</td>\n",
       "      <td>secondary education</td>\n",
       "      <td>1</td>\n",
       "      <td>married</td>\n",
       "      <td>0</td>\n",
       "      <td>F</td>\n",
       "      <td>retiree</td>\n",
       "      <td>0</td>\n",
       "      <td>14774</td>\n",
       "      <td>cars</td>\n",
       "    </tr>\n",
       "    <tr>\n",
       "      <td>56</td>\n",
       "      <td>0</td>\n",
       "      <td>370145</td>\n",
       "      <td>64</td>\n",
       "      <td>secondary education</td>\n",
       "      <td>1</td>\n",
       "      <td>widow / widower</td>\n",
       "      <td>2</td>\n",
       "      <td>F</td>\n",
       "      <td>retiree</td>\n",
       "      <td>0</td>\n",
       "      <td>23862</td>\n",
       "      <td>education</td>\n",
       "    </tr>\n",
       "    <tr>\n",
       "      <td>71</td>\n",
       "      <td>0</td>\n",
       "      <td>338113</td>\n",
       "      <td>62</td>\n",
       "      <td>secondary education</td>\n",
       "      <td>1</td>\n",
       "      <td>married</td>\n",
       "      <td>0</td>\n",
       "      <td>F</td>\n",
       "      <td>retiree</td>\n",
       "      <td>0</td>\n",
       "      <td>7028</td>\n",
       "      <td>cars</td>\n",
       "    </tr>\n",
       "    <tr>\n",
       "      <td>78</td>\n",
       "      <td>0</td>\n",
       "      <td>359722</td>\n",
       "      <td>61</td>\n",
       "      <td>bachelor's degree</td>\n",
       "      <td>0</td>\n",
       "      <td>married</td>\n",
       "      <td>0</td>\n",
       "      <td>M</td>\n",
       "      <td>retiree</td>\n",
       "      <td>0</td>\n",
       "      <td>28020</td>\n",
       "      <td>purchase of a car</td>\n",
       "    </tr>\n",
       "  </tbody>\n",
       "</table>\n",
       "</div>"
      ],
      "text/plain": [
       "    children  days_employed  dob_years            education  education_id  \\\n",
       "4          0         340266         53  secondary education             1   \n",
       "18         0         400281         53  secondary education             1   \n",
       "24         1         338551         57  secondary education             1   \n",
       "25         0         363548         67  secondary education             1   \n",
       "30         1         335581         62  secondary education             1   \n",
       "35         0         394021         68  secondary education             1   \n",
       "50         0         353731         63  secondary education             1   \n",
       "56         0         370145         64  secondary education             1   \n",
       "71         0         338113         62  secondary education             1   \n",
       "78         0         359722         61    bachelor's degree             0   \n",
       "\n",
       "        family_status  family_status_id gender income_type  debt  \\\n",
       "4   civil partnership                 1      F     retiree     0   \n",
       "18    widow / widower                 2      F     retiree     0   \n",
       "24          unmarried                 4      F     retiree     0   \n",
       "25            married                 0      M     retiree     0   \n",
       "30            married                 0      F     retiree     0   \n",
       "35  civil partnership                 1      M     retiree     0   \n",
       "50            married                 0      F     retiree     0   \n",
       "56    widow / widower                 2      F     retiree     0   \n",
       "71            married                 0      F     retiree     0   \n",
       "78            married                 0      M     retiree     0   \n",
       "\n",
       "    total_income                                   purpose  \n",
       "4          25378                         to have a wedding  \n",
       "18          9091                  buying a second-hand car  \n",
       "24         46487  transactions with commercial real estate  \n",
       "25          8818                           buy real estate  \n",
       "30         27432  transactions with commercial real estate  \n",
       "35         12448                          having a wedding  \n",
       "50         14774                                      cars  \n",
       "56         23862                                 education  \n",
       "71          7028                                      cars  \n",
       "78         28020                         purchase of a car  "
      ]
     },
     "execution_count": 6,
     "metadata": {},
     "output_type": "execute_result"
    }
   ],
   "source": [
    "#Show a fragment of data where the days_employed is greater than 100 years\n",
    "data[data['days_employed'] > 36500].head(10)"
   ]
  },
  {
   "cell_type": "markdown",
   "metadata": {},
   "source": [
    "It appears that the extremely high `days_employed` values are all for retired customers. It is assumed that this is a result of how the data was gathered and recorded. This problem is noted, but there are no attempts to correct it at this moment as the `days_employed` attribute is rarely used and there appears to be limited benefit in doing so."
   ]
  },
  {
   "cell_type": "markdown",
   "metadata": {},
   "source": [
    "<div class=\"alert alert-block alert-success\">\n",
    "<b>Reviewer's comment</b>\n",
    "\n",
    "I agree. This column is not important for further analysis. In real job, it is better to inform the developers about this, let them work :)\n",
    "\n",
    "</div>\n"
   ]
  },
  {
   "cell_type": "markdown",
   "metadata": {},
   "source": [
    "#### Conclusion"
   ]
  },
  {
   "cell_type": "markdown",
   "metadata": {},
   "source": [
    "The two attribute columns `days_employed` and `total_income` are changed from float data types to integer data types. This is not a crucial change for the data at hand, but it does make the data easier to read and compare. While modifying these attribute columns, there were two other errors that were fixed or noted: the negative value for `days_employed` and the unrealistic `days_employed` values."
   ]
  },
  {
   "cell_type": "markdown",
   "metadata": {},
   "source": [
    "### Processing duplicates"
   ]
  },
  {
   "cell_type": "markdown",
   "metadata": {},
   "source": [
    "Prior to processing the duplicate data entries, all case-sensitive values must be converted to a consistent case. It was observed that during the previous data fragment prints that the `education` attribute had an inconsistent case choice. For completeness, all case-sensitive attributes (`education`, `family_status`, `gender`, `income_type` and `purpose`), are converted to all lowercase. This prevents missing any duplicate entries."
   ]
  },
  {
   "cell_type": "code",
   "execution_count": 7,
   "metadata": {},
   "outputs": [],
   "source": [
    "#Change all string attributes to lowercase\n",
    "data['education'] = data['education'].str.lower()\n",
    "data['family_status'] = data['family_status'].str.lower()\n",
    "data['gender'] = data['gender'].str.lower()\n",
    "data['income_type'] = data['income_type'].str.lower()\n",
    "data['purpose'] = data['purpose'].str.lower()"
   ]
  },
  {
   "cell_type": "markdown",
   "metadata": {},
   "source": [
    "Now that all data entries are case consistent, the number of duplicated data entries can be determined. Only entries that have a duplicate match for every single attribute are counted."
   ]
  },
  {
   "cell_type": "code",
   "execution_count": 8,
   "metadata": {},
   "outputs": [
    {
     "name": "stdout",
     "output_type": "stream",
     "text": [
      "The total number of duplicate entries is 71\n"
     ]
    }
   ],
   "source": [
    "#Find number of duplicate entries\n",
    "print('The total number of duplicate entries is {}'.format(data.duplicated().sum()))"
   ]
  },
  {
   "cell_type": "markdown",
   "metadata": {},
   "source": [
    "With 71 duplicate entries, it is safe to assume that nearly all of these are errors and can be safely removed as the chances of this realistically happening is close to zero, given the provided attributes."
   ]
  },
  {
   "cell_type": "code",
   "execution_count": 9,
   "metadata": {},
   "outputs": [],
   "source": [
    "#Remove duplicate entries\n",
    "data = data.drop_duplicates().reset_index(drop = True)"
   ]
  },
  {
   "cell_type": "markdown",
   "metadata": {},
   "source": [
    "#### Conclusion"
   ]
  },
  {
   "cell_type": "markdown",
   "metadata": {},
   "source": [
    "Duplicate data could have been present as a result of a system error or that the bank had the same customer data from multiple transactions or queries at different times. An additional check for duplicated data could be completed after the customer `purpose` is categorized in the event that the bank had data on the same customer with two different `purpose` values; however, the chance of this seems unlikely and may accidentally remove real data."
   ]
  },
  {
   "cell_type": "markdown",
   "metadata": {},
   "source": [
    "### Categorizing Data"
   ]
  },
  {
   "cell_type": "markdown",
   "metadata": {},
   "source": [
    "The customer data is best categorized according to each customer's purpose, and to place each customer in a certain income bracket since these two attributes have a potential for a significant number of unique responses."
   ]
  },
  {
   "cell_type": "markdown",
   "metadata": {},
   "source": [
    "#### Customer Purpose Categorization"
   ]
  },
  {
   "cell_type": "markdown",
   "metadata": {},
   "source": [
    "To begin categorizing the customer's purpose, the various purposes are first evaluated."
   ]
  },
  {
   "cell_type": "code",
   "execution_count": 10,
   "metadata": {},
   "outputs": [
    {
     "data": {
      "text/plain": [
       "array(['purchase of the house', 'car purchase', 'supplementary education',\n",
       "       'to have a wedding', 'housing transactions', 'education',\n",
       "       'having a wedding', 'purchase of the house for my family',\n",
       "       'buy real estate', 'buy commercial real estate',\n",
       "       'buy residential real estate', 'construction of own property',\n",
       "       'property', 'building a property', 'buying a second-hand car',\n",
       "       'buying my own car', 'transactions with commercial real estate',\n",
       "       'building a real estate', 'housing',\n",
       "       'transactions with my real estate', 'cars', 'to become educated',\n",
       "       'second-hand car purchase', 'getting an education', 'car',\n",
       "       'wedding ceremony', 'to get a supplementary education',\n",
       "       'purchase of my own house', 'real estate transactions',\n",
       "       'getting higher education', 'to own a car', 'purchase of a car',\n",
       "       'profile education', 'university education',\n",
       "       'buying property for renting out', 'to buy a car',\n",
       "       'housing renovation', 'going to university'], dtype=object)"
      ]
     },
     "execution_count": 10,
     "metadata": {},
     "output_type": "execute_result"
    }
   ],
   "source": [
    "#Print a list of every single customer purpose provided\n",
    "data['purpose'].unique()"
   ]
  },
  {
   "cell_type": "markdown",
   "metadata": {},
   "source": [
    "From the unique list of all customer purposes, the purposes can generally be divided into four distinct categories:\n",
    "- Education\n",
    "- Car Purchase\n",
    "- Wedding\n",
    "- Housing\n",
    "\n",
    "To analyze the customer data easier, each customer response is filtered into one of these four categories."
   ]
  },
  {
   "cell_type": "code",
   "execution_count": 11,
   "metadata": {},
   "outputs": [],
   "source": [
    "#Purpose of this function is to take each customer's purpose from the DataFrame and categorize into into one of four\n",
    "#categories: education, car purchase, wedding, or housing. The function matches certain keywords in the purpose string\n",
    "#in order to sort into the four categories. Keywords 'hous' and 'educa' are utilized in order to categorize strings that contain\n",
    "#both 'housing' or 'house', or 'education' and 'educate'. An 'other' category is provided should any of the customer\n",
    "#purposes not be categorized into one of the four main categories.\n",
    "\n",
    "def purpose_group(purpose):\n",
    "    if 'car' in purpose:\n",
    "        return 'car purchase'\n",
    "    if 'wedding' in purpose:\n",
    "        return 'wedding'\n",
    "    if 'educa' in purpose:\n",
    "        return 'education'\n",
    "    if 'university' in purpose:\n",
    "        return 'education'\n",
    "    if 'hous' in purpose:\n",
    "        return 'housing'\n",
    "    if 'estate' in purpose:\n",
    "        return 'housing'\n",
    "    if 'property' in purpose:\n",
    "        return 'housing'\n",
    "    return 'other'\n",
    "\n",
    "\n",
    "#Apply the purpose group function to all data values in the 'purpose' attribute column\n",
    "data['purpose'] = data['purpose'].apply(purpose_group)"
   ]
  },
  {
   "cell_type": "markdown",
   "metadata": {},
   "source": [
    "To verify that the function separated as intended. All unique values for the `purpose` column are returned. Only the four categories should be shown if the function worked correctly."
   ]
  },
  {
   "cell_type": "code",
   "execution_count": 12,
   "metadata": {},
   "outputs": [
    {
     "data": {
      "text/plain": [
       "array(['housing', 'car purchase', 'education', 'wedding'], dtype=object)"
      ]
     },
     "execution_count": 12,
     "metadata": {},
     "output_type": "execute_result"
    }
   ],
   "source": [
    "data['purpose'].unique()"
   ]
  },
  {
   "cell_type": "markdown",
   "metadata": {},
   "source": [
    "<div class=\"alert alert-block alert-success\">\n",
    "<b>Reviewer's comment</b>\n",
    "\n",
    "In this case, everything works fine, well done. However, sometimes it happens that we need to do stemming. It would also be great to print `value_count()` to visually evaluate the distribution by category.\n",
    "\n",
    "</div>\n"
   ]
  },
  {
   "cell_type": "markdown",
   "metadata": {},
   "source": [
    "#### Income Bracket Categorization"
   ]
  },
  {
   "cell_type": "markdown",
   "metadata": {},
   "source": [
    "To categorize each customer into an income bracket, the various levels of the income bracket must first be established. To better understand the range of `total_income`, the max, mean, and median values of the `total_income` attribute are determined."
   ]
  },
  {
   "cell_type": "code",
   "execution_count": 13,
   "metadata": {},
   "outputs": [
    {
     "name": "stdout",
     "output_type": "stream",
     "text": [
      "The maximum customer income is 362496.\n",
      "The average customer income is 24161.\n",
      "The median customer income is 21724.\n"
     ]
    }
   ],
   "source": [
    "#Prints the maximum, average, and median total incomes\n",
    "print('The maximum customer income is {:.0f}.'.format(data['total_income'].max()))\n",
    "print('The average customer income is {:.0f}.'.format(data['total_income'].mean()))\n",
    "print('The median customer income is {:.0f}.'.format(data['total_income'].median()))"
   ]
  },
  {
   "cell_type": "markdown",
   "metadata": {},
   "source": [
    "Now that the `total_income` attribute is better understood, the various levels of the income bracket can be established. Since the range of customer incomes is so large, the average income is selected as the 'midpoint' in the income bracket since it is the larger of the mean and median. The income bracket levels are as follows:\n",
    "\n",
    "- low: 0 to 18,120 (75% or less of the average `total_income`)\n",
    "- middle: 18,121 to 30,201 (75% to 125% of the average `total_income`)\n",
    "- high: 30,202 to 60,403 (125% to 250% of the average `total_income`)\n",
    "- wealthy: Greater than 60,403\n",
    "\n",
    "Each of the customer's `total_income` is filtered into one of these four income bracket levels."
   ]
  },
  {
   "cell_type": "code",
   "execution_count": 14,
   "metadata": {},
   "outputs": [],
   "source": [
    "#Purpose of this function is to take each customer's total_income from the DataFrame and categorize into into one of four\n",
    "#income levels: low, middle, high, and wealthy. The function sets a mean value based on the mean of all the values in the\n",
    "#total_income attribute. Each customer's total_income is then mathematically compared to the mean value to separate them into\n",
    "#the respective income bracket level. An 'other' category is provided should any of the customer's total_incomes not meet\n",
    "#one of the four income bracket levels.\n",
    "\n",
    "def income_group(total_income):\n",
    "    mean = data['total_income'].mean()\n",
    "    if total_income < 0.75*mean:\n",
    "        return 'low'\n",
    "    if total_income >= 2.5*mean:\n",
    "        return 'wealthy'\n",
    "    if 0.75*mean <= total_income < 1.25*mean:\n",
    "        return 'middle'\n",
    "    if 1.25*mean <= total_income < 2.5*mean:\n",
    "        return 'high'\n",
    "    return 'other'\n",
    "\n",
    "#Apply the income group function to all data values in the 'total_income' attribute column\n",
    "data['total_income'] = data['total_income'].apply(income_group)"
   ]
  },
  {
   "cell_type": "markdown",
   "metadata": {},
   "source": [
    "<div class=\"alert alert-block alert-warning\">\n",
    "<b>Reviewer's comment</b>\n",
    "\n",
    "I think it's better to add one more category \"income unknown\" here. Since about 2000 rows were filled with zero, they will all fall into the first category, which is not entirely true. Also, it is better to use \"if-elif-else\" design when there are a lot of conditions.\n",
    "\n",
    "</div>\n"
   ]
  },
  {
   "cell_type": "markdown",
   "metadata": {},
   "source": [
    "To verify that the function separated as intended. All unique alues for the `total_income` column are returned. Only the four income bracket levels should be shown if the function worked correctly."
   ]
  },
  {
   "cell_type": "code",
   "execution_count": 15,
   "metadata": {},
   "outputs": [
    {
     "data": {
      "text/plain": [
       "array(['high', 'low', 'middle', 'wealthy'], dtype=object)"
      ]
     },
     "execution_count": 15,
     "metadata": {},
     "output_type": "execute_result"
    }
   ],
   "source": [
    "data['total_income'].unique()"
   ]
  },
  {
   "cell_type": "markdown",
   "metadata": {},
   "source": [
    "#### Conclusion"
   ]
  },
  {
   "cell_type": "markdown",
   "metadata": {},
   "source": [
    "Both categorization functions worked as intended, separating each of the attributes with a large number of unique values into a much more manageable number of four unique categories. This will make analyzing the data set significantly easier."
   ]
  },
  {
   "cell_type": "markdown",
   "metadata": {},
   "source": [
    "<div class=\"alert alert-block alert-success\">\n",
    "<b>Reviewer's comment</b>\n",
    "\n",
    "Everything is great, the data is ready for analysis.\n",
    "\n",
    "</div>\n",
    "\n",
    "<div class=\"alert alert-block alert-warning\">\n",
    "<b>Reviewer's comment</b>\n",
    "\n",
    "But please note that the column with the number of children has strange values -1 and 20.\n",
    "\n",
    "</div>\n"
   ]
  },
  {
   "cell_type": "markdown",
   "metadata": {},
   "source": [
    "### Data Analysis"
   ]
  },
  {
   "cell_type": "markdown",
   "metadata": {},
   "source": [
    "#### Impact of Children"
   ]
  },
  {
   "cell_type": "markdown",
   "metadata": {},
   "source": [
    "The relationship between having kids and repaying a loan on time is evaluated by creating a pivot table showing the number of customers who have defaulted on a loan for each number of children vs. the number of overall customers for each number of children. In addition, a new column is created in the pivot table to determine the percentage of customers that defaulted on a loan. A percentage is required to accurately quantify the data rather than just taking the pure sum of defaulted loans per number of children."
   ]
  },
  {
   "cell_type": "code",
   "execution_count": 16,
   "metadata": {},
   "outputs": [
    {
     "data": {
      "text/html": [
       "<div>\n",
       "<style scoped>\n",
       "    .dataframe tbody tr th:only-of-type {\n",
       "        vertical-align: middle;\n",
       "    }\n",
       "\n",
       "    .dataframe tbody tr th {\n",
       "        vertical-align: top;\n",
       "    }\n",
       "\n",
       "    .dataframe thead tr th {\n",
       "        text-align: left;\n",
       "    }\n",
       "\n",
       "    .dataframe thead tr:last-of-type th {\n",
       "        text-align: right;\n",
       "    }\n",
       "</style>\n",
       "<table border=\"1\" class=\"dataframe\">\n",
       "  <thead>\n",
       "    <tr>\n",
       "      <th></th>\n",
       "      <th colspan=\"2\" halign=\"left\">debt</th>\n",
       "      <th>percentage, %</th>\n",
       "    </tr>\n",
       "    <tr>\n",
       "      <th></th>\n",
       "      <th>count</th>\n",
       "      <th>sum</th>\n",
       "      <th></th>\n",
       "    </tr>\n",
       "    <tr>\n",
       "      <th>children</th>\n",
       "      <th></th>\n",
       "      <th></th>\n",
       "      <th></th>\n",
       "    </tr>\n",
       "  </thead>\n",
       "  <tbody>\n",
       "    <tr>\n",
       "      <td>-1</td>\n",
       "      <td>47</td>\n",
       "      <td>1</td>\n",
       "      <td>2.127660</td>\n",
       "    </tr>\n",
       "    <tr>\n",
       "      <td>0</td>\n",
       "      <td>14091</td>\n",
       "      <td>1063</td>\n",
       "      <td>7.543822</td>\n",
       "    </tr>\n",
       "    <tr>\n",
       "      <td>1</td>\n",
       "      <td>4808</td>\n",
       "      <td>444</td>\n",
       "      <td>9.234609</td>\n",
       "    </tr>\n",
       "    <tr>\n",
       "      <td>2</td>\n",
       "      <td>2052</td>\n",
       "      <td>194</td>\n",
       "      <td>9.454191</td>\n",
       "    </tr>\n",
       "    <tr>\n",
       "      <td>3</td>\n",
       "      <td>330</td>\n",
       "      <td>27</td>\n",
       "      <td>8.181818</td>\n",
       "    </tr>\n",
       "    <tr>\n",
       "      <td>4</td>\n",
       "      <td>41</td>\n",
       "      <td>4</td>\n",
       "      <td>9.756098</td>\n",
       "    </tr>\n",
       "    <tr>\n",
       "      <td>5</td>\n",
       "      <td>9</td>\n",
       "      <td>0</td>\n",
       "      <td>0.000000</td>\n",
       "    </tr>\n",
       "    <tr>\n",
       "      <td>20</td>\n",
       "      <td>76</td>\n",
       "      <td>8</td>\n",
       "      <td>10.526316</td>\n",
       "    </tr>\n",
       "  </tbody>\n",
       "</table>\n",
       "</div>"
      ],
      "text/plain": [
       "           debt       percentage, %\n",
       "          count   sum              \n",
       "children                           \n",
       "-1           47     1      2.127660\n",
       " 0        14091  1063      7.543822\n",
       " 1         4808   444      9.234609\n",
       " 2         2052   194      9.454191\n",
       " 3          330    27      8.181818\n",
       " 4           41     4      9.756098\n",
       " 5            9     0      0.000000\n",
       " 20          76     8     10.526316"
      ]
     },
     "execution_count": 16,
     "metadata": {},
     "output_type": "execute_result"
    }
   ],
   "source": [
    "#Create a pivot table for the children index in terms of the debt attribute\n",
    "data_grouped_kids = data.groupby(['children']).agg({'debt':['count','sum']})\n",
    "data_grouped_kids ['percentage, %'] = data_grouped_kids['debt','sum']/data_grouped_kids['debt','count'] * 100\n",
    "data_grouped_kids.head(10)"
   ]
  },
  {
   "cell_type": "markdown",
   "metadata": {},
   "source": [
    "The data in the table above shows a slight (~2%) increase in failure to pay back a loan when a customer has had one or more children with the exception of customers with five children (not enough sample size to consider accurate). Intuitively, this makes sense as children are a significant expense and would put a strain on a customer's ability to repay a loan. There did not seem to be any specific correlation between the number of children since there was a small sample size for customer's with three or more children.\n",
    "\n",
    "It is noted that there are some impractical data values for the `children` attribute that were missed during the data preprocessing: having -1 child and having 20 children. Due to the low percentage of the overall data entries that these make up (123 entries out of 21,525), these can be ignored."
   ]
  },
  {
   "cell_type": "markdown",
   "metadata": {},
   "source": [
    "<div class=\"alert alert-block alert-success\">\n",
    "<b>Reviewer's comment</b>\n",
    "\n",
    "The values are calculated correctly. And the conclusions are definitely correct.\n",
    "\n",
    "</div>\n",
    "\n",
    "<div class=\"alert alert-block alert-warning\">\n",
    "<b>Reviewer's comment</b>\n",
    "\n",
    "I have a small comment. Lines with -1 and 20 children look a little strange. We can also make two additional groups - with and without children and calculate this percentage for them. It is also useful to calculate the percentage of default for the entire table, so that you we compare the calculated values with it.\n",
    "\n",
    "</div>\n"
   ]
  },
  {
   "cell_type": "markdown",
   "metadata": {},
   "source": [
    "#### Conclusion"
   ]
  },
  {
   "cell_type": "markdown",
   "metadata": {},
   "source": [
    "Although the initial question of whether there is a relationship between having kids and repaying a loan was answered, this data could be even further processed. For example, customers who are retirees must also provide the number of children they have; however, a majority of their children would likely no longer be living with the retiree and would have their own job and source of income. These children would, in most cases, not be financially supported by the customer and would have minimal effect on whether the customer defaults on a loan or not. Additional investigation into the data would be required to fully quantify this; however, the benefit is not worth the time seeing as the number of children is only one piece of the puzzle for determining if a customer will default on a loan. "
   ]
  },
  {
   "cell_type": "markdown",
   "metadata": {},
   "source": [
    "<div class=\"alert alert-block alert-success\">\n",
    "<b>Reviewer's comment</b>\n",
    "\n",
    "Very interesting idea.\n",
    "\n",
    "</div>\n"
   ]
  },
  {
   "cell_type": "markdown",
   "metadata": {},
   "source": [
    "#### Impact of Marital Status"
   ]
  },
  {
   "cell_type": "markdown",
   "metadata": {},
   "source": [
    "The relationship between marital status and repaying a loan on time is evaluated by creating a pivot table showing the number of customers who have defaulted on a loan for each form of marital status. Similar to the previous pivot table, a new column is created in the pivot table to determine the percentage of customers that defaulted on a loan to better represent the data."
   ]
  },
  {
   "cell_type": "code",
   "execution_count": 17,
   "metadata": {},
   "outputs": [
    {
     "data": {
      "text/html": [
       "<div>\n",
       "<style scoped>\n",
       "    .dataframe tbody tr th:only-of-type {\n",
       "        vertical-align: middle;\n",
       "    }\n",
       "\n",
       "    .dataframe tbody tr th {\n",
       "        vertical-align: top;\n",
       "    }\n",
       "\n",
       "    .dataframe thead tr th {\n",
       "        text-align: left;\n",
       "    }\n",
       "\n",
       "    .dataframe thead tr:last-of-type th {\n",
       "        text-align: right;\n",
       "    }\n",
       "</style>\n",
       "<table border=\"1\" class=\"dataframe\">\n",
       "  <thead>\n",
       "    <tr>\n",
       "      <th></th>\n",
       "      <th colspan=\"2\" halign=\"left\">debt</th>\n",
       "      <th>percentage, %</th>\n",
       "    </tr>\n",
       "    <tr>\n",
       "      <th></th>\n",
       "      <th>count</th>\n",
       "      <th>sum</th>\n",
       "      <th></th>\n",
       "    </tr>\n",
       "    <tr>\n",
       "      <th>family_status</th>\n",
       "      <th></th>\n",
       "      <th></th>\n",
       "      <th></th>\n",
       "    </tr>\n",
       "  </thead>\n",
       "  <tbody>\n",
       "    <tr>\n",
       "      <td>unmarried</td>\n",
       "      <td>2810</td>\n",
       "      <td>274</td>\n",
       "      <td>9.750890</td>\n",
       "    </tr>\n",
       "    <tr>\n",
       "      <td>civil partnership</td>\n",
       "      <td>4151</td>\n",
       "      <td>388</td>\n",
       "      <td>9.347145</td>\n",
       "    </tr>\n",
       "    <tr>\n",
       "      <td>married</td>\n",
       "      <td>12339</td>\n",
       "      <td>931</td>\n",
       "      <td>7.545182</td>\n",
       "    </tr>\n",
       "    <tr>\n",
       "      <td>divorced</td>\n",
       "      <td>1195</td>\n",
       "      <td>85</td>\n",
       "      <td>7.112971</td>\n",
       "    </tr>\n",
       "    <tr>\n",
       "      <td>widow / widower</td>\n",
       "      <td>959</td>\n",
       "      <td>63</td>\n",
       "      <td>6.569343</td>\n",
       "    </tr>\n",
       "  </tbody>\n",
       "</table>\n",
       "</div>"
      ],
      "text/plain": [
       "                    debt      percentage, %\n",
       "                   count  sum              \n",
       "family_status                              \n",
       "unmarried           2810  274      9.750890\n",
       "civil partnership   4151  388      9.347145\n",
       "married            12339  931      7.545182\n",
       "divorced            1195   85      7.112971\n",
       "widow / widower      959   63      6.569343"
      ]
     },
     "execution_count": 17,
     "metadata": {},
     "output_type": "execute_result"
    }
   ],
   "source": [
    "data_grouped_marriage = data.groupby(['family_status']).agg({'debt':['count','sum']})\n",
    "data_grouped_marriage['percentage, %'] = data_grouped_marriage['debt','sum']/data_grouped_marriage['debt','count'] * 100\n",
    "data_grouped_marriage.sort_values(['percentage, %'], ascending = False).head()"
   ]
  },
  {
   "cell_type": "markdown",
   "metadata": {},
   "source": [
    "#### Conclusion"
   ]
  },
  {
   "cell_type": "markdown",
   "metadata": {},
   "source": [
    "The data in the table above indicates that civil partnerships and unmarried customers are more likely to default on a loan. Widows /widowers customers are least likely to default on a loan, and divorced or married customers fall in the middle. These likelihoods seem to be somewhat dependent on the household income. For example, an unmarried customer has only one source of income to repay a loan whereas a married customer could have two sources of income that can be utilized to repay the loan. The civil partnership likelihood is interesting in that one would think this would be closer to the likelihood for married customers, but it is significantly higher. There is no explanation at the moment for why this is the case."
   ]
  },
  {
   "cell_type": "markdown",
   "metadata": {},
   "source": [
    "#### Impact of Income Level"
   ]
  },
  {
   "cell_type": "markdown",
   "metadata": {},
   "source": [
    "The relationship between income level and repaying a loan on time is evaluated by creating a pivot table showing the number of customers who have defaulted on a loan for each income bracket level previously established. Similar to the previous pivot table, a new column is created in the pivot table to determine the percentage of customers that defaulted on a loan to better represent the data."
   ]
  },
  {
   "cell_type": "code",
   "execution_count": 18,
   "metadata": {},
   "outputs": [
    {
     "data": {
      "text/html": [
       "<div>\n",
       "<style scoped>\n",
       "    .dataframe tbody tr th:only-of-type {\n",
       "        vertical-align: middle;\n",
       "    }\n",
       "\n",
       "    .dataframe tbody tr th {\n",
       "        vertical-align: top;\n",
       "    }\n",
       "\n",
       "    .dataframe thead tr th {\n",
       "        text-align: left;\n",
       "    }\n",
       "\n",
       "    .dataframe thead tr:last-of-type th {\n",
       "        text-align: right;\n",
       "    }\n",
       "</style>\n",
       "<table border=\"1\" class=\"dataframe\">\n",
       "  <thead>\n",
       "    <tr>\n",
       "      <th></th>\n",
       "      <th colspan=\"2\" halign=\"left\">debt</th>\n",
       "      <th>percentage, %</th>\n",
       "    </tr>\n",
       "    <tr>\n",
       "      <th></th>\n",
       "      <th>count</th>\n",
       "      <th>sum</th>\n",
       "      <th></th>\n",
       "    </tr>\n",
       "    <tr>\n",
       "      <th>total_income</th>\n",
       "      <th></th>\n",
       "      <th></th>\n",
       "      <th></th>\n",
       "    </tr>\n",
       "  </thead>\n",
       "  <tbody>\n",
       "    <tr>\n",
       "      <td>middle</td>\n",
       "      <td>7426</td>\n",
       "      <td>652</td>\n",
       "      <td>8.779962</td>\n",
       "    </tr>\n",
       "    <tr>\n",
       "      <td>low</td>\n",
       "      <td>8192</td>\n",
       "      <td>659</td>\n",
       "      <td>8.044434</td>\n",
       "    </tr>\n",
       "    <tr>\n",
       "      <td>high</td>\n",
       "      <td>5183</td>\n",
       "      <td>393</td>\n",
       "      <td>7.582481</td>\n",
       "    </tr>\n",
       "    <tr>\n",
       "      <td>wealthy</td>\n",
       "      <td>653</td>\n",
       "      <td>37</td>\n",
       "      <td>5.666156</td>\n",
       "    </tr>\n",
       "  </tbody>\n",
       "</table>\n",
       "</div>"
      ],
      "text/plain": [
       "              debt      percentage, %\n",
       "             count  sum              \n",
       "total_income                         \n",
       "middle        7426  652      8.779962\n",
       "low           8192  659      8.044434\n",
       "high          5183  393      7.582481\n",
       "wealthy        653   37      5.666156"
      ]
     },
     "execution_count": 18,
     "metadata": {},
     "output_type": "execute_result"
    }
   ],
   "source": [
    "data_grouped_income = data.groupby(['total_income']).agg({'debt':['count','sum']})\n",
    "data_grouped_income['percentage, %'] = data_grouped_income['debt','sum']/data_grouped_income['debt','count'] * 100\n",
    "data_grouped_income.sort_values(['percentage, %'], ascending = False).head()"
   ]
  },
  {
   "cell_type": "markdown",
   "metadata": {},
   "source": [
    "#### Conclusion"
   ]
  },
  {
   "cell_type": "markdown",
   "metadata": {},
   "source": [
    "The data in the table above indicates that the higher the income bracket that a customer is in, the less likely they are to default on a loan. These results are expected since a large income would usually mean it is easier to repay a loan. However, this is also contingent on the amount of the loan and the responsibility of a customer for taking out a loan that they are capable of realistically paying back."
   ]
  },
  {
   "cell_type": "markdown",
   "metadata": {},
   "source": [
    "#### Impact of Loan Purpose"
   ]
  },
  {
   "cell_type": "markdown",
   "metadata": {},
   "source": [
    "The relationship between loan purpose and repaying a loan on time is evaluated by creating a pivot table showing the number of customers who have defaulted on a loan for each categorized purpose previously established. Similar to the previous pivot table, a new column is created in the pivot table to determine the percentage of customers that defaulted on a loan to better represent the data."
   ]
  },
  {
   "cell_type": "code",
   "execution_count": 19,
   "metadata": {},
   "outputs": [
    {
     "data": {
      "text/html": [
       "<div>\n",
       "<style scoped>\n",
       "    .dataframe tbody tr th:only-of-type {\n",
       "        vertical-align: middle;\n",
       "    }\n",
       "\n",
       "    .dataframe tbody tr th {\n",
       "        vertical-align: top;\n",
       "    }\n",
       "\n",
       "    .dataframe thead tr th {\n",
       "        text-align: left;\n",
       "    }\n",
       "\n",
       "    .dataframe thead tr:last-of-type th {\n",
       "        text-align: right;\n",
       "    }\n",
       "</style>\n",
       "<table border=\"1\" class=\"dataframe\">\n",
       "  <thead>\n",
       "    <tr>\n",
       "      <th></th>\n",
       "      <th colspan=\"2\" halign=\"left\">debt</th>\n",
       "      <th>percentage, %</th>\n",
       "    </tr>\n",
       "    <tr>\n",
       "      <th></th>\n",
       "      <th>count</th>\n",
       "      <th>sum</th>\n",
       "      <th></th>\n",
       "    </tr>\n",
       "    <tr>\n",
       "      <th>purpose</th>\n",
       "      <th></th>\n",
       "      <th></th>\n",
       "      <th></th>\n",
       "    </tr>\n",
       "  </thead>\n",
       "  <tbody>\n",
       "    <tr>\n",
       "      <td>car purchase</td>\n",
       "      <td>4306</td>\n",
       "      <td>403</td>\n",
       "      <td>9.359034</td>\n",
       "    </tr>\n",
       "    <tr>\n",
       "      <td>education</td>\n",
       "      <td>4013</td>\n",
       "      <td>370</td>\n",
       "      <td>9.220035</td>\n",
       "    </tr>\n",
       "    <tr>\n",
       "      <td>wedding</td>\n",
       "      <td>2324</td>\n",
       "      <td>186</td>\n",
       "      <td>8.003442</td>\n",
       "    </tr>\n",
       "    <tr>\n",
       "      <td>housing</td>\n",
       "      <td>10811</td>\n",
       "      <td>782</td>\n",
       "      <td>7.233373</td>\n",
       "    </tr>\n",
       "  </tbody>\n",
       "</table>\n",
       "</div>"
      ],
      "text/plain": [
       "               debt      percentage, %\n",
       "              count  sum              \n",
       "purpose                               \n",
       "car purchase   4306  403      9.359034\n",
       "education      4013  370      9.220035\n",
       "wedding        2324  186      8.003442\n",
       "housing       10811  782      7.233373"
      ]
     },
     "execution_count": 19,
     "metadata": {},
     "output_type": "execute_result"
    }
   ],
   "source": [
    "data_grouped_purpose = data.groupby(['purpose']).agg({'debt':['count','sum']})\n",
    "data_grouped_purpose['percentage, %'] = data_grouped_purpose['debt','sum']/data_grouped_purpose['debt','count'] * 100\n",
    "data_grouped_purpose.sort_values(['percentage, %'], ascending = False).head()"
   ]
  },
  {
   "cell_type": "markdown",
   "metadata": {},
   "source": [
    "#### Conclusion"
   ]
  },
  {
   "cell_type": "markdown",
   "metadata": {},
   "source": [
    "The data in the table above indicates that customers who take out loans intended for car purchases or education have the highest chance of failing to repay the loan, whereas housing loans have the lowest chance, and loans for weddings fall in the middle. \n",
    "\n",
    "Initially it was assumed that housing loans would result in the highest chance of defaulting, simply because the amount of these loans are significantly higher compared to the other categories. However, housing and real estate is known to retain value, so even if a customer fails to meet the payments on the loan, the housing or real estate could be sold without much loss to repay the loan. A car, on the other hand, is notorious for depreciating quickly, which would be detrimental for a customer who is unable to make the loan payments. Likewise, for student loans, unless the recent graduate gets a well-paying job right out of college, the high cost of a university degree is often difficult to pay back. Weddings fall into the middle range likely because they are not quite as expensive as education, but do not hold any value to offset the cost of the loan."
   ]
  },
  {
   "cell_type": "markdown",
   "metadata": {},
   "source": [
    "### General conclusion"
   ]
  },
  {
   "cell_type": "markdown",
   "metadata": {},
   "source": [
    "The purpose of this project was to determine how certain attributes of a customer's credit worthiness profile impact the ability of the customer to pay back a loan.\n",
    "\n",
    "The bank provided existing data regarding customer's credit worthiness that was utilized to determine the relationships between the various customer attributes and the customer's ability to pay back the loan. This data was preprocessed to replace missing values (either data gathering errors or jobless customers), remove duplicate data entries, and to categorize some of the broader attributes to aid in analyzing the data. \n",
    "\n",
    "To determine the correlation between specific customer attributes and the ability to pay back a loan, various pivot tables highlighting the bank's existing customer credit worthiness data were utilized to determine the overall percentage of customers that defaulted on loans with respect to the various attributes considered: children, marital status, income level, and loan purpose. A summary of the results is provided in the tables below:\n",
    "\n",
    "| Number of children | Percentage of customers  that default on load |\n",
    "|--------------------|-----------------------------------------------|\n",
    "| 0                  | 7.54%                                         |\n",
    "| 1                  | 9.23%                                         |\n",
    "| 2                  | 9.45%                                         |\n",
    "| 3                  | 8.18%                                         |\n",
    "\n",
    "\n",
    "| Marital Status    | Percentage of customers  that default on load |\n",
    "|-------------------|-----------------------------------------------|\n",
    "| Unmarried         | 9.75%                                         |\n",
    "| Civil Partnership | 9.35%                                         |\n",
    "| Married           | 7.55%                                         |\n",
    "| Divorced          | 7.11%                                         |\n",
    "| Widow / Widower   | 6.57%                                         |\n",
    "\n",
    "| Income Bracket | Percentage of customers  that default on load |\n",
    "|----------------|-----------------------------------------------|\n",
    "| Middle         | 8.78%                                         |\n",
    "| Low            | 8.04%                                         |\n",
    "| High           | 7.58%                                         |\n",
    "| Wealthy        | 5.67%                                         |\n",
    "\n",
    "| Loan Purpose | Percentage of customers  that default on load |\n",
    "|--------------|-----------------------------------------------|\n",
    "| Car Purchase | 9.36%                                         |\n",
    "| Education    | 9.22%                                         |\n",
    "| Wedding      | 8.00%                                         |\n",
    "| Housing      | 7.23%                                         |\n",
    "\n",
    "From the data that was generated, there is not one clear attribute that signifies a customer will or will not default on a loan. Rather, certain situations in each of the attributes slightly increase the chance that a customer will default on a loan. While it is shown that customer's that have children or are unmarried or in a civil partnership have the highest likelihood for defaulting on a loan, the other attributes must also be taken into account. \n",
    "\n",
    "For example, a customer may be in a civil partnership and have kids, but fall under the wealth income bracket and are using the loan to fund a new house. The overall risk of this customer defaulting on a loan would fall into a medium risk area as the low risk of being in the wealthy income bracket and using the loan for housing would offset the risk associated with children and being in a civil partnership.\n",
    "\n",
    "All of these attributes must be carefully evaluated for prospective customers. Risk must not be scored on one individual attribute, but all attributes. Customer's who fall into the riskier categories for all four of the attributes evaluated herein should be considered a risky customer from the bank's perspective. "
   ]
  },
  {
   "cell_type": "markdown",
   "metadata": {},
   "source": [
    "<div class=\"alert alert-block alert-success\">\n",
    "<b>Reviewer's comment</b>\n",
    "\n",
    "Impressive overall conclusion. Exactly what you need in an analytical report. Separately, I want to praise you for the table - it is very convenient and clear.\n",
    "\n",
    "</div>\n"
   ]
  },
  {
   "cell_type": "markdown",
   "metadata": {},
   "source": [
    "### Project Readiness Checklist\n",
    "\n",
    "Put 'x' in the completed points. Then press Shift + Enter."
   ]
  },
  {
   "cell_type": "markdown",
   "metadata": {},
   "source": [
    "- [x]  file open;\n",
    "- [x]  file examined;\n",
    "- [x]  missing values defined;\n",
    "- [x]  missing values are filled;\n",
    "- [x]  an explanation of which missing value types were detected;\n",
    "- [x]  explanation for the possible causes of missing values;\n",
    "- [x]  an explanation of how the blanks are filled;\n",
    "- [x]  replaced the real data type with an integer;\n",
    "- [x]  an explanation of which method is used to change the data type and why;\n",
    "- [x]  duplicates deleted;\n",
    "- [x]  an explanation of which method is used to find and remove duplicates;\n",
    "- [x]  description of the possible reasons for the appearance of duplicates in the data;\n",
    "- [x]  data is categorized;\n",
    "- [x]  an explanation of the principle of data categorization;\n",
    "- [x]  an answer to the question \"Is there a relation between having kids and repaying a loan on time?\";\n",
    "- [x]  an answer to the question \" Is there a relation between marital status and repaying a loan on time?\";\n",
    "- [x]   an answer to the question \" Is there a relation between income level and repaying a loan on time?\";\n",
    "- [x]  an answer to the question \" How do different loan purposes affect on-time repayment of the loan?\"\n",
    "- [x]  conclusions are present on each stage;\n",
    "- [x]  a general conclusion is made."
   ]
  },
  {
   "cell_type": "code",
   "execution_count": null,
   "metadata": {},
   "outputs": [],
   "source": []
  }
 ],
 "metadata": {
  "kernelspec": {
   "display_name": "Python 3",
   "language": "python",
   "name": "python3"
  },
  "language_info": {
   "codemirror_mode": {
    "name": "ipython",
    "version": 3
   },
   "file_extension": ".py",
   "mimetype": "text/x-python",
   "name": "python",
   "nbconvert_exporter": "python",
   "pygments_lexer": "ipython3",
   "version": "3.7.8"
  },
  "toc": {
   "base_numbering": 1,
   "nav_menu": {},
   "number_sections": true,
   "sideBar": true,
   "skip_h1_title": true,
   "title_cell": "Table of Contents",
   "title_sidebar": "Contents",
   "toc_cell": false,
   "toc_position": {},
   "toc_section_display": true,
   "toc_window_display": false
  }
 },
 "nbformat": 4,
 "nbformat_minor": 2
}
