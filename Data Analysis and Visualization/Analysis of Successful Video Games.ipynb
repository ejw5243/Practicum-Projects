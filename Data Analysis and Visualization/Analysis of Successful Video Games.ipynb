{
 "cells": [
  {
   "cell_type": "markdown",
   "metadata": {},
   "source": [
    "# Ice Future Video Game Predictions\n",
    "\n",
    "## Purpose\n",
    "\n",
    "The purpose of this project is to analyze worldwide data from thousands of video games in order to determine what factors help a game to succeed financially. These factors will be used to plan an advertising campaign to target potential high grossing games for 2017.\n",
    "\n",
    "## Table of Contents\n",
    "<a href='#General Data Information'>General Data Information</a>\n",
    "\n",
    "<a href='#Data Preparation'>Data Preparation</a>\n",
    "\n",
    "<a href='#Data Analysis'>Data Analysis</a>\n",
    "\n",
    "<a href='#Regional Profiles'>Regional Profiles</a>\n",
    "\n",
    "<a href='#Hypotheses Testing'>Hypotheses Testing</a>\n",
    "\n",
    "<a href='#Overall Conclusion'>Overall Conclusion</a>\n",
    "\n",
    "<a id='General Data Information'></a>\n",
    "## General Data Information\n",
    "\n",
    "Initially, a general look at the data is performed."
   ]
  },
  {
   "cell_type": "code",
   "execution_count": 84,
   "metadata": {},
   "outputs": [
    {
     "name": "stdout",
     "output_type": "stream",
     "text": [
      "<class 'pandas.core.frame.DataFrame'>\n",
      "RangeIndex: 16715 entries, 0 to 16714\n",
      "Data columns (total 11 columns):\n",
      "Name               16713 non-null object\n",
      "Platform           16715 non-null object\n",
      "Year_of_Release    16446 non-null float64\n",
      "Genre              16713 non-null object\n",
      "NA_sales           16715 non-null float64\n",
      "EU_sales           16715 non-null float64\n",
      "JP_sales           16715 non-null float64\n",
      "Other_sales        16715 non-null float64\n",
      "Critic_Score       8137 non-null float64\n",
      "User_Score         10014 non-null object\n",
      "Rating             9949 non-null object\n",
      "dtypes: float64(6), object(5)\n",
      "memory usage: 1.4+ MB\n"
     ]
    },
    {
     "data": {
      "text/html": [
       "<div>\n",
       "<style scoped>\n",
       "    .dataframe tbody tr th:only-of-type {\n",
       "        vertical-align: middle;\n",
       "    }\n",
       "\n",
       "    .dataframe tbody tr th {\n",
       "        vertical-align: top;\n",
       "    }\n",
       "\n",
       "    .dataframe thead th {\n",
       "        text-align: right;\n",
       "    }\n",
       "</style>\n",
       "<table border=\"1\" class=\"dataframe\">\n",
       "  <thead>\n",
       "    <tr style=\"text-align: right;\">\n",
       "      <th></th>\n",
       "      <th>Name</th>\n",
       "      <th>Platform</th>\n",
       "      <th>Year_of_Release</th>\n",
       "      <th>Genre</th>\n",
       "      <th>NA_sales</th>\n",
       "      <th>EU_sales</th>\n",
       "      <th>JP_sales</th>\n",
       "      <th>Other_sales</th>\n",
       "      <th>Critic_Score</th>\n",
       "      <th>User_Score</th>\n",
       "      <th>Rating</th>\n",
       "    </tr>\n",
       "  </thead>\n",
       "  <tbody>\n",
       "    <tr>\n",
       "      <td>0</td>\n",
       "      <td>Wii Sports</td>\n",
       "      <td>Wii</td>\n",
       "      <td>2006.0</td>\n",
       "      <td>Sports</td>\n",
       "      <td>41.36</td>\n",
       "      <td>28.96</td>\n",
       "      <td>3.77</td>\n",
       "      <td>8.45</td>\n",
       "      <td>76.0</td>\n",
       "      <td>8</td>\n",
       "      <td>E</td>\n",
       "    </tr>\n",
       "    <tr>\n",
       "      <td>1</td>\n",
       "      <td>Super Mario Bros.</td>\n",
       "      <td>NES</td>\n",
       "      <td>1985.0</td>\n",
       "      <td>Platform</td>\n",
       "      <td>29.08</td>\n",
       "      <td>3.58</td>\n",
       "      <td>6.81</td>\n",
       "      <td>0.77</td>\n",
       "      <td>NaN</td>\n",
       "      <td>NaN</td>\n",
       "      <td>NaN</td>\n",
       "    </tr>\n",
       "    <tr>\n",
       "      <td>2</td>\n",
       "      <td>Mario Kart Wii</td>\n",
       "      <td>Wii</td>\n",
       "      <td>2008.0</td>\n",
       "      <td>Racing</td>\n",
       "      <td>15.68</td>\n",
       "      <td>12.76</td>\n",
       "      <td>3.79</td>\n",
       "      <td>3.29</td>\n",
       "      <td>82.0</td>\n",
       "      <td>8.3</td>\n",
       "      <td>E</td>\n",
       "    </tr>\n",
       "    <tr>\n",
       "      <td>3</td>\n",
       "      <td>Wii Sports Resort</td>\n",
       "      <td>Wii</td>\n",
       "      <td>2009.0</td>\n",
       "      <td>Sports</td>\n",
       "      <td>15.61</td>\n",
       "      <td>10.93</td>\n",
       "      <td>3.28</td>\n",
       "      <td>2.95</td>\n",
       "      <td>80.0</td>\n",
       "      <td>8</td>\n",
       "      <td>E</td>\n",
       "    </tr>\n",
       "    <tr>\n",
       "      <td>4</td>\n",
       "      <td>Pokemon Red/Pokemon Blue</td>\n",
       "      <td>GB</td>\n",
       "      <td>1996.0</td>\n",
       "      <td>Role-Playing</td>\n",
       "      <td>11.27</td>\n",
       "      <td>8.89</td>\n",
       "      <td>10.22</td>\n",
       "      <td>1.00</td>\n",
       "      <td>NaN</td>\n",
       "      <td>NaN</td>\n",
       "      <td>NaN</td>\n",
       "    </tr>\n",
       "  </tbody>\n",
       "</table>\n",
       "</div>"
      ],
      "text/plain": [
       "                       Name Platform  Year_of_Release         Genre  NA_sales  \\\n",
       "0                Wii Sports      Wii           2006.0        Sports     41.36   \n",
       "1         Super Mario Bros.      NES           1985.0      Platform     29.08   \n",
       "2            Mario Kart Wii      Wii           2008.0        Racing     15.68   \n",
       "3         Wii Sports Resort      Wii           2009.0        Sports     15.61   \n",
       "4  Pokemon Red/Pokemon Blue       GB           1996.0  Role-Playing     11.27   \n",
       "\n",
       "   EU_sales  JP_sales  Other_sales  Critic_Score User_Score Rating  \n",
       "0     28.96      3.77         8.45          76.0          8      E  \n",
       "1      3.58      6.81         0.77           NaN        NaN    NaN  \n",
       "2     12.76      3.79         3.29          82.0        8.3      E  \n",
       "3     10.93      3.28         2.95          80.0          8      E  \n",
       "4      8.89     10.22         1.00           NaN        NaN    NaN  "
      ]
     },
     "execution_count": 84,
     "metadata": {},
     "output_type": "execute_result"
    }
   ],
   "source": [
    "#Import necessary libraries\n",
    "import pandas as pd\n",
    "import numpy as np\n",
    "import seaborn as sns\n",
    "import matplotlib.pyplot as plt\n",
    "import scipy as sc\n",
    "from scipy import stats as st\n",
    "\n",
    "game_data = pd.read_csv('/datasets/games.csv')\n",
    "#Display general information on the data frame\n",
    "game_data.info()\n",
    "\n",
    "game_data.head()"
   ]
  },
  {
   "cell_type": "markdown",
   "metadata": {},
   "source": [
    "**Duplicate Check and Removal**\n",
    "\n",
    "In addition to a general look at the data sets, the data is checked for any duplicate entries."
   ]
  },
  {
   "cell_type": "code",
   "execution_count": 85,
   "metadata": {},
   "outputs": [
    {
     "name": "stdout",
     "output_type": "stream",
     "text": [
      "The total number of duplicated entries in the data frame is 0\n"
     ]
    }
   ],
   "source": [
    "#Check for duplicate entries\n",
    "print('The total number of duplicated entries in the data frame is {}'.format(game_data.duplicated().sum()))"
   ]
  },
  {
   "cell_type": "markdown",
   "metadata": {},
   "source": [
    "### General Data Information Conclusion\n",
    "\n",
    "From the initial look at the data, several of the attributes are missing values. `Name` and `Genre` are only missing two each and should be easy to deal with; however, `Critic_Score`, `User_Score`, and `Rating` are also missing a sizeable portion (sometimes up to 50%) of entries and will require some work to populate this without affecting the accuracy of the data. No duplicate entries required removal.\n",
    "\n",
    "<a id='Data Preparation'></a>\n",
    "## Data Preparation\n",
    "\n",
    "The data must be preprocessed, filling in the missing values noticed from the initial data look, and changing data types as necessary. All columns are first changed to all lowercase to prevent confusion and make the data cleaner to work with going forward. From there, modifications to each column attribute are made."
   ]
  },
  {
   "cell_type": "code",
   "execution_count": 86,
   "metadata": {},
   "outputs": [],
   "source": [
    "#Convert all data frame columns to lowercase\n",
    "game_data.columns = game_data.columns.str.lower()"
   ]
  },
  {
   "cell_type": "markdown",
   "metadata": {},
   "source": [
    "**`name`**\n",
    "\n",
    "In the `name` attribute, there are two entries with missing values. These missing values seem to be missing completely at random (MCAR). Since there are so few and they are MCAR, these rows with the missing values can be deleted without impacting the accuracy of the data."
   ]
  },
  {
   "cell_type": "code",
   "execution_count": 87,
   "metadata": {},
   "outputs": [],
   "source": [
    "#Remove missing values from name column\n",
    "game_data['name'].dropna(inplace = True)"
   ]
  },
  {
   "cell_type": "markdown",
   "metadata": {},
   "source": [
    "**`year_of_release`**\n",
    "\n",
    "In the `year_of_release` attribute, there are 269 entries with missing values, which make up ~2% of the data. These entries with missing values could be deleted without affecting the overall distribution of the data; however, the missing values could also be replaced with the median value without significantly affecting the overall distribution. The latter is chosen. Additionally, since the attribute consists of a year and doesn't benefit from a fractional representation, the data type is changed from float64 to integer."
   ]
  },
  {
   "cell_type": "code",
   "execution_count": 88,
   "metadata": {},
   "outputs": [],
   "source": [
    "#Replaces missing values in the year_of_release column with the median year\n",
    "median_year_of_release = game_data['year_of_release'].median()\n",
    "game_data['year_of_release'].fillna(value = median_year_of_release, inplace = True)\n",
    "\n",
    "#Changes data type to Integer\n",
    "game_data['year_of_release'] = game_data['year_of_release'].astype('int')"
   ]
  },
  {
   "cell_type": "markdown",
   "metadata": {},
   "source": [
    "**`genre`**\n",
    "\n",
    "In the `genre` attribute, there are two entries with missing values. These missing values also seem to be MCAR and therefore, these rows with the missing values can be deleted without impacting the overall data."
   ]
  },
  {
   "cell_type": "code",
   "execution_count": 89,
   "metadata": {},
   "outputs": [],
   "source": [
    "#Remove missing values from genre column\n",
    "game_data['genre'].dropna(inplace=True)"
   ]
  },
  {
   "cell_type": "markdown",
   "metadata": {},
   "source": [
    "**`critic_score`, `user_score`, and `rating`**\n",
    "\n",
    "The `critic_score` and `user_score` attributes have a significant number of missing values (nearly half of the total entries). As a crucial part of determining a video game's popularity, these attributes must be dealt with accurately, which is not as simple as using the mean or median value. It is noted that when either of these attributes has a missing value, the other attribute, as well as the `rating` attribute are also missing values. It is anticipated that this may be a result of how or when the data for these specific games was gathered, notably for older games (older than 2000) as a majority of these older games are missing ratings.\n",
    "\n",
    "Prior to filling in the missing values, the 'tbd' value in the `user_score` attribute must be addressed. As a result of the 'tbd' string being present in `user_score`, the entire attribute is handled as an object type, which will cause difficulties in further analyses. Theoretically, the 'tbd' value is just a missing value, and thus will be treated as one. All the 'tbd' values must be converted to NaN, and `user_score` should also be converted to float64 once all the 'tbd' values are dealt with."
   ]
  },
  {
   "cell_type": "code",
   "execution_count": 90,
   "metadata": {},
   "outputs": [],
   "source": [
    "#Replaces all tbd with NaN in the user score column and converts the column to a float data type\n",
    "game_data['user_score'].replace('tbd', np.NaN, inplace=True)\n",
    "game_data['user_score'] = game_data['user_score'].astype(float)"
   ]
  },
  {
   "cell_type": "markdown",
   "metadata": {},
   "source": [
    "Since several of the games are multiplatform games, the `user_score`, `critic_score`, and `rating` from other platforms could be used to fill in missing values."
   ]
  },
  {
   "cell_type": "code",
   "execution_count": 91,
   "metadata": {},
   "outputs": [],
   "source": [
    "#Fills in missing values for games on a platform that have user or critic scores on a different platform\n",
    "game_data['critic_score'].fillna(game_data.groupby(['name'])['critic_score'].transform('first'), inplace=True)\n",
    "game_data['user_score'].fillna(game_data.groupby(['name'])['user_score'].transform('first'), inplace=True)\n",
    "game_data['rating'].fillna(game_data.groupby(['name'])['rating'].transform('first'), inplace=True)"
   ]
  },
  {
   "cell_type": "markdown",
   "metadata": {},
   "source": [
    "It also appears that the values in `critic_score` are closely related to the values of `user_score` except increased by a magnitude of 10. To quantify this relationship, the correlation between the two values is calculated."
   ]
  },
  {
   "cell_type": "code",
   "execution_count": 92,
   "metadata": {},
   "outputs": [
    {
     "name": "stdout",
     "output_type": "stream",
     "text": [
      "The correlation between user_score and critic_score is 0.54.\n"
     ]
    }
   ],
   "source": [
    "print('The correlation between user_score and critic_score is {:.2f}.'.format(game_data['user_score'].corr(game_data['critic_score'])))"
   ]
  },
  {
   "cell_type": "markdown",
   "metadata": {},
   "source": [
    "With a reasonably strong correlation between the two scores, a missing `user_score` can be generated from a `critic_score` and vice versa."
   ]
  },
  {
   "cell_type": "code",
   "execution_count": 93,
   "metadata": {},
   "outputs": [],
   "source": [
    "#Purpose of this function is to fill in the missing critic_score based on provided user_score. The critic_score is the\n",
    "#user_score multiplied by 10\n",
    "def critic_score_calculator(critic_score, user_score):\n",
    "    if np.isnan(critic_score) and np.isnan(user_score) == True:\n",
    "        return critic_score\n",
    "    elif np.isnan(critic_score) == True:\n",
    "        calculated_critic_score = user_score * 10\n",
    "        return calculated_critic_score\n",
    "    else:\n",
    "        return critic_score\n",
    "\n",
    "#Purpose of this function is to fill in the missing user_score based on provided critic_score. The user_score is the\n",
    "#critic_score divided by 10\n",
    "def user_score_calculator(critic_score, user_score):\n",
    "    if np.isnan(critic_score) and np.isnan(user_score) == True:\n",
    "        return user_score\n",
    "    elif np.isnan(user_score) == True:\n",
    "        calculated_user_score = critic_score / 10\n",
    "        return calculated_user_score\n",
    "    else:\n",
    "        return user_score\n",
    "\n",
    "#Applies the critic_score_calculator and user_score_calculator to the data frame\n",
    "game_data['critic_score'] = game_data.apply(lambda row: critic_score_calculator(row['critic_score'], row['user_score']), axis = 1)\n",
    "game_data['user_score'] = game_data.apply(lambda row: user_score_calculator(row['critic_score'], row['user_score']), axis = 1)"
   ]
  },
  {
   "cell_type": "markdown",
   "metadata": {},
   "source": [
    "With a large portion of the missing values now accurately replaced by the above methods, there aren't many options left for replacing the remaining missing values. As a categorical variable, the missing values in `rating` can be replaced with a \"U\" to symbolize an unknown rating. For the `critic_score` and `user_score`, due to the sheer number of missing values present, these missing values are replaced with an indicator of 0, such that they can be removed as necessary to avoid altering the data with respect to these unknown values."
   ]
  },
  {
   "cell_type": "code",
   "execution_count": 94,
   "metadata": {},
   "outputs": [],
   "source": [
    "game_data['critic_score'].fillna(0, inplace=True)\n",
    "game_data['user_score'].fillna(0, inplace=True)\n",
    "game_data['rating'].fillna('U', inplace=True)"
   ]
  },
  {
   "cell_type": "markdown",
   "metadata": {},
   "source": [
    "**Global Sales**\n",
    "\n",
    "A new column, `global_sales` is added to the data frame that contains the total worldwide sales for each game."
   ]
  },
  {
   "cell_type": "code",
   "execution_count": 95,
   "metadata": {},
   "outputs": [],
   "source": [
    "#Adds a new column to the data frame to calculate the total sales\n",
    "game_data['global_sales'] = game_data['na_sales'] + game_data['eu_sales'] + game_data['jp_sales'] + game_data['other_sales']"
   ]
  },
  {
   "cell_type": "markdown",
   "metadata": {},
   "source": [
    "### Data Preparation Conclusion\n",
    "\n",
    "All missing values have been addressed and several attributes have had their data types changed to improve workability in future analysis. The `critic_score` and `user_score` missing values have been dealt with as best they can; however, a significant number of the missing values had to be filled in with the median values. This may slightly misrepresent the impact these two attributes have on the overall success of the game.\n",
    "\n",
    "An additional column `global_sales` has been added to better represent the worldwide success of each game. This attribute will be crucial in determining what factors impact a game's overall success. \n",
    "\n",
    "<a id='Data Analysis'></a>\n",
    "## Data Analysis\n",
    "\n",
    "Now that the data has been preprocessed, it can be analyzed in detail. The gaming industry has evolved considerably over time, so the first thing that is evaluated in greater detail is the games released over time.\n",
    "\n",
    "### Creating Ideal Data Sample\n",
    "\n",
    "A histogram is plotted to show the distribution of games released over the years."
   ]
  },
  {
   "cell_type": "code",
   "execution_count": 96,
   "metadata": {},
   "outputs": [
    {
     "data": {
      "image/png": "[encoded data removed]",
      "text/plain": [
       "<Figure size 432x288 with 1 Axes>"
      ]
     },
     "metadata": {
      "needs_background": "light"
     },
     "output_type": "display_data"
    }
   ],
   "source": [
    "#Creates histogram showing the distribution of the attribute year_of_release\n",
    "sns.distplot(game_data['year_of_release'], bins = 20)\n",
    "plt.xlabel('Year')\n",
    "plt.ylabel('Occurences')\n",
    "plt.title('Year of Release', weight = 'bold', size =16)\n",
    "plt.show()"
   ]
  },
  {
   "cell_type": "markdown",
   "metadata": {},
   "source": [
    "From the histogram displaying the distribution of the `year_of_released`, there are very few games released prior to 1995 in this dataset, whereas the majority of the games are from the 2000s time period. The `global_sales` for games during each of these years can be better understood by generating a heatmap showing the `global_sales` relative to the `year_of_release` and `platform`."
   ]
  },
  {
   "cell_type": "code",
   "execution_count": 97,
   "metadata": {},
   "outputs": [
    {
     "data": {
      "image/png": "[encoded data removed]",
      "text/plain": [
       "<Figure size 720x720 with 2 Axes>"
      ]
     },
     "metadata": {
      "needs_background": "light"
     },
     "output_type": "display_data"
    }
   ],
   "source": [
    "#Creates a heatmap for platform, global_sales, and year_of_release\n",
    "platform_sales = game_data.pivot_table(index = 'year_of_release', values = 'global_sales', columns = 'platform', aggfunc = 'sum')\n",
    "fig, hmx = plt.subplots(figsize = (10,10))\n",
    "hmx = sns.heatmap(platform_sales, vmin = 0, vmax = 175)"
   ]
  },
  {
   "cell_type": "markdown",
   "metadata": {},
   "source": [
    "There are a few observations that can be made from the heatmap regarding platform sales and the lifetime of certain platforms:\n",
    "- PC sales has been consistently present since the 1990s; but has never had huge success for total in total sales. Sales have almost always been among the lowest of platform sales.\n",
    "- The Gameboy's, PlayStation's, and Xbox's have all exhibited the same general cycle regarding the release of new generations of platforms. Initially the old console begins to decline in global sales once the next console version is released. The next generation of the console initially starts at very low sales, but increases over the next few years as owners of the old generation of the console begin to transition over. Eventually, the old generation of the console stops earning sales altogether, typically at the peak of the new generation's sales. The typical timeline of these cycles is around 10 - 12 years, with the platform reaping peak sales for approximately 3 - 5 of those years when it is most relevant, with the fading in and fading out periods making up the remaining years.\n",
    "- There are a few data anomalies, notably: in the year 2007 there are data entries for platforms that were not longer relevant (2600, DC, and GBA), or not yet released (3DS and PSV); and there are two gaps in the year 1993 for the GB and PC that one would expect would have data. The data anomaly for the year 2007 is a result of there being missing values for this platform that were filled in with the mean `year_of_release`."
   ]
  },
  {
   "cell_type": "markdown",
   "metadata": {},
   "source": [
    "With the information from the `year_of_release` histogram and the heatmap, the current data frame can be reduced to a more useful data sample by removing the outliers and all data that is irrelevant for predictions in the upcoming 2017 year. Nearly all data prior to 1995 could be classified as outliers. From 1995 to 2012, there is a lot of useful data on prior platforms and their life cycle; however all of these are irrelevant and non-existent now. In order to best predict sales for 2017, data from 2013 and onward will be used, right when the PS4, Xbox One, and WiiU are getting ready to reach their peak relevance in their lifetime."
   ]
  },
  {
   "cell_type": "code",
   "execution_count": 98,
   "metadata": {},
   "outputs": [],
   "source": [
    "#Creates a new data frame of only games released after 1995\n",
    "useful_game_data = game_data.query('year_of_release >= 2013')"
   ]
  },
  {
   "cell_type": "markdown",
   "metadata": {},
   "source": [
    "### Selecting Leading Platforms\n",
    "\n",
    "With a better sample size selected, the data can be evaluated to determine which platforms are the most popular with regards to the highest sales."
   ]
  },
  {
   "cell_type": "code",
   "execution_count": 99,
   "metadata": {},
   "outputs": [
    {
     "data": {
      "text/html": [
       "<div>\n",
       "<style scoped>\n",
       "    .dataframe tbody tr th:only-of-type {\n",
       "        vertical-align: middle;\n",
       "    }\n",
       "\n",
       "    .dataframe tbody tr th {\n",
       "        vertical-align: top;\n",
       "    }\n",
       "\n",
       "    .dataframe thead tr th {\n",
       "        text-align: left;\n",
       "    }\n",
       "\n",
       "    .dataframe thead tr:last-of-type th {\n",
       "        text-align: right;\n",
       "    }\n",
       "</style>\n",
       "<table border=\"1\" class=\"dataframe\">\n",
       "  <thead>\n",
       "    <tr>\n",
       "      <th></th>\n",
       "      <th>count</th>\n",
       "      <th>sum</th>\n",
       "      <th>mean</th>\n",
       "    </tr>\n",
       "    <tr>\n",
       "      <th></th>\n",
       "      <th>global_sales</th>\n",
       "      <th>global_sales</th>\n",
       "      <th>global_sales</th>\n",
       "    </tr>\n",
       "    <tr>\n",
       "      <th>platform</th>\n",
       "      <th></th>\n",
       "      <th></th>\n",
       "      <th></th>\n",
       "    </tr>\n",
       "  </thead>\n",
       "  <tbody>\n",
       "    <tr>\n",
       "      <td>PS4</td>\n",
       "      <td>392</td>\n",
       "      <td>314.14</td>\n",
       "      <td>0.801378</td>\n",
       "    </tr>\n",
       "    <tr>\n",
       "      <td>PS3</td>\n",
       "      <td>345</td>\n",
       "      <td>181.43</td>\n",
       "      <td>0.525884</td>\n",
       "    </tr>\n",
       "    <tr>\n",
       "      <td>XOne</td>\n",
       "      <td>247</td>\n",
       "      <td>159.32</td>\n",
       "      <td>0.645020</td>\n",
       "    </tr>\n",
       "    <tr>\n",
       "      <td>3DS</td>\n",
       "      <td>303</td>\n",
       "      <td>143.25</td>\n",
       "      <td>0.472772</td>\n",
       "    </tr>\n",
       "    <tr>\n",
       "      <td>X360</td>\n",
       "      <td>186</td>\n",
       "      <td>136.80</td>\n",
       "      <td>0.735484</td>\n",
       "    </tr>\n",
       "    <tr>\n",
       "      <td>WiiU</td>\n",
       "      <td>115</td>\n",
       "      <td>64.63</td>\n",
       "      <td>0.562000</td>\n",
       "    </tr>\n",
       "    <tr>\n",
       "      <td>PC</td>\n",
       "      <td>189</td>\n",
       "      <td>39.43</td>\n",
       "      <td>0.208624</td>\n",
       "    </tr>\n",
       "    <tr>\n",
       "      <td>PSV</td>\n",
       "      <td>358</td>\n",
       "      <td>32.99</td>\n",
       "      <td>0.092151</td>\n",
       "    </tr>\n",
       "    <tr>\n",
       "      <td>Wii</td>\n",
       "      <td>23</td>\n",
       "      <td>13.66</td>\n",
       "      <td>0.593913</td>\n",
       "    </tr>\n",
       "    <tr>\n",
       "      <td>PSP</td>\n",
       "      <td>67</td>\n",
       "      <td>3.50</td>\n",
       "      <td>0.052239</td>\n",
       "    </tr>\n",
       "  </tbody>\n",
       "</table>\n",
       "</div>"
      ],
      "text/plain": [
       "                count          sum         mean\n",
       "         global_sales global_sales global_sales\n",
       "platform                                       \n",
       "PS4               392       314.14     0.801378\n",
       "PS3               345       181.43     0.525884\n",
       "XOne              247       159.32     0.645020\n",
       "3DS               303       143.25     0.472772\n",
       "X360              186       136.80     0.735484\n",
       "WiiU              115        64.63     0.562000\n",
       "PC                189        39.43     0.208624\n",
       "PSV               358        32.99     0.092151\n",
       "Wii                23        13.66     0.593913\n",
       "PSP                67         3.50     0.052239"
      ]
     },
     "execution_count": 99,
     "metadata": {},
     "output_type": "execute_result"
    }
   ],
   "source": [
    "#Creates a pivot table for global_sales for each platform type\n",
    "useful_game_data.pivot_table(index = 'platform', values = 'global_sales', aggfunc = ['count','sum','mean']).sort_values(('sum','global_sales'), ascending = False).head(10)"
   ]
  },
  {
   "cell_type": "markdown",
   "metadata": {},
   "source": [
    "PlayStation clearly controls the `global_sales` category, holding the top two spots with the PS4 and PS3, in overall sales. Based on this data, as well as the data in the heatmap, for the upcoming release of games in 2017, the PS4 and Xbox One are just reaching their peak sales in their life time cycle. It is highly likely that these two platforms will have some of the most successful games in 2017. WiiU and Nintendo 3DS do not seem to be increasing their sales as one would expect at this point in their life cycle; however, they are the latest platform releases from two previously very successful platforms. PS3 and Xbox 360 also have high `global_sales` but they are losing relevance with the release of the next generation of systems. PS4, Xbox One, WiiU and Nintendo 3DS would be the leading candidates for having the most successful grossing games in 2017.\n",
    "\n",
    "To get a better understanding of the distribution of `global_sales` for each of the relevant platforms in the chosen time period, a box plot is created."
   ]
  },
  {
   "cell_type": "code",
   "execution_count": 100,
   "metadata": {},
   "outputs": [
    {
     "data": {
      "text/plain": [
       "[(0, 10)]"
      ]
     },
     "execution_count": 100,
     "metadata": {},
     "output_type": "execute_result"
    },
    {
     "data": {
      "image/png": "[encoded data removed]",
      "text/plain": [
       "<Figure size 1440x576 with 1 Axes>"
      ]
     },
     "metadata": {
      "needs_background": "light"
     },
     "output_type": "display_data"
    }
   ],
   "source": [
    "#Creates box plot for global_sales, separated by platform\n",
    "fig, bx = plt.subplots(figsize = (20, 8))\n",
    "sns.catplot(x = 'platform', y='global_sales', kind='box', data=useful_game_data, palette = 'Set3', ax=bx)\n",
    "plt.close(2)\n",
    "bx.set_title('Global Game Sales for Each Platform', weight ='bold', size=16)\n",
    "bx.set(ylim=(0, 10))"
   ]
  },
  {
   "cell_type": "markdown",
   "metadata": {},
   "source": [
    "It is noted that the box plot vertical axis is limited to \\\\$10 million in sales. There are several games for some platforms that exceed this threshold; however, the useful data in the graph is not visible showing the entire range of sales.\n",
    "\n",
    "The box plot for `global_sales` for each game shows some interesting information when compares to the `global_sales` per platform:\n",
    "- Although PS3 was one of the highest grossing platforms, it also had the lowest average sales compared to the other top sellers, PS4, Xbox One, and the Xbox 360. This is likely due to PS3 being at a period in its life cycle where it is losing relevance compared to the increased popularity of the PS4. \n",
    "- Although they were released in the same year and are considered to be rivals, the PS4 outperformed the Xbox One in every category from greatest number of individual sales, highest average sales, and highest `global_sales`.\n",
    "\n",
    "#### Platform-to-Platform Sales\n",
    "\n",
    "Since many games are multi-platform - playable on several different platforms - an interesting data point will be to evaluate how sales of the same games differ between the platforms. Xbox360, PS3, Xbox One and PS4 are the most popular platforms at this time, so data on `global_sales` for games that are released for each of these platforms will be observed."
   ]
  },
  {
   "cell_type": "code",
   "execution_count": 101,
   "metadata": {},
   "outputs": [
    {
     "data": {
      "text/html": [
       "<div>\n",
       "<style scoped>\n",
       "    .dataframe tbody tr th:only-of-type {\n",
       "        vertical-align: middle;\n",
       "    }\n",
       "\n",
       "    .dataframe tbody tr th {\n",
       "        vertical-align: top;\n",
       "    }\n",
       "\n",
       "    .dataframe thead th {\n",
       "        text-align: right;\n",
       "    }\n",
       "</style>\n",
       "<table border=\"1\" class=\"dataframe\">\n",
       "  <thead>\n",
       "    <tr style=\"text-align: right;\">\n",
       "      <th>platform</th>\n",
       "      <th>PS3</th>\n",
       "      <th>PS4</th>\n",
       "      <th>X360</th>\n",
       "      <th>XOne</th>\n",
       "    </tr>\n",
       "    <tr>\n",
       "      <th>name</th>\n",
       "      <th></th>\n",
       "      <th></th>\n",
       "      <th></th>\n",
       "      <th></th>\n",
       "    </tr>\n",
       "  </thead>\n",
       "  <tbody>\n",
       "    <tr>\n",
       "      <td>Adventure Time: Finn &amp; Jake Investigations</td>\n",
       "      <td>0.08</td>\n",
       "      <td>0.10</td>\n",
       "      <td>0.09</td>\n",
       "      <td>0.05</td>\n",
       "    </tr>\n",
       "    <tr>\n",
       "      <td>Alien: Isolation</td>\n",
       "      <td>0.33</td>\n",
       "      <td>1.12</td>\n",
       "      <td>0.27</td>\n",
       "      <td>0.50</td>\n",
       "    </tr>\n",
       "    <tr>\n",
       "      <td>Angry Birds Star Wars</td>\n",
       "      <td>0.29</td>\n",
       "      <td>0.22</td>\n",
       "      <td>0.28</td>\n",
       "      <td>0.17</td>\n",
       "    </tr>\n",
       "    <tr>\n",
       "      <td>Assassin's Creed IV: Black Flag</td>\n",
       "      <td>3.71</td>\n",
       "      <td>2.86</td>\n",
       "      <td>3.31</td>\n",
       "      <td>2.24</td>\n",
       "    </tr>\n",
       "    <tr>\n",
       "      <td>Batman: A Telltale Game Series</td>\n",
       "      <td>0.06</td>\n",
       "      <td>0.09</td>\n",
       "      <td>0.03</td>\n",
       "      <td>0.03</td>\n",
       "    </tr>\n",
       "    <tr>\n",
       "      <td>Battlefield 4</td>\n",
       "      <td>3.49</td>\n",
       "      <td>3.58</td>\n",
       "      <td>3.49</td>\n",
       "      <td>2.02</td>\n",
       "    </tr>\n",
       "    <tr>\n",
       "      <td>Battlefield: Hardline</td>\n",
       "      <td>0.41</td>\n",
       "      <td>2.11</td>\n",
       "      <td>0.29</td>\n",
       "      <td>1.21</td>\n",
       "    </tr>\n",
       "    <tr>\n",
       "      <td>Call of Duty: Advanced Warfare</td>\n",
       "      <td>4.36</td>\n",
       "      <td>7.66</td>\n",
       "      <td>4.28</td>\n",
       "      <td>5.26</td>\n",
       "    </tr>\n",
       "    <tr>\n",
       "      <td>Call of Duty: Black Ops 3</td>\n",
       "      <td>1.69</td>\n",
       "      <td>14.63</td>\n",
       "      <td>1.70</td>\n",
       "      <td>7.39</td>\n",
       "    </tr>\n",
       "    <tr>\n",
       "      <td>Call of Duty: Ghosts</td>\n",
       "      <td>9.36</td>\n",
       "      <td>3.83</td>\n",
       "      <td>10.24</td>\n",
       "      <td>2.92</td>\n",
       "    </tr>\n",
       "    <tr>\n",
       "      <td>Dark Souls II</td>\n",
       "      <td>1.28</td>\n",
       "      <td>0.61</td>\n",
       "      <td>0.74</td>\n",
       "      <td>0.23</td>\n",
       "    </tr>\n",
       "    <tr>\n",
       "      <td>Deadpool</td>\n",
       "      <td>0.45</td>\n",
       "      <td>0.30</td>\n",
       "      <td>0.43</td>\n",
       "      <td>0.13</td>\n",
       "    </tr>\n",
       "    <tr>\n",
       "      <td>Destiny</td>\n",
       "      <td>1.61</td>\n",
       "      <td>5.64</td>\n",
       "      <td>1.92</td>\n",
       "      <td>3.37</td>\n",
       "    </tr>\n",
       "    <tr>\n",
       "      <td>Destiny: The Taken King</td>\n",
       "      <td>0.36</td>\n",
       "      <td>1.92</td>\n",
       "      <td>0.35</td>\n",
       "      <td>1.20</td>\n",
       "    </tr>\n",
       "    <tr>\n",
       "      <td>Diablo III</td>\n",
       "      <td>1.91</td>\n",
       "      <td>1.83</td>\n",
       "      <td>1.41</td>\n",
       "      <td>0.66</td>\n",
       "    </tr>\n",
       "    <tr>\n",
       "      <td>Disney Infinity 2.0: Marvel Super Heroes</td>\n",
       "      <td>0.95</td>\n",
       "      <td>0.62</td>\n",
       "      <td>1.08</td>\n",
       "      <td>0.44</td>\n",
       "    </tr>\n",
       "    <tr>\n",
       "      <td>Disney Infinity 3.0</td>\n",
       "      <td>0.44</td>\n",
       "      <td>0.73</td>\n",
       "      <td>0.39</td>\n",
       "      <td>0.34</td>\n",
       "    </tr>\n",
       "    <tr>\n",
       "      <td>DmC: Devil May Cry</td>\n",
       "      <td>0.79</td>\n",
       "      <td>0.30</td>\n",
       "      <td>0.43</td>\n",
       "      <td>0.13</td>\n",
       "    </tr>\n",
       "    <tr>\n",
       "      <td>Dragon Age: Inquisition</td>\n",
       "      <td>0.59</td>\n",
       "      <td>2.01</td>\n",
       "      <td>0.53</td>\n",
       "      <td>0.93</td>\n",
       "    </tr>\n",
       "    <tr>\n",
       "      <td>Dragon Ball: XenoVerse</td>\n",
       "      <td>0.49</td>\n",
       "      <td>1.10</td>\n",
       "      <td>0.23</td>\n",
       "      <td>0.32</td>\n",
       "    </tr>\n",
       "  </tbody>\n",
       "</table>\n",
       "</div>"
      ],
      "text/plain": [
       "platform                                     PS3    PS4   X360  XOne\n",
       "name                                                                \n",
       "Adventure Time: Finn & Jake Investigations  0.08   0.10   0.09  0.05\n",
       "Alien: Isolation                            0.33   1.12   0.27  0.50\n",
       "Angry Birds Star Wars                       0.29   0.22   0.28  0.17\n",
       "Assassin's Creed IV: Black Flag             3.71   2.86   3.31  2.24\n",
       "Batman: A Telltale Game Series              0.06   0.09   0.03  0.03\n",
       "Battlefield 4                               3.49   3.58   3.49  2.02\n",
       "Battlefield: Hardline                       0.41   2.11   0.29  1.21\n",
       "Call of Duty: Advanced Warfare              4.36   7.66   4.28  5.26\n",
       "Call of Duty: Black Ops 3                   1.69  14.63   1.70  7.39\n",
       "Call of Duty: Ghosts                        9.36   3.83  10.24  2.92\n",
       "Dark Souls II                               1.28   0.61   0.74  0.23\n",
       "Deadpool                                    0.45   0.30   0.43  0.13\n",
       "Destiny                                     1.61   5.64   1.92  3.37\n",
       "Destiny: The Taken King                     0.36   1.92   0.35  1.20\n",
       "Diablo III                                  1.91   1.83   1.41  0.66\n",
       "Disney Infinity 2.0: Marvel Super Heroes    0.95   0.62   1.08  0.44\n",
       "Disney Infinity 3.0                         0.44   0.73   0.39  0.34\n",
       "DmC: Devil May Cry                          0.79   0.30   0.43  0.13\n",
       "Dragon Age: Inquisition                     0.59   2.01   0.53  0.93\n",
       "Dragon Ball: XenoVerse                      0.49   1.10   0.23  0.32"
      ]
     },
     "execution_count": 101,
     "metadata": {},
     "output_type": "execute_result"
    }
   ],
   "source": [
    "#Creates a list of the most popular platforms and generates a data frame consisting of games only on these platforms\n",
    "relevant_platforms = ['X360', 'PS3', 'XOne', 'PS4']\n",
    "relevant_platform_data = useful_game_data.query('platform in @relevant_platforms')\n",
    "\n",
    "#Creates a pivot table for global sales of games that appear on multiple platforms. Only games that appear on all platforms\n",
    "#are in the final data frame.\n",
    "multiplatform_games = relevant_platform_data.pivot_table(index = 'name', values = 'global_sales', columns = 'platform', aggfunc = 'sum')\n",
    "multiplatform_games.dropna(inplace=True)\n",
    "\n",
    "multiplatform_games.head(20)"
   ]
  },
  {
   "cell_type": "markdown",
   "metadata": {},
   "source": [
    "Games on the highest grossing platforms generally average higher `global_sales` than the less popular platforms, as expected. For a majority of the games, the `global_sales` among all the platforms are within \\\\$1 million of each other; however, there are some rare exceptions, for example Call of Duty: Black Ops 3, where the PS4 sales are \\\\$7 million more than the next best selling platform. The variations in sales rely on the year the game was released vs. what generations of consoles were most relevant at the time. For years 2013 and 2014, PS3 and Xbox 360 were more relevant, with PS4 and Xbox One being more relevant in the later years.\n",
    "\n",
    "### Game Ratings\n",
    "\n",
    "Now that several of the most profitable platforms are known, one of these platforms can be chosen to evaluate how `user_score` and `critic_score` impacts the sales of games. The PS4 is the best selling platform at this time and will be selected. A scatterplot for PS4 games is created for both `user_score` and `critic_score` with respect to `global_sales`. It is noted that since there were a large number of `user_scores` and `critic_scores` that were missing values and were filled with an indicator of 0, these values are excluded from the plots to avoid affecting the overall data."
   ]
  },
  {
   "cell_type": "code",
   "execution_count": 102,
   "metadata": {},
   "outputs": [
    {
     "name": "stdout",
     "output_type": "stream",
     "text": [
      "For PS4 games, the correlation between Critic Score and Global Sales is 0.39, and the correlation between User Score and Global Sales is -0.02\n"
     ]
    },
    {
     "data": {
      "image/png": "[encoded data removed]",
      "text/plain": [
       "<Figure size 432x288 with 1 Axes>"
      ]
     },
     "metadata": {
      "needs_background": "light"
     },
     "output_type": "display_data"
    },
    {
     "data": {
      "image/png": "[encoded data removed]",
      "text/plain": [
       "<Figure size 432x288 with 1 Axes>"
      ]
     },
     "metadata": {
      "needs_background": "light"
     },
     "output_type": "display_data"
    }
   ],
   "source": [
    "#Creates a data frame for only PS4 games\n",
    "ps4_game_data = useful_game_data.query('platform == \"PS4\" and user_score > 0 and critic_score > 0')\n",
    "\n",
    "#Plots scatterplot for PS4 games for critic score vs global sales\n",
    "sx1 = ps4_game_data.plot.scatter(x = 'critic_score', y='global_sales')\n",
    "sx1.set_title('Critic Score vs. Global Sales - PS4', weight ='bold', size = 12)\n",
    "\n",
    "#Plots scatterplot for PS4 games for user score vs global sales\n",
    "sx2 = ps4_game_data.plot.scatter(x= 'user_score', y='global_sales')\n",
    "sx2.set_title('User Score vs. Global Sales - PS4', weight ='bold', size = 12)\n",
    "\n",
    "#Calculates the correlation coefficient for the above two scatterplots\n",
    "print('For PS4 games, the correlation between Critic Score and Global Sales is {:.2f}, and the correlation between User Score and Global Sales is {:.2f}'.format(ps4_game_data['critic_score'].corr(ps4_game_data['global_sales']), ps4_game_data['user_score'].corr(ps4_game_data['global_sales'])))"
   ]
  },
  {
   "cell_type": "markdown",
   "metadata": {},
   "source": [
    "From the scatterplots for the PS4 games, it is evident that there is a slight positive correlation between `critic_scores` and `global_sales`, as nearly all of the low scoring games 60 and lower have barely any global sales. However, at the higher `critic_scores`, many of the highest grossing games also reside. `User_scores`, on the other hand, seem to have fairly random distribution of sales, as some of the mid level `user_score` values have some of the higher `global_sales`. These observations are supported by the calculation of the correlation coefficient which are 0.39 and -0.02 for `critic_score` and `user_score` respectively.\n",
    "\n",
    "### Sales by Genre\n",
    "\n",
    "Next, the `global_sales` for each genre are evaluated to determine how the genre of the game affects its success."
   ]
  },
  {
   "cell_type": "code",
   "execution_count": 103,
   "metadata": {},
   "outputs": [
    {
     "data": {
      "text/html": [
       "<div>\n",
       "<style scoped>\n",
       "    .dataframe tbody tr th:only-of-type {\n",
       "        vertical-align: middle;\n",
       "    }\n",
       "\n",
       "    .dataframe tbody tr th {\n",
       "        vertical-align: top;\n",
       "    }\n",
       "\n",
       "    .dataframe thead tr th {\n",
       "        text-align: left;\n",
       "    }\n",
       "\n",
       "    .dataframe thead tr:last-of-type th {\n",
       "        text-align: right;\n",
       "    }\n",
       "</style>\n",
       "<table border=\"1\" class=\"dataframe\">\n",
       "  <thead>\n",
       "    <tr>\n",
       "      <th></th>\n",
       "      <th>count</th>\n",
       "      <th>sum</th>\n",
       "      <th>mean</th>\n",
       "    </tr>\n",
       "    <tr>\n",
       "      <th></th>\n",
       "      <th>global_sales</th>\n",
       "      <th>global_sales</th>\n",
       "      <th>global_sales</th>\n",
       "    </tr>\n",
       "    <tr>\n",
       "      <th>genre</th>\n",
       "      <th></th>\n",
       "      <th></th>\n",
       "      <th></th>\n",
       "    </tr>\n",
       "  </thead>\n",
       "  <tbody>\n",
       "    <tr>\n",
       "      <td>Action</td>\n",
       "      <td>766</td>\n",
       "      <td>321.87</td>\n",
       "      <td>0.420196</td>\n",
       "    </tr>\n",
       "    <tr>\n",
       "      <td>Shooter</td>\n",
       "      <td>187</td>\n",
       "      <td>232.98</td>\n",
       "      <td>1.245882</td>\n",
       "    </tr>\n",
       "    <tr>\n",
       "      <td>Sports</td>\n",
       "      <td>214</td>\n",
       "      <td>150.65</td>\n",
       "      <td>0.703972</td>\n",
       "    </tr>\n",
       "    <tr>\n",
       "      <td>Role-Playing</td>\n",
       "      <td>292</td>\n",
       "      <td>145.89</td>\n",
       "      <td>0.499623</td>\n",
       "    </tr>\n",
       "    <tr>\n",
       "      <td>Misc</td>\n",
       "      <td>155</td>\n",
       "      <td>62.82</td>\n",
       "      <td>0.405290</td>\n",
       "    </tr>\n",
       "    <tr>\n",
       "      <td>Platform</td>\n",
       "      <td>74</td>\n",
       "      <td>42.63</td>\n",
       "      <td>0.576081</td>\n",
       "    </tr>\n",
       "    <tr>\n",
       "      <td>Racing</td>\n",
       "      <td>85</td>\n",
       "      <td>39.89</td>\n",
       "      <td>0.469294</td>\n",
       "    </tr>\n",
       "    <tr>\n",
       "      <td>Fighting</td>\n",
       "      <td>80</td>\n",
       "      <td>35.31</td>\n",
       "      <td>0.441375</td>\n",
       "    </tr>\n",
       "    <tr>\n",
       "      <td>Adventure</td>\n",
       "      <td>245</td>\n",
       "      <td>23.64</td>\n",
       "      <td>0.096490</td>\n",
       "    </tr>\n",
       "    <tr>\n",
       "      <td>Simulation</td>\n",
       "      <td>62</td>\n",
       "      <td>21.76</td>\n",
       "      <td>0.350968</td>\n",
       "    </tr>\n",
       "    <tr>\n",
       "      <td>Strategy</td>\n",
       "      <td>56</td>\n",
       "      <td>10.08</td>\n",
       "      <td>0.180000</td>\n",
       "    </tr>\n",
       "    <tr>\n",
       "      <td>Puzzle</td>\n",
       "      <td>17</td>\n",
       "      <td>3.17</td>\n",
       "      <td>0.186471</td>\n",
       "    </tr>\n",
       "  </tbody>\n",
       "</table>\n",
       "</div>"
      ],
      "text/plain": [
       "                    count          sum         mean\n",
       "             global_sales global_sales global_sales\n",
       "genre                                              \n",
       "Action                766       321.87     0.420196\n",
       "Shooter               187       232.98     1.245882\n",
       "Sports                214       150.65     0.703972\n",
       "Role-Playing          292       145.89     0.499623\n",
       "Misc                  155        62.82     0.405290\n",
       "Platform               74        42.63     0.576081\n",
       "Racing                 85        39.89     0.469294\n",
       "Fighting               80        35.31     0.441375\n",
       "Adventure             245        23.64     0.096490\n",
       "Simulation             62        21.76     0.350968\n",
       "Strategy               56        10.08     0.180000\n",
       "Puzzle                 17         3.17     0.186471"
      ]
     },
     "execution_count": 103,
     "metadata": {},
     "output_type": "execute_result"
    }
   ],
   "source": [
    "#Creates a pivot table grouped by genre\n",
    "useful_game_data.pivot_table(index = 'genre', values = 'global_sales', aggfunc = ['count','sum', 'mean']).sort_values(('sum','global_sales'), ascending = False).head(15)"
   ]
  },
  {
   "cell_type": "code",
   "execution_count": 104,
   "metadata": {},
   "outputs": [
    {
     "data": {
      "text/plain": [
       "[(0, 10)]"
      ]
     },
     "execution_count": 104,
     "metadata": {},
     "output_type": "execute_result"
    },
    {
     "data": {
      "image/png": "[encoded data removed]",
      "text/plain": [
       "<Figure size 1440x576 with 1 Axes>"
      ]
     },
     "metadata": {
      "needs_background": "light"
     },
     "output_type": "display_data"
    }
   ],
   "source": [
    "#Creates a box plot for global_sales, separated by game genre\n",
    "fig, gx = plt.subplots(figsize = (20, 8))\n",
    "sns.catplot(x = 'genre', y='global_sales', kind='box', data=useful_game_data, palette = 'Set3', ax=gx)\n",
    "plt.close(2)\n",
    "gx.set_title('Global Game Sales for Each Genre', weight ='bold', size=16)\n",
    "gx.set(ylim=(0, 10))"
   ]
  },
  {
   "cell_type": "markdown",
   "metadata": {},
   "source": [
    "It is noted that the box plot vertical axis is limited to \\\\$10 million in sales. There are several games in each genre that exceed this threshold; however, the useful data in the graph is not visible showing the entire range.\n",
    "\n",
    "The box plot for `global_sales`, broken up by genre, shows the following:\n",
    "- The most profitable genre is action due to the sheer number of games that fall into those genres. However, Shooter games make an impressive amount of profit per game with an average `global_sales` almost double the next highest genre.\n",
    "- Sports and Role-playing games make the third and fourth most profit, with sports games averaging a higher `global_sale` per game.\n",
    "- Adventure, Simulation, Strategy, and Puzzle bring in the lowest amount of sales while, unsurprisingly, also have the lowest average `global_sale`.\n",
    "\n",
    "<a id='Regional Profiles'></a>\n",
    "## Regional Profiles\n",
    "\n",
    "Regional profiles are created for each of the three world regions: North America, Japan, and Europe; where sales data is available. For each of these profiles, the five highest grossing platforms and genres are determined. Additionally, in each region the correlation between ESRB ratings and regional sales is calculated.\n",
    "\n",
    "### North America"
   ]
  },
  {
   "cell_type": "code",
   "execution_count": 105,
   "metadata": {},
   "outputs": [
    {
     "data": {
      "text/html": [
       "<div>\n",
       "<style scoped>\n",
       "    .dataframe tbody tr th:only-of-type {\n",
       "        vertical-align: middle;\n",
       "    }\n",
       "\n",
       "    .dataframe tbody tr th {\n",
       "        vertical-align: top;\n",
       "    }\n",
       "\n",
       "    .dataframe thead tr th {\n",
       "        text-align: left;\n",
       "    }\n",
       "\n",
       "    .dataframe thead tr:last-of-type th {\n",
       "        text-align: right;\n",
       "    }\n",
       "</style>\n",
       "<table border=\"1\" class=\"dataframe\">\n",
       "  <thead>\n",
       "    <tr>\n",
       "      <th></th>\n",
       "      <th>sum</th>\n",
       "      <th>mean</th>\n",
       "    </tr>\n",
       "    <tr>\n",
       "      <th></th>\n",
       "      <th>na_sales</th>\n",
       "      <th>na_sales</th>\n",
       "    </tr>\n",
       "    <tr>\n",
       "      <th>platform</th>\n",
       "      <th></th>\n",
       "      <th></th>\n",
       "    </tr>\n",
       "  </thead>\n",
       "  <tbody>\n",
       "    <tr>\n",
       "      <td>PS4</td>\n",
       "      <td>108.74</td>\n",
       "      <td>0.277398</td>\n",
       "    </tr>\n",
       "    <tr>\n",
       "      <td>XOne</td>\n",
       "      <td>93.12</td>\n",
       "      <td>0.377004</td>\n",
       "    </tr>\n",
       "    <tr>\n",
       "      <td>X360</td>\n",
       "      <td>81.66</td>\n",
       "      <td>0.439032</td>\n",
       "    </tr>\n",
       "    <tr>\n",
       "      <td>PS3</td>\n",
       "      <td>63.50</td>\n",
       "      <td>0.184058</td>\n",
       "    </tr>\n",
       "    <tr>\n",
       "      <td>3DS</td>\n",
       "      <td>38.20</td>\n",
       "      <td>0.126073</td>\n",
       "    </tr>\n",
       "  </tbody>\n",
       "</table>\n",
       "</div>"
      ],
      "text/plain": [
       "              sum      mean\n",
       "         na_sales  na_sales\n",
       "platform                   \n",
       "PS4        108.74  0.277398\n",
       "XOne        93.12  0.377004\n",
       "X360        81.66  0.439032\n",
       "PS3         63.50  0.184058\n",
       "3DS         38.20  0.126073"
      ]
     },
     "execution_count": 105,
     "metadata": {},
     "output_type": "execute_result"
    }
   ],
   "source": [
    "useful_game_data.pivot_table(index = 'platform', values = 'na_sales', aggfunc = ['sum', 'mean']).sort_values(\n",
    "    ('sum','na_sales'), ascending = False).head()"
   ]
  },
  {
   "cell_type": "code",
   "execution_count": 106,
   "metadata": {},
   "outputs": [
    {
     "data": {
      "text/html": [
       "<div>\n",
       "<style scoped>\n",
       "    .dataframe tbody tr th:only-of-type {\n",
       "        vertical-align: middle;\n",
       "    }\n",
       "\n",
       "    .dataframe tbody tr th {\n",
       "        vertical-align: top;\n",
       "    }\n",
       "\n",
       "    .dataframe thead tr th {\n",
       "        text-align: left;\n",
       "    }\n",
       "\n",
       "    .dataframe thead tr:last-of-type th {\n",
       "        text-align: right;\n",
       "    }\n",
       "</style>\n",
       "<table border=\"1\" class=\"dataframe\">\n",
       "  <thead>\n",
       "    <tr>\n",
       "      <th></th>\n",
       "      <th>sum</th>\n",
       "      <th>mean</th>\n",
       "    </tr>\n",
       "    <tr>\n",
       "      <th></th>\n",
       "      <th>na_sales</th>\n",
       "      <th>na_sales</th>\n",
       "    </tr>\n",
       "    <tr>\n",
       "      <th>genre</th>\n",
       "      <th></th>\n",
       "      <th></th>\n",
       "    </tr>\n",
       "  </thead>\n",
       "  <tbody>\n",
       "    <tr>\n",
       "      <td>Action</td>\n",
       "      <td>126.05</td>\n",
       "      <td>0.164556</td>\n",
       "    </tr>\n",
       "    <tr>\n",
       "      <td>Shooter</td>\n",
       "      <td>109.74</td>\n",
       "      <td>0.586845</td>\n",
       "    </tr>\n",
       "    <tr>\n",
       "      <td>Sports</td>\n",
       "      <td>65.27</td>\n",
       "      <td>0.305000</td>\n",
       "    </tr>\n",
       "    <tr>\n",
       "      <td>Role-Playing</td>\n",
       "      <td>46.40</td>\n",
       "      <td>0.158904</td>\n",
       "    </tr>\n",
       "    <tr>\n",
       "      <td>Misc</td>\n",
       "      <td>27.49</td>\n",
       "      <td>0.177355</td>\n",
       "    </tr>\n",
       "  </tbody>\n",
       "</table>\n",
       "</div>"
      ],
      "text/plain": [
       "                  sum      mean\n",
       "             na_sales  na_sales\n",
       "genre                          \n",
       "Action         126.05  0.164556\n",
       "Shooter        109.74  0.586845\n",
       "Sports          65.27  0.305000\n",
       "Role-Playing    46.40  0.158904\n",
       "Misc            27.49  0.177355"
      ]
     },
     "execution_count": 106,
     "metadata": {},
     "output_type": "execute_result"
    }
   ],
   "source": [
    "useful_game_data.pivot_table(index = 'genre', values = 'na_sales', aggfunc = ['sum', 'mean']).sort_values(\n",
    "    ('sum','na_sales'), ascending = False).head()"
   ]
  },
  {
   "cell_type": "code",
   "execution_count": 107,
   "metadata": {},
   "outputs": [
    {
     "data": {
      "text/html": [
       "<div>\n",
       "<style scoped>\n",
       "    .dataframe tbody tr th:only-of-type {\n",
       "        vertical-align: middle;\n",
       "    }\n",
       "\n",
       "    .dataframe tbody tr th {\n",
       "        vertical-align: top;\n",
       "    }\n",
       "\n",
       "    .dataframe thead tr th {\n",
       "        text-align: left;\n",
       "    }\n",
       "\n",
       "    .dataframe thead tr:last-of-type th {\n",
       "        text-align: right;\n",
       "    }\n",
       "</style>\n",
       "<table border=\"1\" class=\"dataframe\">\n",
       "  <thead>\n",
       "    <tr>\n",
       "      <th></th>\n",
       "      <th>sum</th>\n",
       "      <th>mean</th>\n",
       "    </tr>\n",
       "    <tr>\n",
       "      <th></th>\n",
       "      <th>na_sales</th>\n",
       "      <th>na_sales</th>\n",
       "    </tr>\n",
       "    <tr>\n",
       "      <th>rating</th>\n",
       "      <th></th>\n",
       "      <th></th>\n",
       "    </tr>\n",
       "  </thead>\n",
       "  <tbody>\n",
       "    <tr>\n",
       "      <td>M</td>\n",
       "      <td>175.10</td>\n",
       "      <td>0.416905</td>\n",
       "    </tr>\n",
       "    <tr>\n",
       "      <td>E</td>\n",
       "      <td>81.71</td>\n",
       "      <td>0.256950</td>\n",
       "    </tr>\n",
       "    <tr>\n",
       "      <td>U</td>\n",
       "      <td>72.54</td>\n",
       "      <td>0.085041</td>\n",
       "    </tr>\n",
       "    <tr>\n",
       "      <td>E10+</td>\n",
       "      <td>56.38</td>\n",
       "      <td>0.211955</td>\n",
       "    </tr>\n",
       "    <tr>\n",
       "      <td>T</td>\n",
       "      <td>51.98</td>\n",
       "      <td>0.138245</td>\n",
       "    </tr>\n",
       "  </tbody>\n",
       "</table>\n",
       "</div>"
      ],
      "text/plain": [
       "            sum      mean\n",
       "       na_sales  na_sales\n",
       "rating                   \n",
       "M        175.10  0.416905\n",
       "E         81.71  0.256950\n",
       "U         72.54  0.085041\n",
       "E10+      56.38  0.211955\n",
       "T         51.98  0.138245"
      ]
     },
     "execution_count": 107,
     "metadata": {},
     "output_type": "execute_result"
    }
   ],
   "source": [
    "useful_game_data.pivot_table(index = 'rating', values = 'na_sales', aggfunc = ['sum', 'mean']).sort_values(\n",
    "    ('sum','na_sales'), ascending = False).head()"
   ]
  },
  {
   "cell_type": "markdown",
   "metadata": {},
   "source": [
    "For North America, PS4 and Xbox One command the highest overall sales. Action games is the top selling genre with Shooter games a close second, however, as was discovered with the previous box plot, Shooters have a significantly higher mean sale price. Sports is the third with Role-Playing and Misc. rounding out the top 5. Games rated M  are the highest total sames while also being the highest average sales, followed by the E rating. The Unknown rating makes up a significant portion of the `na_sales` which is somewhat concerning since that means there were a lot of successful games cannot be compared back to a specific rating. \n",
    "\n",
    "### Japan"
   ]
  },
  {
   "cell_type": "code",
   "execution_count": 108,
   "metadata": {},
   "outputs": [
    {
     "data": {
      "text/html": [
       "<div>\n",
       "<style scoped>\n",
       "    .dataframe tbody tr th:only-of-type {\n",
       "        vertical-align: middle;\n",
       "    }\n",
       "\n",
       "    .dataframe tbody tr th {\n",
       "        vertical-align: top;\n",
       "    }\n",
       "\n",
       "    .dataframe thead tr th {\n",
       "        text-align: left;\n",
       "    }\n",
       "\n",
       "    .dataframe thead tr:last-of-type th {\n",
       "        text-align: right;\n",
       "    }\n",
       "</style>\n",
       "<table border=\"1\" class=\"dataframe\">\n",
       "  <thead>\n",
       "    <tr>\n",
       "      <th></th>\n",
       "      <th>sum</th>\n",
       "      <th>mean</th>\n",
       "    </tr>\n",
       "    <tr>\n",
       "      <th></th>\n",
       "      <th>jp_sales</th>\n",
       "      <th>jp_sales</th>\n",
       "    </tr>\n",
       "    <tr>\n",
       "      <th>platform</th>\n",
       "      <th></th>\n",
       "      <th></th>\n",
       "    </tr>\n",
       "  </thead>\n",
       "  <tbody>\n",
       "    <tr>\n",
       "      <td>3DS</td>\n",
       "      <td>67.81</td>\n",
       "      <td>0.223795</td>\n",
       "    </tr>\n",
       "    <tr>\n",
       "      <td>PS3</td>\n",
       "      <td>23.35</td>\n",
       "      <td>0.067681</td>\n",
       "    </tr>\n",
       "    <tr>\n",
       "      <td>PSV</td>\n",
       "      <td>18.59</td>\n",
       "      <td>0.051927</td>\n",
       "    </tr>\n",
       "    <tr>\n",
       "      <td>PS4</td>\n",
       "      <td>15.96</td>\n",
       "      <td>0.040714</td>\n",
       "    </tr>\n",
       "    <tr>\n",
       "      <td>WiiU</td>\n",
       "      <td>10.88</td>\n",
       "      <td>0.094609</td>\n",
       "    </tr>\n",
       "  </tbody>\n",
       "</table>\n",
       "</div>"
      ],
      "text/plain": [
       "              sum      mean\n",
       "         jp_sales  jp_sales\n",
       "platform                   \n",
       "3DS         67.81  0.223795\n",
       "PS3         23.35  0.067681\n",
       "PSV         18.59  0.051927\n",
       "PS4         15.96  0.040714\n",
       "WiiU        10.88  0.094609"
      ]
     },
     "execution_count": 108,
     "metadata": {},
     "output_type": "execute_result"
    }
   ],
   "source": [
    "useful_game_data.pivot_table(index = 'platform', values = 'jp_sales', aggfunc = ['sum', 'mean']).sort_values(\n",
    "    ('sum','jp_sales'), ascending = False).head()"
   ]
  },
  {
   "cell_type": "code",
   "execution_count": 109,
   "metadata": {},
   "outputs": [
    {
     "data": {
      "text/html": [
       "<div>\n",
       "<style scoped>\n",
       "    .dataframe tbody tr th:only-of-type {\n",
       "        vertical-align: middle;\n",
       "    }\n",
       "\n",
       "    .dataframe tbody tr th {\n",
       "        vertical-align: top;\n",
       "    }\n",
       "\n",
       "    .dataframe thead tr th {\n",
       "        text-align: left;\n",
       "    }\n",
       "\n",
       "    .dataframe thead tr:last-of-type th {\n",
       "        text-align: right;\n",
       "    }\n",
       "</style>\n",
       "<table border=\"1\" class=\"dataframe\">\n",
       "  <thead>\n",
       "    <tr>\n",
       "      <th></th>\n",
       "      <th>sum</th>\n",
       "      <th>mean</th>\n",
       "    </tr>\n",
       "    <tr>\n",
       "      <th></th>\n",
       "      <th>jp_sales</th>\n",
       "      <th>jp_sales</th>\n",
       "    </tr>\n",
       "    <tr>\n",
       "      <th>genre</th>\n",
       "      <th></th>\n",
       "      <th></th>\n",
       "    </tr>\n",
       "  </thead>\n",
       "  <tbody>\n",
       "    <tr>\n",
       "      <td>Role-Playing</td>\n",
       "      <td>51.04</td>\n",
       "      <td>0.174795</td>\n",
       "    </tr>\n",
       "    <tr>\n",
       "      <td>Action</td>\n",
       "      <td>40.49</td>\n",
       "      <td>0.052859</td>\n",
       "    </tr>\n",
       "    <tr>\n",
       "      <td>Misc</td>\n",
       "      <td>9.20</td>\n",
       "      <td>0.059355</td>\n",
       "    </tr>\n",
       "    <tr>\n",
       "      <td>Fighting</td>\n",
       "      <td>7.65</td>\n",
       "      <td>0.095625</td>\n",
       "    </tr>\n",
       "    <tr>\n",
       "      <td>Shooter</td>\n",
       "      <td>6.61</td>\n",
       "      <td>0.035348</td>\n",
       "    </tr>\n",
       "  </tbody>\n",
       "</table>\n",
       "</div>"
      ],
      "text/plain": [
       "                  sum      mean\n",
       "             jp_sales  jp_sales\n",
       "genre                          \n",
       "Role-Playing    51.04  0.174795\n",
       "Action          40.49  0.052859\n",
       "Misc             9.20  0.059355\n",
       "Fighting         7.65  0.095625\n",
       "Shooter          6.61  0.035348"
      ]
     },
     "execution_count": 109,
     "metadata": {},
     "output_type": "execute_result"
    }
   ],
   "source": [
    "useful_game_data.pivot_table(index = 'genre', values = 'jp_sales', aggfunc = ['sum', 'mean']).sort_values(\n",
    "    ('sum','jp_sales'), ascending = False).head()"
   ]
  },
  {
   "cell_type": "code",
   "execution_count": 110,
   "metadata": {},
   "outputs": [
    {
     "data": {
      "text/html": [
       "<div>\n",
       "<style scoped>\n",
       "    .dataframe tbody tr th:only-of-type {\n",
       "        vertical-align: middle;\n",
       "    }\n",
       "\n",
       "    .dataframe tbody tr th {\n",
       "        vertical-align: top;\n",
       "    }\n",
       "\n",
       "    .dataframe thead tr th {\n",
       "        text-align: left;\n",
       "    }\n",
       "\n",
       "    .dataframe thead tr:last-of-type th {\n",
       "        text-align: right;\n",
       "    }\n",
       "</style>\n",
       "<table border=\"1\" class=\"dataframe\">\n",
       "  <thead>\n",
       "    <tr>\n",
       "      <th></th>\n",
       "      <th>sum</th>\n",
       "      <th>mean</th>\n",
       "    </tr>\n",
       "    <tr>\n",
       "      <th></th>\n",
       "      <th>jp_sales</th>\n",
       "      <th>jp_sales</th>\n",
       "    </tr>\n",
       "    <tr>\n",
       "      <th>rating</th>\n",
       "      <th></th>\n",
       "      <th></th>\n",
       "    </tr>\n",
       "  </thead>\n",
       "  <tbody>\n",
       "    <tr>\n",
       "      <td>U</td>\n",
       "      <td>80.82</td>\n",
       "      <td>0.094748</td>\n",
       "    </tr>\n",
       "    <tr>\n",
       "      <td>T</td>\n",
       "      <td>22.84</td>\n",
       "      <td>0.060745</td>\n",
       "    </tr>\n",
       "    <tr>\n",
       "      <td>E</td>\n",
       "      <td>15.98</td>\n",
       "      <td>0.050252</td>\n",
       "    </tr>\n",
       "    <tr>\n",
       "      <td>M</td>\n",
       "      <td>14.87</td>\n",
       "      <td>0.035405</td>\n",
       "    </tr>\n",
       "    <tr>\n",
       "      <td>E10+</td>\n",
       "      <td>6.27</td>\n",
       "      <td>0.023571</td>\n",
       "    </tr>\n",
       "  </tbody>\n",
       "</table>\n",
       "</div>"
      ],
      "text/plain": [
       "            sum      mean\n",
       "       jp_sales  jp_sales\n",
       "rating                   \n",
       "U         80.82  0.094748\n",
       "T         22.84  0.060745\n",
       "E         15.98  0.050252\n",
       "M         14.87  0.035405\n",
       "E10+       6.27  0.023571"
      ]
     },
     "execution_count": 110,
     "metadata": {},
     "output_type": "execute_result"
    }
   ],
   "source": [
    "useful_game_data.pivot_table(index = 'rating', values = 'jp_sales', aggfunc = ['sum', 'mean']).sort_values(\n",
    "   ('sum','jp_sales'), ascending = False).head()"
   ]
  },
  {
   "cell_type": "markdown",
   "metadata": {},
   "source": [
    "For Japan, Nintendo 3DS, PS3, and PSV make up the top 3 platforms, which is quite different from North America, with Nintendo 3DS having the highest average sales. None of the Xbox platforms make an appearance in the top 5. For genre, role-playing games command the highest sales as well as the highest average sales in the top 5. Shooter genre, which was a huge part of the North American profile, is only fifth in genres in terms of success. For ESRB Rating, the unknown rating makes up a significant portion of the sales which is unfortunate. T, E, M, and E10+ make up the rest of the top 5 in that order. \n",
    "\n",
    "### Europe"
   ]
  },
  {
   "cell_type": "code",
   "execution_count": 111,
   "metadata": {},
   "outputs": [
    {
     "data": {
      "text/html": [
       "<div>\n",
       "<style scoped>\n",
       "    .dataframe tbody tr th:only-of-type {\n",
       "        vertical-align: middle;\n",
       "    }\n",
       "\n",
       "    .dataframe tbody tr th {\n",
       "        vertical-align: top;\n",
       "    }\n",
       "\n",
       "    .dataframe thead tr th {\n",
       "        text-align: left;\n",
       "    }\n",
       "\n",
       "    .dataframe thead tr:last-of-type th {\n",
       "        text-align: right;\n",
       "    }\n",
       "</style>\n",
       "<table border=\"1\" class=\"dataframe\">\n",
       "  <thead>\n",
       "    <tr>\n",
       "      <th></th>\n",
       "      <th>sum</th>\n",
       "      <th>mean</th>\n",
       "    </tr>\n",
       "    <tr>\n",
       "      <th></th>\n",
       "      <th>eu_sales</th>\n",
       "      <th>eu_sales</th>\n",
       "    </tr>\n",
       "    <tr>\n",
       "      <th>platform</th>\n",
       "      <th></th>\n",
       "      <th></th>\n",
       "    </tr>\n",
       "  </thead>\n",
       "  <tbody>\n",
       "    <tr>\n",
       "      <td>PS4</td>\n",
       "      <td>141.09</td>\n",
       "      <td>0.359923</td>\n",
       "    </tr>\n",
       "    <tr>\n",
       "      <td>PS3</td>\n",
       "      <td>67.81</td>\n",
       "      <td>0.196551</td>\n",
       "    </tr>\n",
       "    <tr>\n",
       "      <td>XOne</td>\n",
       "      <td>51.59</td>\n",
       "      <td>0.208866</td>\n",
       "    </tr>\n",
       "    <tr>\n",
       "      <td>X360</td>\n",
       "      <td>42.52</td>\n",
       "      <td>0.228602</td>\n",
       "    </tr>\n",
       "    <tr>\n",
       "      <td>3DS</td>\n",
       "      <td>30.96</td>\n",
       "      <td>0.102178</td>\n",
       "    </tr>\n",
       "  </tbody>\n",
       "</table>\n",
       "</div>"
      ],
      "text/plain": [
       "              sum      mean\n",
       "         eu_sales  eu_sales\n",
       "platform                   \n",
       "PS4        141.09  0.359923\n",
       "PS3         67.81  0.196551\n",
       "XOne        51.59  0.208866\n",
       "X360        42.52  0.228602\n",
       "3DS         30.96  0.102178"
      ]
     },
     "execution_count": 111,
     "metadata": {},
     "output_type": "execute_result"
    }
   ],
   "source": [
    "useful_game_data.pivot_table(index = 'platform', values = 'eu_sales', aggfunc = ['sum', 'mean']).sort_values(\n",
    "    ('sum','eu_sales'), ascending = False).head()"
   ]
  },
  {
   "cell_type": "code",
   "execution_count": 112,
   "metadata": {},
   "outputs": [
    {
     "data": {
      "text/html": [
       "<div>\n",
       "<style scoped>\n",
       "    .dataframe tbody tr th:only-of-type {\n",
       "        vertical-align: middle;\n",
       "    }\n",
       "\n",
       "    .dataframe tbody tr th {\n",
       "        vertical-align: top;\n",
       "    }\n",
       "\n",
       "    .dataframe thead tr th {\n",
       "        text-align: left;\n",
       "    }\n",
       "\n",
       "    .dataframe thead tr:last-of-type th {\n",
       "        text-align: right;\n",
       "    }\n",
       "</style>\n",
       "<table border=\"1\" class=\"dataframe\">\n",
       "  <thead>\n",
       "    <tr>\n",
       "      <th></th>\n",
       "      <th>sum</th>\n",
       "      <th>mean</th>\n",
       "    </tr>\n",
       "    <tr>\n",
       "      <th></th>\n",
       "      <th>eu_sales</th>\n",
       "      <th>eu_sales</th>\n",
       "    </tr>\n",
       "    <tr>\n",
       "      <th>genre</th>\n",
       "      <th></th>\n",
       "      <th></th>\n",
       "    </tr>\n",
       "  </thead>\n",
       "  <tbody>\n",
       "    <tr>\n",
       "      <td>Action</td>\n",
       "      <td>118.13</td>\n",
       "      <td>0.154217</td>\n",
       "    </tr>\n",
       "    <tr>\n",
       "      <td>Shooter</td>\n",
       "      <td>87.86</td>\n",
       "      <td>0.469840</td>\n",
       "    </tr>\n",
       "    <tr>\n",
       "      <td>Sports</td>\n",
       "      <td>60.52</td>\n",
       "      <td>0.282804</td>\n",
       "    </tr>\n",
       "    <tr>\n",
       "      <td>Role-Playing</td>\n",
       "      <td>36.97</td>\n",
       "      <td>0.126610</td>\n",
       "    </tr>\n",
       "    <tr>\n",
       "      <td>Racing</td>\n",
       "      <td>20.19</td>\n",
       "      <td>0.237529</td>\n",
       "    </tr>\n",
       "  </tbody>\n",
       "</table>\n",
       "</div>"
      ],
      "text/plain": [
       "                  sum      mean\n",
       "             eu_sales  eu_sales\n",
       "genre                          \n",
       "Action         118.13  0.154217\n",
       "Shooter         87.86  0.469840\n",
       "Sports          60.52  0.282804\n",
       "Role-Playing    36.97  0.126610\n",
       "Racing          20.19  0.237529"
      ]
     },
     "execution_count": 112,
     "metadata": {},
     "output_type": "execute_result"
    }
   ],
   "source": [
    "useful_game_data.pivot_table(index = 'genre', values = 'eu_sales', aggfunc = ['sum', 'mean']).sort_values(\n",
    "    ('sum','eu_sales'), ascending = False).head()"
   ]
  },
  {
   "cell_type": "code",
   "execution_count": 113,
   "metadata": {},
   "outputs": [
    {
     "data": {
      "text/html": [
       "<div>\n",
       "<style scoped>\n",
       "    .dataframe tbody tr th:only-of-type {\n",
       "        vertical-align: middle;\n",
       "    }\n",
       "\n",
       "    .dataframe tbody tr th {\n",
       "        vertical-align: top;\n",
       "    }\n",
       "\n",
       "    .dataframe thead tr th {\n",
       "        text-align: left;\n",
       "    }\n",
       "\n",
       "    .dataframe thead tr:last-of-type th {\n",
       "        text-align: right;\n",
       "    }\n",
       "</style>\n",
       "<table border=\"1\" class=\"dataframe\">\n",
       "  <thead>\n",
       "    <tr>\n",
       "      <th></th>\n",
       "      <th>sum</th>\n",
       "      <th>mean</th>\n",
       "    </tr>\n",
       "    <tr>\n",
       "      <th></th>\n",
       "      <th>eu_sales</th>\n",
       "      <th>eu_sales</th>\n",
       "    </tr>\n",
       "    <tr>\n",
       "      <th>rating</th>\n",
       "      <th></th>\n",
       "      <th></th>\n",
       "    </tr>\n",
       "  </thead>\n",
       "  <tbody>\n",
       "    <tr>\n",
       "      <td>M</td>\n",
       "      <td>156.67</td>\n",
       "      <td>0.373024</td>\n",
       "    </tr>\n",
       "    <tr>\n",
       "      <td>E</td>\n",
       "      <td>85.49</td>\n",
       "      <td>0.268836</td>\n",
       "    </tr>\n",
       "    <tr>\n",
       "      <td>U</td>\n",
       "      <td>61.19</td>\n",
       "      <td>0.071735</td>\n",
       "    </tr>\n",
       "    <tr>\n",
       "      <td>E10+</td>\n",
       "      <td>45.20</td>\n",
       "      <td>0.169925</td>\n",
       "    </tr>\n",
       "    <tr>\n",
       "      <td>T</td>\n",
       "      <td>43.68</td>\n",
       "      <td>0.116170</td>\n",
       "    </tr>\n",
       "  </tbody>\n",
       "</table>\n",
       "</div>"
      ],
      "text/plain": [
       "            sum      mean\n",
       "       eu_sales  eu_sales\n",
       "rating                   \n",
       "M        156.67  0.373024\n",
       "E         85.49  0.268836\n",
       "U         61.19  0.071735\n",
       "E10+      45.20  0.169925\n",
       "T         43.68  0.116170"
      ]
     },
     "execution_count": 113,
     "metadata": {},
     "output_type": "execute_result"
    }
   ],
   "source": [
    "useful_game_data.pivot_table(index = 'rating', values = 'eu_sales', aggfunc = ['sum', 'mean']).sort_values(\n",
    "    ('sum','eu_sales'), ascending = False).head()"
   ]
  },
  {
   "cell_type": "markdown",
   "metadata": {},
   "source": [
    "For Europe, PS4 and PS3 are the dominant platforms, followed by Xbox One, Xbox360, and Nintendo 3DS. PS4 has the highest average sales for the top 5. Action games is the top genre, followed by Shooter which has the highest average sales similar to North America. Rated M is the top selling rating, followed by E, the unknown ratings, E10+ and T. Mature ratings have the highest average sales for the top 5. \n",
    "\n",
    "### Regional Profile Conclusion\n",
    "\n",
    "From the regional profiles, it can be shown that North America and Europe have extremely similar profiles for platforms, genres, and ratings with only a few minor differences, mainly the Xbox consoles are slightly more popular in North America than Europe. The Mature rating dominates the market in Europe and North America with E rated games being the next most popular.\n",
    "\n",
    "Japan has a vastly different profile compared to both North America and Europe. In Japan, the Nintendo 3DS being the most popular platform, leading all sales. Xbox360 is nonexistent in the top sales. For genre, Role-playing leads in sales while being at the bottom of the top 5 in North America and Europe. Shooter games are only fifth compared to their huge popularity and success in North America and Europe. For rating, a significant portion of the Japan sales are the unknown ratings, which make it difficult to accurately assess rating's impact on sales. However, from the data available, it seems that M rated games are the least popular, which is opposite North America and Europe.\n",
    "\n",
    "North America holds the majority of the market share, with Europe lagging behind by almost half the sales. Japan is nearly insignificant, making up only about 10% of the market. \n",
    "\n",
    "<a id='Hypotheses Testing'></a>\n",
    "## Hypotheses Testing\n",
    "\n",
    "The following hypotheses are to be tested:\n",
    "\n",
    "- Average user ratings of the Xbox One and PC platforms are the same.\n",
    "- Average user ratings for the Action and Sports genres are different.\n",
    "\n",
    "**User Ratings for Xbox One and PC**\n",
    "\n",
    "The first hypothesis that will be tested is that the average user ratings of the Xbox One and PC platforms are the same. Xbox is made by Microsoft, who are also very familiar and involved with the PC gaming scene which could result in similar quality and ratings between the two platforms.\n",
    "\n",
    "The null hypothesis is that there is no difference between user ratings on the Xbox One and PC, which is the original hypothesis. The alternative hypothesis is that user ratings between these two platforms do differ.\n",
    "\n",
    "To test the hypothesis, the student t-test will be applied to the two samples of \"PC\" and \"Xbox One\" games, specifically for the `user_scores` attribute. The critical statistical significance level is set at 5\\%. In order to accurately apply this method, data must be separated into the two samples, and the variances of both samples must be compared:"
   ]
  },
  {
   "cell_type": "code",
   "execution_count": 114,
   "metadata": {},
   "outputs": [
    {
     "name": "stdout",
     "output_type": "stream",
     "text": [
      "Xbox One games - User Rating variance: 7.51\n",
      "PC games - User Rating variance: 8.04\n"
     ]
    }
   ],
   "source": [
    "#Separates data into the two platforms of interest\n",
    "xbone_games = useful_game_data.query('platform == \"XOne\"')\n",
    "pc_games = useful_game_data.query('platform == \"PC\"')\n",
    "\n",
    "#Compares variance for two platforms of interest\n",
    "print('Xbox One games - User Rating variance: {:.2f}'.format(np.var(xbone_games['user_score'])))\n",
    "print('PC games - User Rating variance: {:.2f}'.format(np.var(pc_games['user_score'])))"
   ]
  },
  {
   "cell_type": "code",
   "execution_count": 115,
   "metadata": {},
   "outputs": [
    {
     "name": "stdout",
     "output_type": "stream",
     "text": [
      "p-value:  0.2020068695651967\n",
      "We can't reject the null hypothesis\n"
     ]
    }
   ],
   "source": [
    "#Critical statistical significance level\n",
    "alpha = 0.05\n",
    "\n",
    "#Null hypothesis is there is no difference in ratings between platforms. Variances are not close enough to be equal\n",
    "platform_ratings = st.ttest_ind(xbone_games['user_score'], pc_games['user_score'], equal_var = False)\n",
    "\n",
    "print('p-value: ', platform_ratings.pvalue)\n",
    "\n",
    "if (platform_ratings.pvalue < alpha):\n",
    "    print('We reject the null hypothesis')\n",
    "else:\n",
    "    print(\"We can't reject the null hypothesis\")"
   ]
  },
  {
   "cell_type": "markdown",
   "metadata": {},
   "source": [
    "The null hypothesis that there is not a difference between user ratings for the Xbox One and PC cannot be rejected as the p-value is at 20%. The average `user_score` for each platform will be calculated to verify. "
   ]
  },
  {
   "cell_type": "code",
   "execution_count": 116,
   "metadata": {},
   "outputs": [
    {
     "name": "stdout",
     "output_type": "stream",
     "text": [
      "The Xbox One has an average user game rating of 5.54\n",
      "The PC has an average user game rating of 5.19\n"
     ]
    }
   ],
   "source": [
    "#Calculates mean user scores for each of the two samples of interest\n",
    "xbone_mean_rating = xbone_games['user_score'].mean()\n",
    "pc_mean_rating = pc_games['user_score'].mean()\n",
    "\n",
    "print('The Xbox One has an average user game rating of {:.2f}'.format(xbone_mean_rating))\n",
    "print('The PC has an average user game rating of {:.2f}'.format(pc_mean_rating))"
   ]
  },
  {
   "cell_type": "markdown",
   "metadata": {},
   "source": [
    "Although there is a fair difference between mean values of `user_score`, the null hypothesis cannot be rejected from the results of the Student t-test.\n",
    "\n",
    "**User Ratings for Action and Sports Genre**\n",
    "\n",
    "The hypothesis that will be tested is that the average user ratings for the Action and Sports Genre are different.\n",
    "\n",
    "The null hypothesis in this case is that there is no difference between user ratings for the Action and Sports Genre. The alternative hypothesis is that user ratings between these two genres do differ, which is consistent with the original hypothesis.\n",
    "\n",
    "To test the hypothesis, the student t-test will be applied to the two samples of \"Action\" and \"Sports\" games, specifically for the `user_scores` attribute. The critical statistical significance level is set at 5\\%. In order to accurately apply this method, data must be separated into the two samples, and the variances of both samples must be compared:"
   ]
  },
  {
   "cell_type": "code",
   "execution_count": 117,
   "metadata": {},
   "outputs": [
    {
     "name": "stdout",
     "output_type": "stream",
     "text": [
      "Action games - User Rating variance: 12.34\n",
      "Sports games - User Rating variance: 6.21\n"
     ]
    }
   ],
   "source": [
    "#Separates data into the two platforms of interest\n",
    "action_games = useful_game_data.query('genre == \"Action\"')\n",
    "sports_games = useful_game_data.query('genre == \"Sports\"')\n",
    "\n",
    "#Compares variance for two platforms of interest\n",
    "print('Action games - User Rating variance: {:.2f}'.format(np.var(action_games['user_score'])))\n",
    "print('Sports games - User Rating variance: {:.2f}'.format(np.var(sports_games['user_score'])))"
   ]
  },
  {
   "cell_type": "code",
   "execution_count": 118,
   "metadata": {},
   "outputs": [
    {
     "name": "stdout",
     "output_type": "stream",
     "text": [
      "p-value:  0.2873525225709065\n",
      "We can't reject the null hypothesis\n"
     ]
    }
   ],
   "source": [
    "#Critical statistical significance level\n",
    "alpha = 0.05\n",
    "\n",
    "#Null hypothesis is there is no difference in ratings between genres. Variances are not close enough to be equal\n",
    "genre_ratings = st.ttest_ind(action_games['user_score'], sports_games['user_score'], equal_var = False)\n",
    "\n",
    "print('p-value: ', genre_ratings.pvalue)\n",
    "\n",
    "if (genre_ratings.pvalue < alpha):\n",
    "    print('We reject the null hypothesis')\n",
    "else:\n",
    "    print(\"We can't reject the null hypothesis\")"
   ]
  },
  {
   "cell_type": "markdown",
   "metadata": {},
   "source": [
    "The null hypothesis that there is not a difference in user ratings for the Sports and Action genre cannot be rejected. The p-value is too high to suggest that there is a difference in ratings. The average `user_score` for each genre will be computed to compare. "
   ]
  },
  {
   "cell_type": "code",
   "execution_count": 119,
   "metadata": {},
   "outputs": [
    {
     "name": "stdout",
     "output_type": "stream",
     "text": [
      "The Action genre has an average user game rating of 4.12\n",
      "The Sports genre has an average user game rating of 4.35\n"
     ]
    }
   ],
   "source": [
    "#Calculates mean user scores for each of the two samples of interest\n",
    "action_mean_rating = action_games['user_score'].mean()\n",
    "sports_mean_rating = sports_games['user_score'].mean()\n",
    "\n",
    "print('The Action genre has an average user game rating of {:.2f}'.format(action_mean_rating))\n",
    "print('The Sports genre has an average user game rating of {:.2f}'.format(sports_mean_rating))"
   ]
  },
  {
   "cell_type": "markdown",
   "metadata": {},
   "source": [
    "The average `user_score` between the two genres is close, as expected.\n",
    "\n",
    "<a id='Overall Conclusion'></a>\n",
    "## Overall Conclusion\n",
    "\n",
    "The purpose of this project was to find patterns in the gaming industry and to identify what factors cause a game to succeed. Using this information, the goal is to predict the next big gaming hits in 2017 and to plan advertising campaigns around them.\n",
    "\n",
    "Data on game sales from the last several decades was analyzed by filling in missing values, calculating global profits and determining correlations and relationships between the various available attributes.\n",
    "\n",
    "Since 1995, there has been a consistent life cycle for each new generation of gaming platforms. As the new generation is introduced, the old generation sales begin to fade out until the new generation becomes more popular and begins receiving the majority of the sales between the two generations. This continues with each new generation. For 2017, it was discovered that the PlayStation 4, Xbox One, WiiU, and Nintendo 3DS are in the prime relevance of their life cycle, where sales are at the platform's lifetime peak.\n",
    "\n",
    "Out of these four prime candidates, it was shown that Xbox and PlayStation are typically the leaders in overall sales; however, this is somewhat attributed to the sheer number of games that are released for these platforms. In the past, the Wii and Nintendo DS have some of the single highest grossing game releases, but for the most part, their average game sales are significantly lower than Xbox or PlayStation. Xbox and PlayStation are safe and consistent sales, but Wii or Nintendo could be an interesting gamble for 2017.\n",
    "\n",
    "For game ratings, `user_score` barely had any correlation with global sales, whereas `critic_score` had a fairly strong positive correlation with global sales.\n",
    "\n",
    "Action games lead in overall sales, but similar to Xbox and PlayStation platforms, this is a result of the sheer number of games that fall into this category. Shooter games have the highest average sales per game as well as the 2nd most `global_sale` behind Action games which would set up a game from the Shooter genres as a potential big winner in 2017.\n",
    "\n",
    "North America and Europe make up over 90% of the gaming market and have similar common interests with Xbox and PlayStation being the leading platforms, and Action and Shooter games being the leading genres. Japan attracts some of the less popular genres and platforms, but the significantly lower sales here doesn't warrant special consideration. For the prime locations, M rated games are the best sellers.\n",
    "\n",
    "Two hypotheses were tested in regards user ratings between different platforms and genres; however, since user ratings do not have a notable correlation on sales, these hypotheses are unimportant.\n",
    "\n",
    "Based on all this data, the 2017 advertising campaign should focus on new Shooter releases for the PS4 primarily, with a secondary focus on Xbox One. Action games as a whole should demand a portion of the campaign, simply due to the sheer amount of releases that fall under these genres, and their general success, especially if they receive highly positive critic reviews. The single best opportunity for a massively successful game would be focusing on a Shooter Game on either of the two previously mentioned platforms, especially if it receives positive critic reviews."
   ]
  }
 ],
 "metadata": {
  "kernelspec": {
   "display_name": "Python 3",
   "language": "python",
   "name": "python3"
  },
  "language_info": {
   "codemirror_mode": {
    "name": "ipython",
    "version": 3
   },
   "file_extension": ".py",
   "mimetype": "text/x-python",
   "name": "python",
   "nbconvert_exporter": "python",
   "pygments_lexer": "ipython3",
   "version": "3.7.8"
  },
  "toc": {
   "base_numbering": 1,
   "nav_menu": {},
   "number_sections": true,
   "sideBar": true,
   "skip_h1_title": true,
   "title_cell": "Table of Contents",
   "title_sidebar": "Contents",
   "toc_cell": false,
   "toc_position": {},
   "toc_section_display": true,
   "toc_window_display": false
  }
 },
 "nbformat": 4,
 "nbformat_minor": 2
}
