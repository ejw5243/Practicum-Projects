{
 "cells": [
  {
   "cell_type": "markdown",
   "metadata": {},
   "source": [
    "# Beta Bank Project\n",
    "\n",
    "## Purpose\n",
    "\n",
    "The purpose of this project is to develop a model that predicts whether a Beta Bank customer will leave the bank soon. The model will be trained based on data from previous clients' behavior and past terminations. The model must have an F1 Score of at least 0.59.\n",
    "\n",
    "## Table of Contents\n",
    "<a href='#General Data Information'>General Data Information</a>\n",
    "\n",
    "<a href='#Feature Preparation'>Feature Preparation</a>\n",
    "\n",
    "<a href='#Model Development'>Model Development</a>\n",
    "\n",
    "<a href='#Class Balance'>Class Balance</a>\n",
    "\n",
    "<a href='#Imbalanced Model Training'>Imbalanced Model Training</a>\n",
    "\n",
    "<a href='#Class Balancing'>Class Balancing</a>\n",
    "\n",
    "<a href='#Final Model Selection and Training'>Final Model Selection and Training</a>\n",
    "\n",
    "<a href='#Conclusion'>Conclusion</a>\n",
    "\n",
    "<a id='General Data Information'></a>\n",
    "## General Data Information\n",
    "\n",
    "Initially, a general look at the data is performed and the necessary sklearn modules are imported. Since the target attribute is categorical (customer either exited their contract or not), classification modules are imported for Decision Tree, Random Forest, and Logistic Regression."
   ]
  },
  {
   "cell_type": "code",
   "execution_count": 28,
   "metadata": {},
   "outputs": [],
   "source": [
    "#Import necessary libraries and modules\n",
    "import pandas as pd\n",
    "import numpy as np\n",
    "import seaborn as sns\n",
    "import matplotlib.pyplot as plt\n",
    "import scipy as sc\n",
    "from scipy import stats as st\n",
    "from sklearn.model_selection import train_test_split\n",
    "from sklearn.metrics import accuracy_score, mean_squared_error, f1_score, roc_curve, roc_auc_score\n",
    "from sklearn.tree import DecisionTreeClassifier\n",
    "from sklearn.linear_model import LogisticRegression\n",
    "from sklearn.ensemble import RandomForestClassifier\n",
    "from sklearn.dummy import DummyClassifier\n",
    "from sklearn.preprocessing import OrdinalEncoder, StandardScaler, LabelEncoder\n",
    "from sklearn.utils import shuffle"
   ]
  },
  {
   "cell_type": "code",
   "execution_count": 29,
   "metadata": {},
   "outputs": [
    {
     "name": "stdout",
     "output_type": "stream",
     "text": [
      "<class 'pandas.core.frame.DataFrame'>\n",
      "RangeIndex: 10000 entries, 0 to 9999\n",
      "Data columns (total 14 columns):\n",
      "RowNumber          10000 non-null int64\n",
      "CustomerId         10000 non-null int64\n",
      "Surname            10000 non-null object\n",
      "CreditScore        10000 non-null int64\n",
      "Geography          10000 non-null object\n",
      "Gender             10000 non-null object\n",
      "Age                10000 non-null int64\n",
      "Tenure             9091 non-null float64\n",
      "Balance            10000 non-null float64\n",
      "NumOfProducts      10000 non-null int64\n",
      "HasCrCard          10000 non-null int64\n",
      "IsActiveMember     10000 non-null int64\n",
      "EstimatedSalary    10000 non-null float64\n",
      "Exited             10000 non-null int64\n",
      "dtypes: float64(3), int64(8), object(3)\n",
      "memory usage: 1.1+ MB\n"
     ]
    },
    {
     "data": {
      "text/html": [
       "<div>\n",
       "<style scoped>\n",
       "    .dataframe tbody tr th:only-of-type {\n",
       "        vertical-align: middle;\n",
       "    }\n",
       "\n",
       "    .dataframe tbody tr th {\n",
       "        vertical-align: top;\n",
       "    }\n",
       "\n",
       "    .dataframe thead th {\n",
       "        text-align: right;\n",
       "    }\n",
       "</style>\n",
       "<table border=\"1\" class=\"dataframe\">\n",
       "  <thead>\n",
       "    <tr style=\"text-align: right;\">\n",
       "      <th></th>\n",
       "      <th>RowNumber</th>\n",
       "      <th>CustomerId</th>\n",
       "      <th>Surname</th>\n",
       "      <th>CreditScore</th>\n",
       "      <th>Geography</th>\n",
       "      <th>Gender</th>\n",
       "      <th>Age</th>\n",
       "      <th>Tenure</th>\n",
       "      <th>Balance</th>\n",
       "      <th>NumOfProducts</th>\n",
       "      <th>HasCrCard</th>\n",
       "      <th>IsActiveMember</th>\n",
       "      <th>EstimatedSalary</th>\n",
       "      <th>Exited</th>\n",
       "    </tr>\n",
       "  </thead>\n",
       "  <tbody>\n",
       "    <tr>\n",
       "      <td>0</td>\n",
       "      <td>1</td>\n",
       "      <td>15634602</td>\n",
       "      <td>Hargrave</td>\n",
       "      <td>619</td>\n",
       "      <td>France</td>\n",
       "      <td>Female</td>\n",
       "      <td>42</td>\n",
       "      <td>2.0</td>\n",
       "      <td>0.00</td>\n",
       "      <td>1</td>\n",
       "      <td>1</td>\n",
       "      <td>1</td>\n",
       "      <td>101348.88</td>\n",
       "      <td>1</td>\n",
       "    </tr>\n",
       "    <tr>\n",
       "      <td>1</td>\n",
       "      <td>2</td>\n",
       "      <td>15647311</td>\n",
       "      <td>Hill</td>\n",
       "      <td>608</td>\n",
       "      <td>Spain</td>\n",
       "      <td>Female</td>\n",
       "      <td>41</td>\n",
       "      <td>1.0</td>\n",
       "      <td>83807.86</td>\n",
       "      <td>1</td>\n",
       "      <td>0</td>\n",
       "      <td>1</td>\n",
       "      <td>112542.58</td>\n",
       "      <td>0</td>\n",
       "    </tr>\n",
       "    <tr>\n",
       "      <td>2</td>\n",
       "      <td>3</td>\n",
       "      <td>15619304</td>\n",
       "      <td>Onio</td>\n",
       "      <td>502</td>\n",
       "      <td>France</td>\n",
       "      <td>Female</td>\n",
       "      <td>42</td>\n",
       "      <td>8.0</td>\n",
       "      <td>159660.80</td>\n",
       "      <td>3</td>\n",
       "      <td>1</td>\n",
       "      <td>0</td>\n",
       "      <td>113931.57</td>\n",
       "      <td>1</td>\n",
       "    </tr>\n",
       "    <tr>\n",
       "      <td>3</td>\n",
       "      <td>4</td>\n",
       "      <td>15701354</td>\n",
       "      <td>Boni</td>\n",
       "      <td>699</td>\n",
       "      <td>France</td>\n",
       "      <td>Female</td>\n",
       "      <td>39</td>\n",
       "      <td>1.0</td>\n",
       "      <td>0.00</td>\n",
       "      <td>2</td>\n",
       "      <td>0</td>\n",
       "      <td>0</td>\n",
       "      <td>93826.63</td>\n",
       "      <td>0</td>\n",
       "    </tr>\n",
       "    <tr>\n",
       "      <td>4</td>\n",
       "      <td>5</td>\n",
       "      <td>15737888</td>\n",
       "      <td>Mitchell</td>\n",
       "      <td>850</td>\n",
       "      <td>Spain</td>\n",
       "      <td>Female</td>\n",
       "      <td>43</td>\n",
       "      <td>2.0</td>\n",
       "      <td>125510.82</td>\n",
       "      <td>1</td>\n",
       "      <td>1</td>\n",
       "      <td>1</td>\n",
       "      <td>79084.10</td>\n",
       "      <td>0</td>\n",
       "    </tr>\n",
       "  </tbody>\n",
       "</table>\n",
       "</div>"
      ],
      "text/plain": [
       "   RowNumber  CustomerId   Surname  CreditScore Geography  Gender  Age  \\\n",
       "0          1    15634602  Hargrave          619    France  Female   42   \n",
       "1          2    15647311      Hill          608     Spain  Female   41   \n",
       "2          3    15619304      Onio          502    France  Female   42   \n",
       "3          4    15701354      Boni          699    France  Female   39   \n",
       "4          5    15737888  Mitchell          850     Spain  Female   43   \n",
       "\n",
       "   Tenure    Balance  NumOfProducts  HasCrCard  IsActiveMember  \\\n",
       "0     2.0       0.00              1          1               1   \n",
       "1     1.0   83807.86              1          0               1   \n",
       "2     8.0  159660.80              3          1               0   \n",
       "3     1.0       0.00              2          0               0   \n",
       "4     2.0  125510.82              1          1               1   \n",
       "\n",
       "   EstimatedSalary  Exited  \n",
       "0        101348.88       1  \n",
       "1        112542.58       0  \n",
       "2        113931.57       1  \n",
       "3         93826.63       0  \n",
       "4         79084.10       0  "
      ]
     },
     "execution_count": 29,
     "metadata": {},
     "output_type": "execute_result"
    }
   ],
   "source": [
    "data = pd.read_csv('/datasets/Churn.csv')\n",
    "\n",
    "data.info()\n",
    "\n",
    "data.head()"
   ]
  },
  {
   "cell_type": "markdown",
   "metadata": {},
   "source": [
    "From the initial look at the data, it can be seen that there are some missing values in the `Tenure` attribute. These missing values are filled in with the median value of the `Tenure` attribute since there doesn't seem to be a logical reason why they are missing."
   ]
  },
  {
   "cell_type": "code",
   "execution_count": 30,
   "metadata": {},
   "outputs": [],
   "source": [
    "#Fills all missing values in Tenure column with the median value\n",
    "data['Tenure'].fillna(data['Tenure'].median(), inplace = True)"
   ]
  },
  {
   "cell_type": "markdown",
   "metadata": {},
   "source": [
    "<a id='Feature Preparation'></a>\n",
    "### Feature Preparation\n",
    "\n",
    "Out of the dataset attributes provided, there are three attributes that are the object type that must be converted to numerical features in order to use the classification methods to train the model. This will be accomplished by Label Encoding the dataset, which will convert all of the attributes to a numerical scale. "
   ]
  },
  {
   "cell_type": "code",
   "execution_count": 31,
   "metadata": {},
   "outputs": [],
   "source": [
    "#Creates instance of OrdinalEncoder class which is actually label encoding\n",
    "encoder = OrdinalEncoder()\n",
    "#Tunes and transforms data to a new data frame\n",
    "data_ordinal = pd.DataFrame(encoder.fit_transform(data), columns = data.columns)"
   ]
  },
  {
   "cell_type": "markdown",
   "metadata": {},
   "source": [
    "Now that the features are in a workable format for the classification methods, the data set can be separated into the features and target, and be separated into three different datasets: a training dataset, validation dataset, and testing dataset. The original dataset is split into a 3:1:1 ratio for the training, validating, and testing datasets, respectively."
   ]
  },
  {
   "cell_type": "code",
   "execution_count": 32,
   "metadata": {},
   "outputs": [],
   "source": [
    "#Splits the original dataset into 60% training, 40% leftover\n",
    "data_train, data_valid_test = train_test_split(data_ordinal, test_size = 0.4, random_state=12345)\n",
    "#Splits the leftover dataset into 50% validating, 50% testing for 20%/20% overall\n",
    "data_valid, data_test = train_test_split(data_valid_test, test_size = 0.5, random_state=12345)"
   ]
  },
  {
   "cell_type": "markdown",
   "metadata": {},
   "source": [
    "Since the goal of this model is to predict whether or not a customer will soon exit their contract with the bank, the `Exited` attribute is the target and the remaining attributes are the features. The size of each dataset is output to verify that each dataset contains the appropriate number of entries."
   ]
  },
  {
   "cell_type": "code",
   "execution_count": 33,
   "metadata": {},
   "outputs": [
    {
     "name": "stdout",
     "output_type": "stream",
     "text": [
      "(6000, 13)\n",
      "(2000, 13)\n",
      "(2000, 13)\n"
     ]
    }
   ],
   "source": [
    "#Creates features and targets of each dataset\n",
    "features_train = data_train.drop('Exited', axis=1)\n",
    "target_train = data_train['Exited']\n",
    "print(features_train.shape)\n",
    "\n",
    "features_valid = data_valid.drop('Exited', axis=1)\n",
    "target_valid = data_valid['Exited']\n",
    "print(features_valid.shape)\n",
    "\n",
    "features_test = data_test.drop('Exited', axis=1)\n",
    "target_test = data_test['Exited']\n",
    "print(features_test.shape)"
   ]
  },
  {
   "cell_type": "markdown",
   "metadata": {},
   "source": [
    "The training, validation, and testing datasets are created, the appropriate sample size of each dataset is verified, and the targets and features defined for each. Since each of the features have different scales for their range of values, and thus different levels of importance to the model, the features for each dataset must be scaled to ensure equal importance. The numerical attributes that most affect whether a customer will exit their bank contract and must be standardized are `CreditScore`, `Age`, `Balance`, `NumOfProducts`, and `EstimatedSalary`. The data is tuned with the variance and standard deviation of the training data set."
   ]
  },
  {
   "cell_type": "code",
   "execution_count": 34,
   "metadata": {},
   "outputs": [],
   "source": [
    "#Creates list of all numeric features that must be scaled.\n",
    "numeric = ['CreditScore', 'Age', 'Tenure', 'Balance', 'NumOfProducts', 'EstimatedSalary']\n",
    "\n",
    "scaler = StandardScaler()\n",
    "scaler.fit(features_train[numeric])\n",
    "\n",
    "features_train[numeric] = scaler.transform(features_train[numeric])\n",
    "features_valid[numeric] = scaler.transform(features_valid[numeric])\n",
    "features_test[numeric] = scaler.transform(features_test[numeric])\n",
    "\n",
    "pd.options.mode.chained_assignment = None"
   ]
  },
  {
   "cell_type": "markdown",
   "metadata": {},
   "source": [
    "<a id='Model Development'></a>\n",
    "## Model Development\n",
    "<a id='Class Balance'></a>\n",
    "### Class Balance\n",
    "\n",
    "Prior to training the model, the distribution of customers that left their bank contract vs. customer's that have not exited is determined to understand the balance of classes in the training data."
   ]
  },
  {
   "cell_type": "code",
   "execution_count": 35,
   "metadata": {},
   "outputs": [
    {
     "data": {
      "text/plain": [
       "0.0    4804\n",
       "1.0    1196\n",
       "Name: Exited, dtype: int64"
      ]
     },
     "execution_count": 35,
     "metadata": {},
     "output_type": "execute_result"
    }
   ],
   "source": [
    "#Counts number of customers that have and have not exited.\n",
    "target_train.value_counts()"
   ]
  },
  {
   "cell_type": "markdown",
   "metadata": {},
   "source": [
    "Approximately 80% of the training dataset consists of customers that have not left their bank contract which clearly represents a significant imbalance of classes. Initially, the model will be trained without fixing the imbalance. However, the imbalance will be fixed and the model retrained to determine how this impacts the quality of the model.\n",
    "<a id='Imbalanced Model Training'></a>\n",
    "### Imbalanced Model Training\n",
    "\n",
    "Three types of classification models will be trained with varying hyperparameters: Logistic Regression, Decision Tree, and Random Forest. The F1 Score will be calculated for each to help determine which model should be selected for the best quality. As previously mentioned, these models will be trained on the imbalanced data, so the results of these will be utilized more for determining the effect balancing the data has on the model quality.\n",
    "\n",
    "#### Logistic Regression Model\n",
    "\n",
    "For the logistic regression model, two hyperparameters will be altered: the `C` parameter (inverse regularization) and the `penalty` parameter. For the C parameter, a range of regularization values from very small (0.01) to very large (100) are selected, including 1 (neutral) to determine how it affects overfitting. For the penalty parameter, Lasso Regression (l1) and Ridge Regression (l2) are the two options evaluated."
   ]
  },
  {
   "cell_type": "code",
   "execution_count": 36,
   "metadata": {},
   "outputs": [
    {
     "name": "stdout",
     "output_type": "stream",
     "text": [
      "The best linear regression model has an F1 Score of 0.27, with the following hyperparameters: C Value: 100,  Penalty: l1\n"
     ]
    }
   ],
   "source": [
    "#Sets a baseline score to compare model F1 scores\n",
    "best_lr_score = 0\n",
    "best_lr_hypers = [0, 0]\n",
    "\n",
    "#Loops through 6 different c values and 2 different regression regularizations and outputs the F1 Score\n",
    "for c_value in [0.01, 0.1, 0.5, 1, 10, 100]:\n",
    "    for penalty in ['l1','l2']:\n",
    "        logistic_regression_model = LogisticRegression(random_state = 12345, penalty=penalty, C = c_value, solver = 'liblinear')\n",
    "        logistic_regression_model.fit(features_train, target_train)\n",
    "        logistic_regression_predicted = logistic_regression_model.predict(features_valid)\n",
    "        if f1_score(target_valid, logistic_regression_predicted) > best_lr_score:\n",
    "            best_lr_score = f1_score(target_valid, logistic_regression_predicted)\n",
    "            best_lr_hypers = [c_value, penalty]\n",
    "        \n",
    "print(\"The best linear regression model has an F1 Score of {:.2f}, with the following hyperparameters: C Value: {},  Penalty: {}\".format(best_lr_score, best_lr_hypers[0], best_lr_hypers[1]))"
   ]
  },
  {
   "cell_type": "markdown",
   "metadata": {},
   "source": [
    "#### Decision Tree Model\n",
    "\n",
    "For the Decision Tree model, only the `max_depth` hyperparameter will be altered from values between 2 and 8."
   ]
  },
  {
   "cell_type": "code",
   "execution_count": 37,
   "metadata": {},
   "outputs": [
    {
     "name": "stdout",
     "output_type": "stream",
     "text": [
      "The best decision tree model has an F1 Score of 0.55, with a max_depth of 4.\n"
     ]
    }
   ],
   "source": [
    "#Sets a baseline score to compare model F1 scores\n",
    "best_dt_score = 0\n",
    "best_dt_hyper = 0\n",
    "\n",
    "#Loops through a max_depth from 2 to 8. Calculates F1 Score for each\n",
    "for depth in range (2,9):\n",
    "    decision_tree_model = DecisionTreeClassifier(max_depth=depth, random_state=12345)\n",
    "    decision_tree_model.fit(features_train, target_train)\n",
    "    decision_tree_predicted = decision_tree_model.predict(features_valid)\n",
    "    if f1_score(target_valid, decision_tree_predicted) > best_dt_score:\n",
    "            best_dt_score = f1_score(target_valid, decision_tree_predicted)\n",
    "            best_dt_hyper = depth\n",
    "\n",
    "print(\"The best decision tree model has an F1 Score of {:.2f}, with a max_depth of {}.\".format(best_dt_score, best_dt_hyper))"
   ]
  },
  {
   "cell_type": "markdown",
   "metadata": {},
   "source": [
    "#### Random Forest Model\n",
    "\n",
    "For the Random Forest model, two hyperparameters will be altered: the `n_estimators` parameter and the `max_depth` parameter. The number of trees (`n_estimators`) is varied from 10 to 50 in increments of 10. The `max_depth` parameter is varied from 2 to 10 in increments of 2."
   ]
  },
  {
   "cell_type": "code",
   "execution_count": 38,
   "metadata": {},
   "outputs": [
    {
     "name": "stdout",
     "output_type": "stream",
     "text": [
      "The best random forest model has an F1 Score of 0.55, with the following hyperparameters: n_estimators: 40,  max_depth: 10.\n"
     ]
    }
   ],
   "source": [
    "#Sets a baseline score to compare model F1 scores\n",
    "best_rf_score = 0\n",
    "best_rf_hypers = [0, 0]\n",
    "\n",
    "#Loops through n_estimators of 10, 20, 30, 40, and 50, and max_depth of 2, 4, 6, 8, and 10. Calculates F1 Score for each\n",
    "for tree in range(10, 51, 10):\n",
    "    for depth in range(2, 11, 2):\n",
    "        random_forest_model = RandomForestClassifier(n_estimators = tree, max_depth = depth, random_state=12345)\n",
    "        random_forest_model.fit(features_train, target_train)\n",
    "        random_forest_predicted = random_forest_model.predict(features_valid)\n",
    "        if f1_score(target_valid, random_forest_predicted) > best_rf_score:\n",
    "            best_rf_score = f1_score(target_valid, random_forest_predicted)\n",
    "            best_rf_hypers = [tree, depth] \n",
    "    \n",
    "print(\"The best random forest model has an F1 Score of {:.2f}, with the following hyperparameters: n_estimators: {},  max_depth: {}.\".format(best_rf_score, best_rf_hypers[0], best_rf_hypers[1]))"
   ]
  },
  {
   "cell_type": "markdown",
   "metadata": {},
   "source": [
    "#### Imbalance Class Model Conclusion\n",
    "\n",
    "Using the imbalanced training dataset resulted in a wide range of F1 Scores. The logistic regression model had the lowest F1 Scores ranging from 0.19 to 0.27. Since these scores are far from the minimum required scores, this type of model does not need to be retrained with balanced classes since it is not expected to make a significant enough difference to be considered acceptable. The decision tree model had much better F1 Scores ranging from 0.42 to 0.55, which are borderline acceptable. The decision tree model will be retrained after balancing the classes. The random forest model had a wide range of F1 Scores from 0.11 to 0.55. The highest F1 Scores were at a `max_depth` of 6 and greater, so this range of hyperparameters will be focused when this model is retrained after balancing the classes. \n",
    "\n",
    "<a id='Class Balancing'></a>\n",
    "### Class Balancing\n",
    "\n",
    "With a baseline F1 Score determined for the decision tree and random forest models of interest for the imbalanced class data, the balancing can be fixed to determine the effect on the F1 Score. Class balancing will be done by two methods: setting the `class_weight` argument to 'balanced', and upsampling the data. Downsampling the data is an alternate option; however, its effect is not expected to be much different than the upsampling method due to the nature of the functions used to alter the data. The hyperparameters resulting in the highest F1 Score as determined above will only be used for this evaluation.\n",
    "\n",
    "#### `class_weight`\n",
    "\n",
    "**Decision Tree Model**"
   ]
  },
  {
   "cell_type": "code",
   "execution_count": 39,
   "metadata": {},
   "outputs": [
    {
     "name": "stdout",
     "output_type": "stream",
     "text": [
      "max_depth: 2   F1 Score: 0.54\n",
      "max_depth: 3   F1 Score: 0.54\n",
      "max_depth: 4   F1 Score: 0.52\n",
      "max_depth: 5   F1 Score: 0.58\n",
      "max_depth: 6   F1 Score: 0.55\n",
      "max_depth: 7   F1 Score: 0.52\n",
      "max_depth: 8   F1 Score: 0.52\n",
      "\n"
     ]
    }
   ],
   "source": [
    "#Loops through a max_depth from 2 to 8. Calculates F1 Score for each\n",
    "for depth in range (2,9):\n",
    "    decision_tree_model = DecisionTreeClassifier(max_depth=depth, class_weight = 'balanced', random_state=12345)\n",
    "    decision_tree_model.fit(features_train, target_train)\n",
    "    decision_tree_predicted = decision_tree_model.predict(features_valid)\n",
    "    print(\"max_depth:\",depth,\"  F1 Score: {:.2f}\".format(f1_score(target_valid, decision_tree_predicted)))\n",
    "print('')"
   ]
  },
  {
   "cell_type": "markdown",
   "metadata": {},
   "source": [
    "**Random Forest Model**"
   ]
  },
  {
   "cell_type": "code",
   "execution_count": 40,
   "metadata": {},
   "outputs": [
    {
     "name": "stdout",
     "output_type": "stream",
     "text": [
      "n_estimators: 10   max_depth: 6   F1 Score: 0.57\n",
      "n_estimators: 10   max_depth: 8   F1 Score: 0.58\n",
      "n_estimators: 10   max_depth: 10   F1 Score: 0.56\n",
      "\n",
      "n_estimators: 20   max_depth: 6   F1 Score: 0.61\n",
      "n_estimators: 20   max_depth: 8   F1 Score: 0.60\n",
      "n_estimators: 20   max_depth: 10   F1 Score: 0.57\n",
      "\n",
      "n_estimators: 30   max_depth: 6   F1 Score: 0.61\n",
      "n_estimators: 30   max_depth: 8   F1 Score: 0.61\n",
      "n_estimators: 30   max_depth: 10   F1 Score: 0.57\n",
      "\n",
      "n_estimators: 40   max_depth: 6   F1 Score: 0.61\n",
      "n_estimators: 40   max_depth: 8   F1 Score: 0.61\n",
      "n_estimators: 40   max_depth: 10   F1 Score: 0.58\n",
      "\n",
      "n_estimators: 50   max_depth: 6   F1 Score: 0.60\n",
      "n_estimators: 50   max_depth: 8   F1 Score: 0.62\n",
      "n_estimators: 50   max_depth: 10   F1 Score: 0.58\n",
      "\n"
     ]
    }
   ],
   "source": [
    "#Loops through n_estimators of 10, 20, 30, 40, and 50, and max_depth of 6, 8, and 10. Calculates F1 Score for each\n",
    "for tree in range(10, 51, 10):\n",
    "    for depth in range(6, 11, 2):\n",
    "        random_forest_model = RandomForestClassifier(n_estimators = tree, class_weight = 'balanced', max_depth = depth, random_state=12345)\n",
    "        random_forest_model.fit(features_train, target_train)\n",
    "        random_forest_predicted = random_forest_model.predict(features_valid)\n",
    "        print(\"n_estimators:\", tree, '  max_depth:', depth, '  F1 Score: {:.2f}'.format(f1_score(target_valid, random_forest_predicted)))\n",
    "    print('')"
   ]
  },
  {
   "cell_type": "markdown",
   "metadata": {},
   "source": [
    "**`class_weight` Conclusion**\n",
    "\n",
    "Setting the `class_weight` equal to balanced made a fairly noticeable difference in the F1 Score for both models. For the decision tree, the F1 Score at a `max_depth` of 5 improved to 0.58 from 0.52 and from 0.42 to 0.54 at a `max_depth` of 3. The other iterations had slight to no improvement in F1 Score. For the random forest model, F1 Score increased by 0.10 for nearly each iteration at a `max_depth` of 6 and 8. The highest F1 Score was 0.62.\n",
    "\n",
    "Based on this evaluation, balancing the classes is critical in developing a model with an acceptable F1 Score.\n",
    "\n",
    "#### Upsampling\n",
    "\n",
    "Upsampling of the data will be performed by making the rarer target occurrences, customer's who exited their contract in this case, more frequent. A function will be created to create a new training sample with an increased number of positive target occurrences, and then this training sample will be used to train the models of interest. The number of positive targets will be increased by a factor of 4 since the initial distribution for the rarer target occurrences was 20% of the overall dataset. To limit the required time to train the model and output the results, and better understand the effect of the repeat factor for upsampling only a `max_depth` of 5 and 6 is used for the decision tree and an `n_estimators` of 40 and 50 are used as these seem to represent the overall highest F1 Scores."
   ]
  },
  {
   "cell_type": "code",
   "execution_count": 41,
   "metadata": {},
   "outputs": [],
   "source": [
    "#Purposes of this function is to separate the targets and features into TP, TN, FP and FN. TP features and targets will be multiplied\n",
    "# by the repeat factor to increase the occurrences of positive targets. The upsampled features and targets will be shuffled prior to\n",
    "#returning them to the model for training\n",
    "def upsample(features, target, repeat):\n",
    "    features_zeros = features[target == 0]\n",
    "    features_ones = features[target == 1]\n",
    "    target_zeros = target[target == 0]\n",
    "    target_ones = target[target == 1]\n",
    "\n",
    "    features_upsampled = pd.concat([features_zeros] + [features_ones] * repeat)\n",
    "    target_upsampled = pd.concat([target_zeros] + [target_ones] * repeat)\n",
    "    \n",
    "    features_upsampled, target_upsampled = shuffle(\n",
    "        features_upsampled, target_upsampled, random_state=12345)\n",
    "    \n",
    "    return features_upsampled, target_upsampled"
   ]
  },
  {
   "cell_type": "markdown",
   "metadata": {},
   "source": [
    "**Decision Tree Model**"
   ]
  },
  {
   "cell_type": "code",
   "execution_count": 42,
   "metadata": {},
   "outputs": [
    {
     "name": "stdout",
     "output_type": "stream",
     "text": [
      "Upsample Factor: 4 max_depth: 5   F1 Score: 0.58\n",
      "Upsample Factor: 4 max_depth: 6   F1 Score: 0.55\n",
      "\n"
     ]
    }
   ],
   "source": [
    "#Loops through a max_depth from 2 to 8 and a repeat factor of 4. Calculates F1 Score for each\n",
    "features_upsampled, target_upsampled = upsample(features_train, target_train, 4)\n",
    "for depth in range (5,7):\n",
    "    decision_tree_model = DecisionTreeClassifier(max_depth=depth, random_state=12345)\n",
    "    decision_tree_model.fit(features_upsampled, target_upsampled)\n",
    "    decision_tree_predicted = decision_tree_model.predict(features_valid)\n",
    "    print(\"Upsample Factor: 4\", \"max_depth:\",depth,\"  F1 Score: {:.2f}\".format(f1_score(target_valid, decision_tree_predicted)))\n",
    "print('')"
   ]
  },
  {
   "cell_type": "markdown",
   "metadata": {},
   "source": [
    "**Random Forest Model**"
   ]
  },
  {
   "cell_type": "code",
   "execution_count": 43,
   "metadata": {},
   "outputs": [
    {
     "name": "stdout",
     "output_type": "stream",
     "text": [
      "Upsample Factor: 4 n_estimators: 40   max_depth: 6   F1 Score: 0.60\n",
      "Upsample Factor: 4 n_estimators: 40   max_depth: 8   F1 Score: 0.59\n",
      "Upsample Factor: 4 n_estimators: 40   max_depth: 10   F1 Score: 0.61\n",
      "\n",
      "Upsample Factor: 4 n_estimators: 50   max_depth: 6   F1 Score: 0.61\n",
      "Upsample Factor: 4 n_estimators: 50   max_depth: 8   F1 Score: 0.60\n",
      "Upsample Factor: 4 n_estimators: 50   max_depth: 10   F1 Score: 0.61\n",
      "\n"
     ]
    }
   ],
   "source": [
    "#Loops through n_estimators of 10, 20, 30, 40, and 50, a max_depth of 6, 8, and 10, and a repeat factor of 4. Calculates F1 Score for each\n",
    "features_upsampled, target_upsampled = upsample(features_train, target_train, 4)\n",
    "for tree in range(40, 51, 10):\n",
    "    for depth in range(6, 11, 2):\n",
    "        random_forest_model = RandomForestClassifier(n_estimators = tree, max_depth = depth, random_state=12345)\n",
    "        random_forest_model.fit(features_upsampled, target_upsampled)\n",
    "        random_forest_predicted = random_forest_model.predict(features_valid)\n",
    "        print(\"Upsample Factor: 4\", \"n_estimators:\", tree, '  max_depth:', depth, '  F1 Score: {:.2f}'.format(f1_score(target_valid, random_forest_predicted)))\n",
    "    print('')"
   ]
  },
  {
   "cell_type": "markdown",
   "metadata": {},
   "source": [
    "**Upsampling Conclusion**\n",
    "\n",
    "Upsampling the rarer target occurrences made a fairly noticeable difference in the F1 Score for both models, similar to the `class_weight` balancing. Both models improved to a F1 Score that were similar to the F1 Scores of the `class_weight` balancing models, with the upsampling seeming to have a more consistent increase for all variations of the hyperparameters.\n",
    "\n",
    "Based on this evaluation, balancing the classes is required in order to develop a model with an F1 Score that meets the requirements.\n",
    "\n",
    "<a id='Final Model Selection and Training'></a>\n",
    "## Final Model Selection and Training\n",
    "\n",
    "Based on the various model results from Section 4, it is crucial to balance the classes prior to training the model. Setting the `class_weight` equal to 'balanced' will be the selected method for balancing the classes due to the simplicity in integrating it into the selected model. From the various models and hyperparameters tested, the random forest model with 50 `n_estimators` and a `max_depth` of 8 resulted in the highest F1 Score. This model will be trained on the training and validation data and will be tested on the testing dataset to ensure it is acceptable for the bank's prediction."
   ]
  },
  {
   "cell_type": "code",
   "execution_count": 44,
   "metadata": {},
   "outputs": [],
   "source": [
    "#Combines training and validation datasets back into one\n",
    "features_train_test = pd.concat([features_train, features_valid])\n",
    "target_train_test = pd.concat([target_train, target_valid])"
   ]
  },
  {
   "cell_type": "code",
   "execution_count": 45,
   "metadata": {},
   "outputs": [
    {
     "name": "stdout",
     "output_type": "stream",
     "text": [
      "The F1 Score of the model is 0.59.\n"
     ]
    }
   ],
   "source": [
    "#Calculate F1 Score of the Random Forest Model using the testing dataset. Hyperparameters of the most accurate model used.\n",
    "random_forest_model_test = RandomForestClassifier(n_estimators = 50, max_depth = 8, class_weight = 'balanced', random_state=12345)\n",
    "random_forest_model_test.fit(features_train_test, target_train_test)\n",
    "random_forest_model_test_predicted = random_forest_model_test.predict(features_test)\n",
    "print(\"The F1 Score of the model is {:.2}.\".format(f1_score(target_test, random_forest_model_test_predicted)))"
   ]
  },
  {
   "cell_type": "markdown",
   "metadata": {},
   "source": [
    "Although the F1 Score of the model meets the required value, the model will still be sanity checked against a random answer model by comparing the Receiver Operating Characteristic (ROC) curves and then calculating the area under curve (AUC) ROC."
   ]
  },
  {
   "cell_type": "code",
   "execution_count": 46,
   "metadata": {},
   "outputs": [
    {
     "data": {
      "image/png": "[encoded data removed]",
      "text/plain": [
       "<Figure size 432x288 with 1 Axes>"
      ]
     },
     "metadata": {
      "needs_background": "light"
     },
     "output_type": "display_data"
    }
   ],
   "source": [
    "#Calculates the ROC for the model for the testing data set\n",
    "probabilities_test = random_forest_model_test.predict_proba(features_test)\n",
    "probabilities_one_test = probabilities_test[:, 1]\n",
    "\n",
    "fpr, tpr, thresholds = roc_curve(target_test, probabilities_one_test)\n",
    "\n",
    "plt.figure()\n",
    "plt.plot(fpr, tpr)\n",
    "plt.xlim([0.0, 1.0])\n",
    "plt.ylim([0.0, 1.0])\n",
    "plt.xlabel('False Positive Rate')\n",
    "plt.ylabel('True Positive Rate')\n",
    "plt.title('ROC curve')\n",
    "\n",
    "# ROC curve for random model\n",
    "plt.plot([0, 1], [0, 1], linestyle='--')\n",
    "\n",
    "plt.show()"
   ]
  },
  {
   "cell_type": "code",
   "execution_count": 47,
   "metadata": {},
   "outputs": [
    {
     "name": "stdout",
     "output_type": "stream",
     "text": [
      "The AUC-ROC for the selected model is 0.848.\n"
     ]
    }
   ],
   "source": [
    "#Calculates AUC-ROC\n",
    "auc_roc = roc_auc_score(target_test, probabilities_one_test)\n",
    "\n",
    "print('The AUC-ROC for the selected model is {:.3f}.'.format(auc_roc))"
   ]
  },
  {
   "cell_type": "markdown",
   "metadata": {},
   "source": [
    "The selected model has an AUC-ROC of 0.848 which is well above the AUC-ROC of the random answer model (0.5). The model has met the required F1 Score and has passed the sanity check.\n",
    "<a id='Conclusion'></a>\n",
    "## Conclusion\n",
    "\n",
    "The purpose of this project was to develop a model that predicts whether a Beta Bank customer will leave the bank soon. The model was trained based on data from previous clients' behavior and past terminations, split into three separate datasets: a training, validation, and testing dataset. The model quality was quantified based on the F1 Score.\n",
    "\n",
    "The model was initially trained with the raw dataset, which was severeley imbalanced. However, this resulted in an F1 Score well below the required value. Class balancing was fixed via two methods: setting the `class_weight` equal to 'balanced', and by upsampling the positive target data. Retraining the model with the balanced data increased the quality of the models and resulted in an acceptable F1 Score.\n",
    "\n",
    "From the various iterations of Random Forest and Decision Tree models trained and tested against the validation dataset, a Random Forest model with 40 `n_estimators` and a `max_depth` of 8 proved to have the highest F1 Score on the validation dataset. This specific model was trained on the combined training and validation datasets and then tested against the testing dataset, resulting in an acceptable F1 Score of 0.59. To confirm the model quality was accurate, the AUC-ROC was plotted and compared to a random answer model, which verified the model's quality."
   ]
  }
 ],
 "metadata": {
  "kernelspec": {
   "display_name": "Python 3",
   "language": "python",
   "name": "python3"
  },
  "language_info": {
   "codemirror_mode": {
    "name": "ipython",
    "version": 3
   },
   "file_extension": ".py",
   "mimetype": "text/x-python",
   "name": "python",
   "nbconvert_exporter": "python",
   "pygments_lexer": "ipython3",
   "version": "3.7.8"
  },
  "toc": {
   "base_numbering": 1,
   "nav_menu": {},
   "number_sections": true,
   "sideBar": true,
   "skip_h1_title": true,
   "title_cell": "Table of Contents",
   "title_sidebar": "Contents",
   "toc_cell": false,
   "toc_position": {},
   "toc_section_display": true,
   "toc_window_display": false
  }
 },
 "nbformat": 4,
 "nbformat_minor": 2
}
